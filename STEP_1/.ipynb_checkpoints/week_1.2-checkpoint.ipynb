{
 "cells": [
  {
   "cell_type": "markdown",
   "id": "247b8d6c",
   "metadata": {},
   "source": [
    "### 1주차 : if\n",
    "#### 1. 1330"
   ]
  },
  {
   "cell_type": "code",
   "execution_count": 12,
   "id": "4b65a838",
   "metadata": {},
   "outputs": [
    {
     "name": "stdout",
     "output_type": "stream",
     "text": [
      "5 5\n",
      "==\n"
     ]
    }
   ],
   "source": [
    "a,b = input().split()\n",
    "a = int(a)\n",
    "b = int(b)\n",
    "\n",
    "if a<b:\n",
    "    print('<')\n",
    "elif a>b:\n",
    "    print('>')\n",
    "else : \n",
    "    print('==')"
   ]
  },
  {
   "cell_type": "markdown",
   "id": "9dede67f",
   "metadata": {},
   "source": [
    "#### 2. 9498"
   ]
  },
  {
   "cell_type": "code",
   "execution_count": 13,
   "id": "715d3144",
   "metadata": {},
   "outputs": [
    {
     "name": "stdout",
     "output_type": "stream",
     "text": [
      "100\n",
      "A\n"
     ]
    }
   ],
   "source": [
    "a = int(input())\n",
    "\n",
    "if a>=90:\n",
    "    print('A')\n",
    "elif a>=80:\n",
    "    print('B')\n",
    "elif a>=70:\n",
    "    print('C')\n",
    "elif a>=60:\n",
    "    print('D')\n",
    "else :\n",
    "    print('F')"
   ]
  },
  {
   "cell_type": "markdown",
   "id": "183ea470",
   "metadata": {},
   "source": [
    "#### 3. 2753"
   ]
  },
  {
   "cell_type": "code",
   "execution_count": 16,
   "id": "0156058c",
   "metadata": {},
   "outputs": [
    {
     "name": "stdout",
     "output_type": "stream",
     "text": [
      "1999\n",
      "0\n"
     ]
    }
   ],
   "source": [
    "a = int(input())\n",
    "\n",
    "if (a%4 == 0) and (a%100 !=0) or (a%400 == 0):\n",
    "    print(1)\n",
    "else:\n",
    "    print(0)"
   ]
  },
  {
   "cell_type": "markdown",
   "id": "fce10d27",
   "metadata": {},
   "source": [
    "#### 4. 14681"
   ]
  },
  {
   "cell_type": "code",
   "execution_count": 18,
   "id": "88b4a1e9",
   "metadata": {},
   "outputs": [
    {
     "name": "stdout",
     "output_type": "stream",
     "text": [
      "9\n",
      "-13\n",
      "4\n"
     ]
    }
   ],
   "source": [
    "a = int(input())\n",
    "b = int(input())\n",
    "\n",
    "if a>0 and b>0:\n",
    "    print(1)\n",
    "elif a>0 and b<0:\n",
    "    print(4)\n",
    "elif a<0 and b>0:\n",
    "    print(2)\n",
    "else :\n",
    "    print(3)"
   ]
  },
  {
   "cell_type": "markdown",
   "id": "eec3393e",
   "metadata": {},
   "source": [
    "#### 5. 2884"
   ]
  },
  {
   "cell_type": "code",
   "execution_count": 33,
   "id": "1f6bcd5f",
   "metadata": {},
   "outputs": [
    {
     "name": "stdout",
     "output_type": "stream",
     "text": [
      "23 40\n",
      "22 55\n"
     ]
    }
   ],
   "source": [
    "H,M = input().split()\n",
    "H = int(H)\n",
    "M = int(M)\n",
    "\n",
    "if M<45:\n",
    "    H = H-1\n",
    "    M = M+60-45\n",
    "    if H < 0 :\n",
    "        H = 23\n",
    "        print(H,M)\n",
    "    else:\n",
    "        print(H,M)\n",
    "    \n",
    "else :\n",
    "    H = H\n",
    "    M = M-45\n",
    "    print(H, M)"
   ]
  }
 ],
 "metadata": {
  "kernelspec": {
   "display_name": "Python 3 (ipykernel)",
   "language": "python",
   "name": "python3"
  },
  "language_info": {
   "codemirror_mode": {
    "name": "ipython",
    "version": 3
   },
   "file_extension": ".py",
   "mimetype": "text/x-python",
   "name": "python",
   "nbconvert_exporter": "python",
   "pygments_lexer": "ipython3",
   "version": "3.8.8"
  }
 },
 "nbformat": 4,
 "nbformat_minor": 5
}
