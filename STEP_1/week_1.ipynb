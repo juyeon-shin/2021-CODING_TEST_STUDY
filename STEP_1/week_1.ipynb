{
 "cells": [
  {
   "cell_type": "markdown",
   "id": "304738c0",
   "metadata": {},
   "source": [
    "### 1주차 : 입출력과 사칙연산\n",
    "#### 1 : https://www.acmicpc.net/problem/2557"
   ]
  },
  {
   "cell_type": "code",
   "execution_count": 2,
   "id": "2b1d3442",
   "metadata": {},
   "outputs": [
    {
     "name": "stdout",
     "output_type": "stream",
     "text": [
      "Hello World!\n"
     ]
    }
   ],
   "source": [
    "print(\"Hello World!\")"
   ]
  },
  {
   "cell_type": "markdown",
   "id": "1f34adb4",
   "metadata": {},
   "source": [
    "#### 2 : https://www.acmicpc.net/problem/10718"
   ]
  },
  {
   "cell_type": "code",
   "execution_count": 3,
   "id": "3471f134",
   "metadata": {},
   "outputs": [
    {
     "name": "stdout",
     "output_type": "stream",
     "text": [
      "강한친구 대한육군\n",
      "강한친구 대한육군\n"
     ]
    }
   ],
   "source": [
    "print(\"강한친구 대한육군\")\n",
    "print(\"강한친구 대한육군\")"
   ]
  },
  {
   "cell_type": "markdown",
   "id": "7921719a",
   "metadata": {},
   "source": [
    "#### 3 : https://www.acmicpc.net/problem/10171"
   ]
  },
  {
   "cell_type": "code",
   "execution_count": 17,
   "id": "fa44b047",
   "metadata": {},
   "outputs": [
    {
     "name": "stdout",
     "output_type": "stream",
     "text": [
      "\\    /\\ \n",
      " )  ( ')\n",
      "(  /  )\n",
      " \\(__)|\n"
     ]
    }
   ],
   "source": [
    "print(\"\\    /\\ \")\n",
    "print(\" )  ( ')\")\n",
    "print(\"(  /  )\")\n",
    "print(\" \\(__)|\")"
   ]
  },
  {
   "cell_type": "markdown",
   "id": "8c6e60cf",
   "metadata": {},
   "source": [
    "#### 4 : https://www.acmicpc.net/problem/10172"
   ]
  },
  {
   "cell_type": "code",
   "execution_count": 28,
   "id": "215ccbe0",
   "metadata": {},
   "outputs": [
    {
     "name": "stdout",
     "output_type": "stream",
     "text": [
      "|\\_/| \n",
      "|q p|   /} \n",
      "( 0 )\"\"\"\\ \n",
      "|\"^\"`    |\n",
      "||_/=\\__|\n"
     ]
    }
   ],
   "source": [
    "print('|\\_/| \\n|q p|   /} \\n( 0 )\"\"\"\\ \\n|\"^\"`    |\\n||_/=\\\\\\__|')"
   ]
  },
  {
   "cell_type": "code",
   "execution_count": null,
   "id": "05afbc72",
   "metadata": {},
   "outputs": [],
   "source": []
  }
 ],
 "metadata": {
  "kernelspec": {
   "display_name": "Python [conda env:root] *",
   "language": "python",
   "name": "conda-root-py"
  },
  "language_info": {
   "codemirror_mode": {
    "name": "ipython",
    "version": 3
   },
   "file_extension": ".py",
   "mimetype": "text/x-python",
   "name": "python",
   "nbconvert_exporter": "python",
   "pygments_lexer": "ipython3",
   "version": "3.8.8"
  }
 },
 "nbformat": 4,
 "nbformat_minor": 5
}
