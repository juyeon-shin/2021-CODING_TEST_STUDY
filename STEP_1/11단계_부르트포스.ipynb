{
 "cells": [
  {
   "cell_type": "markdown",
   "id": "fb454316",
   "metadata": {},
   "source": [
    "### 11단계 : 부르트 포스"
   ]
  },
  {
   "cell_type": "markdown",
   "id": "ac497f75",
   "metadata": {},
   "source": [
    "#### 1 : 2798"
   ]
  },
  {
   "cell_type": "code",
   "execution_count": 12,
   "id": "c968d987",
   "metadata": {},
   "outputs": [
    {
     "name": "stdout",
     "output_type": "stream",
     "text": [
      "10 500\n",
      "93 181 245 214 315 36 185 138 216 295\n",
      "497\n"
     ]
    }
   ],
   "source": [
    "n,m = map(int,input().split(' '))\n",
    "A = list(map(int,input().split(' ')))\n",
    "b = []\n",
    "for i in A:\n",
    "    for j in A:\n",
    "        for k in A:\n",
    "            if i !=j and j!=k and i!=k:\n",
    "                if i+j+k > m:\n",
    "                    continue\n",
    "                elif i+j+k <= m:\n",
    "                    b.append(i+j+k)\n",
    "print(max(b))"
   ]
  },
  {
   "cell_type": "markdown",
   "id": "b225d521",
   "metadata": {},
   "source": [
    "#### 3 : 7568"
   ]
  },
  {
   "cell_type": "code",
   "execution_count": 31,
   "id": "a24c1be2",
   "metadata": {},
   "outputs": [
    {
     "name": "stdout",
     "output_type": "stream",
     "text": [
      "3\n",
      "55 185\n",
      "58 183\n",
      "88 186\n",
      "[(55, 185), (58, 183), (88, 186)]\n"
     ]
    }
   ],
   "source": [
    "n = int(input())\n",
    "a = []\n",
    "\n",
    "for i in range(n):\n",
    "    x,y = map(int,input().split(' '))\n",
    "    a.append((x,y))\n",
    "\n",
    "for i in a :\n",
    "    rank = 1\n",
    "    for j in a :\n",
    "        if i[0] < j[0] and i[1] < j[1] :\n",
    "            rank += 1 \n",
    "    print(rank, end= ' ')"
   ]
  },
  {
   "cell_type": "markdown",
   "id": "b6c88c9f",
   "metadata": {},
   "source": [
    "#### 5 : 1436"
   ]
  },
  {
   "cell_type": "code",
   "execution_count": 65,
   "id": "a6eaf6e2",
   "metadata": {},
   "outputs": [
    {
     "name": "stdout",
     "output_type": "stream",
     "text": [
      "3\n",
      "2666\n"
     ]
    }
   ],
   "source": [
    "n = int(input())\n",
    "\n",
    "if n < 6:\n",
    "    print((n-1)*1000+666)\n",
    "elif n <= 9:\n",
    "    print(666*10 + n)"
   ]
  },
  {
   "cell_type": "code",
   "execution_count": null,
   "id": "49ee9e6b",
   "metadata": {},
   "outputs": [],
   "source": [
    "6보다 작으면 앞에 붙음\n",
    "6보다 크고 9보다 작으면 뒤에 붙음"
   ]
  },
  {
   "cell_type": "code",
   "execution_count": 49,
   "id": "085008ac",
   "metadata": {},
   "outputs": [
    {
     "data": {
      "text/plain": [
       "6"
      ]
     },
     "execution_count": 49,
     "metadata": {},
     "output_type": "execute_result"
    }
   ],
   "source": [
    "16%10"
   ]
  },
  {
   "cell_type": "code",
   "execution_count": 84,
   "id": "f60ec037",
   "metadata": {},
   "outputs": [
    {
     "name": "stdout",
     "output_type": "stream",
     "text": [
      "11\n",
      "666\n"
     ]
    }
   ],
   "source": [
    "n = int(input())\n",
    "if n%10 < 6 :\n",
    "    print((n%10-1)*1000+666)"
   ]
  },
  {
   "cell_type": "code",
   "execution_count": 83,
   "id": "bef55e45",
   "metadata": {},
   "outputs": [
    {
     "name": "stdout",
     "output_type": "stream",
     "text": [
      "10\n",
      "6669\n"
     ]
    }
   ],
   "source": [
    "n = int(input())\n",
    "if n%10 >= 6 :\n",
    "    print(666*10+(n%10-1))\n",
    "elif n%10 == 0:\n",
    "    print(666*10+(9))"
   ]
  },
  {
   "cell_type": "code",
   "execution_count": 87,
   "id": "ecc15323",
   "metadata": {},
   "outputs": [
    {
     "name": "stdout",
     "output_type": "stream",
     "text": [
      "9\n"
     ]
    },
    {
     "data": {
      "text/plain": [
       "0"
      ]
     },
     "execution_count": 87,
     "metadata": {},
     "output_type": "execute_result"
    }
   ],
   "source": [
    "n = int(input())\n",
    "n//10*10"
   ]
  },
  {
   "cell_type": "code",
   "execution_count": 101,
   "id": "8045354e",
   "metadata": {},
   "outputs": [
    {
     "name": "stdout",
     "output_type": "stream",
     "text": [
      "95\n",
      "94666\n"
     ]
    }
   ],
   "source": [
    "n = int(input())\n",
    "if n%10 < 6 :\n",
    "    print((((n//10*10)+(n%10-1))*1000)+666)"
   ]
  },
  {
   "cell_type": "code",
   "execution_count": 64,
   "id": "1ae23c6a",
   "metadata": {},
   "outputs": [
    {
     "data": {
      "text/plain": [
       "0"
      ]
     },
     "execution_count": 64,
     "metadata": {},
     "output_type": "execute_result"
    }
   ],
   "source": [
    "6%6"
   ]
  },
  {
   "cell_type": "code",
   "execution_count": null,
   "id": "ec4520ca",
   "metadata": {},
   "outputs": [],
   "source": []
  }
 ],
 "metadata": {
  "kernelspec": {
   "display_name": "Python [conda env:root] *",
   "language": "python",
   "name": "conda-root-py"
  },
  "language_info": {
   "codemirror_mode": {
    "name": "ipython",
    "version": 3
   },
   "file_extension": ".py",
   "mimetype": "text/x-python",
   "name": "python",
   "nbconvert_exporter": "python",
   "pygments_lexer": "ipython3",
   "version": "3.8.8"
  }
 },
 "nbformat": 4,
 "nbformat_minor": 5
}
