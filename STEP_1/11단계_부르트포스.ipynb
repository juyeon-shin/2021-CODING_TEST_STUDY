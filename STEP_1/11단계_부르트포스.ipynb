{
 "cells": [
  {
   "cell_type": "markdown",
   "id": "fb454316",
   "metadata": {},
   "source": [
    "### 11단계 : 부르트 포스"
   ]
  },
  {
   "cell_type": "markdown",
   "id": "ac497f75",
   "metadata": {},
   "source": [
    "#### 1 : 2798"
   ]
  },
  {
   "cell_type": "code",
   "execution_count": 12,
   "id": "c968d987",
   "metadata": {},
   "outputs": [
    {
     "name": "stdout",
     "output_type": "stream",
     "text": [
      "10 500\n",
      "93 181 245 214 315 36 185 138 216 295\n",
      "497\n"
     ]
    }
   ],
   "source": [
    "n,m = map(int,input().split(' '))\n",
    "A = list(map(int,input().split(' ')))\n",
    "b = []\n",
    "for i in A:\n",
    "    for j in A:\n",
    "        for k in A:\n",
    "            if i !=j and j!=k and i!=k:\n",
    "                if i+j+k > m:\n",
    "                    continue\n",
    "                elif i+j+k <= m:\n",
    "                    b.append(i+j+k)\n",
    "print(max(b))"
   ]
  },
  {
   "cell_type": "markdown",
   "id": "b225d521",
   "metadata": {},
   "source": [
    "#### 3 : 7568"
   ]
  },
  {
   "cell_type": "code",
   "execution_count": 31,
   "id": "a24c1be2",
   "metadata": {},
   "outputs": [
    {
     "name": "stdout",
     "output_type": "stream",
     "text": [
      "3\n",
      "55 185\n",
      "58 183\n",
      "88 186\n",
      "[(55, 185), (58, 183), (88, 186)]\n"
     ]
    }
   ],
   "source": [
    "n = int(input())\n",
    "a = []\n",
    "\n",
    "for i in range(n):\n",
    "    x,y = map(int,input().split(' '))\n",
    "    a.append((x,y))\n",
    "\n",
    "for i in a :\n",
    "    rank = 1\n",
    "    for j in a :\n",
    "        if i[0] < j[0] and i[1] < j[1] :\n",
    "            rank += 1 \n",
    "    print(rank, end= ' ')"
   ]
  },
  {
   "cell_type": "markdown",
   "id": "b6c88c9f",
   "metadata": {},
   "source": [
    "#### 5 : 1436"
   ]
  },
  {
   "cell_type": "code",
   "execution_count": 65,
   "id": "a6eaf6e2",
   "metadata": {},
   "outputs": [
    {
     "name": "stdout",
     "output_type": "stream",
     "text": [
      "3\n",
      "2666\n"
     ]
    }
   ],
   "source": [
    "n = int(input())\n"
   ]
  },
  {
   "cell_type": "code",
   "execution_count": 121,
   "id": "fdbf9c92",
   "metadata": {},
   "outputs": [],
   "source": [
    "#오답\n",
    "def step_1(n):\n",
    "    n = int(n)\n",
    "    if n%10 < 6 :\n",
    "        return print((n%10-1)*1000+666)\n",
    "    elif n%10 >= 6 :\n",
    "        return print(666*10+(n%10-1))\n",
    "    \n",
    "def step_2(n):\n",
    "    if (int(n[-1])<int(n[0])*10+7) and (int(n[-1]) < int(n[0])*10):\n",
    "        return print((int(n)-1)*1000 + 666)\n",
    "    elif (int(n[-1])>=int(n[0])*10+7) and int(n[-1])<(int(n[0])*10+9):\n",
    "        return print((int(n)*10000 + 666*10 + (int(n)-1)))\n",
    "    elif int(n[-1]) == 0:\n",
    "        return print((int(n)-1)*10000 + 666*10 + 9)"
   ]
  },
  {
   "cell_type": "code",
   "execution_count": 139,
   "id": "4590d5d9",
   "metadata": {},
   "outputs": [
    {
     "name": "stdout",
     "output_type": "stream",
     "text": [
      "17\n",
      "7666\n"
     ]
    }
   ],
   "source": [
    "n = int(input())\n",
    "cnt = 0\n",
    "six_n = 666\n",
    "while True:\n",
    "    if '666' in str(six_n): \n",
    "        cnt += 1\n",
    "    if cnt == n:\n",
    "        print(six_n)\n",
    "        break\n",
    "    six_n += 1\n",
    "    \n",
    "'''\n",
    "n과 while문을 비교\n",
    "n을 이용해서 계산하는게 아님\n",
    "'''"
   ]
  },
  {
   "cell_type": "code",
   "execution_count": null,
   "id": "6f507243",
   "metadata": {},
   "outputs": [],
   "source": []
  }
 ],
 "metadata": {
  "kernelspec": {
   "display_name": "Python [conda env:root] *",
   "language": "python",
   "name": "conda-root-py"
  },
  "language_info": {
   "codemirror_mode": {
    "name": "ipython",
    "version": 3
   },
   "file_extension": ".py",
   "mimetype": "text/x-python",
   "name": "python",
   "nbconvert_exporter": "python",
   "pygments_lexer": "ipython3",
   "version": "3.8.8"
  }
 },
 "nbformat": 4,
 "nbformat_minor": 5
}
