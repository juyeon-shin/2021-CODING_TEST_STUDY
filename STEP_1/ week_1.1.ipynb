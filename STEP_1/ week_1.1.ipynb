{
 "cells": [
  {
   "cell_type": "markdown",
   "id": "304738c0",
   "metadata": {},
   "source": [
    "### 1주차 : 1. 입출력과 사칙연산\n",
    "#### 1. 2557"
   ]
  },
  {
   "cell_type": "code",
   "execution_count": 21,
   "id": "2b1d3442",
   "metadata": {},
   "outputs": [
    {
     "name": "stdout",
     "output_type": "stream",
     "text": [
      "Hello World!\n"
     ]
    }
   ],
   "source": [
    "print(\"Hello World!\")"
   ]
  },
  {
   "cell_type": "markdown",
   "id": "1f34adb4",
   "metadata": {},
   "source": [
    "#### 2. 10718"
   ]
  },
  {
   "cell_type": "code",
   "execution_count": 22,
   "id": "3471f134",
   "metadata": {},
   "outputs": [
    {
     "name": "stdout",
     "output_type": "stream",
     "text": [
      "강한친구 대한육군\n",
      "강한친구 대한육군\n"
     ]
    }
   ],
   "source": [
    "print(\"강한친구 대한육군\")\n",
    "print(\"강한친구 대한육군\")"
   ]
  },
  {
   "cell_type": "markdown",
   "id": "7921719a",
   "metadata": {},
   "source": [
    "#### 3. 10171"
   ]
  },
  {
   "cell_type": "code",
   "execution_count": 23,
   "id": "fa44b047",
   "metadata": {},
   "outputs": [
    {
     "name": "stdout",
     "output_type": "stream",
     "text": [
      "\\    /\\ \n",
      " )  ( ')\n",
      "(  /  )\n",
      " \\(__)|\n"
     ]
    }
   ],
   "source": [
    "print(\"\\    /\\ \")\n",
    "print(\" )  ( ')\")\n",
    "print(\"(  /  )\")\n",
    "print(\" \\(__)|\")"
   ]
  },
  {
   "cell_type": "markdown",
   "id": "8c6e60cf",
   "metadata": {},
   "source": [
    "#### 4. 10172 "
   ]
  },
  {
   "cell_type": "code",
   "execution_count": 24,
   "id": "215ccbe0",
   "metadata": {},
   "outputs": [
    {
     "name": "stdout",
     "output_type": "stream",
     "text": [
      "|\\_/| \n",
      "|q p|   /} \n",
      "( 0 )\"\"\"\\ \n",
      "|\"^\"`    |\n",
      "||_/=\\\\__|\n"
     ]
    }
   ],
   "source": [
    "print('|\\_/| \\n|q p|   /} \\n( 0 )\"\"\"\\ \\n|\"^\"`    |\\n||_/=\\\\\\__|')"
   ]
  },
  {
   "cell_type": "markdown",
   "id": "18888bc6",
   "metadata": {},
   "source": [
    "#### 5. 1000"
   ]
  },
  {
   "cell_type": "code",
   "execution_count": 25,
   "id": "6010f544",
   "metadata": {},
   "outputs": [
    {
     "name": "stdout",
     "output_type": "stream",
     "text": [
      "1 2\n",
      "3\n"
     ]
    }
   ],
   "source": [
    "a,b = input().split()\n",
    "a = int(a)\n",
    "b = int(b)\n",
    "print(a+b)"
   ]
  },
  {
   "cell_type": "markdown",
   "id": "ddb8b7b3",
   "metadata": {},
   "source": [
    "#### 6. 1001"
   ]
  },
  {
   "cell_type": "code",
   "execution_count": 26,
   "id": "05afbc72",
   "metadata": {},
   "outputs": [
    {
     "name": "stdout",
     "output_type": "stream",
     "text": [
      "3 2\n",
      "1\n"
     ]
    }
   ],
   "source": [
    "a,b = input().split()\n",
    "a = int(a)\n",
    "b = int(b)\n",
    "print(a-b)"
   ]
  },
  {
   "cell_type": "markdown",
   "id": "93e522f9",
   "metadata": {},
   "source": [
    "#### 7. 10998"
   ]
  },
  {
   "cell_type": "code",
   "execution_count": 27,
   "id": "0589b13c",
   "metadata": {},
   "outputs": [
    {
     "name": "stdout",
     "output_type": "stream",
     "text": [
      "3 4\n",
      "12\n"
     ]
    }
   ],
   "source": [
    "a,b = input().split()\n",
    "a = int(a)\n",
    "b = int(b)\n",
    "print(a*b)"
   ]
  },
  {
   "cell_type": "markdown",
   "id": "bfc255af",
   "metadata": {},
   "source": [
    "#### 8.  1008"
   ]
  },
  {
   "cell_type": "code",
   "execution_count": 28,
   "id": "6ef54ac8",
   "metadata": {},
   "outputs": [
    {
     "name": "stdout",
     "output_type": "stream",
     "text": [
      "1 3\n",
      "0.3333333333333333\n"
     ]
    }
   ],
   "source": [
    "a,b = input().split()\n",
    "a = int(a)\n",
    "b = int(b)\n",
    "print(a/b)"
   ]
  },
  {
   "cell_type": "markdown",
   "id": "15114523",
   "metadata": {},
   "source": [
    "#### 9. 10869"
   ]
  },
  {
   "cell_type": "code",
   "execution_count": 29,
   "id": "bb21132c",
   "metadata": {},
   "outputs": [
    {
     "name": "stdout",
     "output_type": "stream",
     "text": [
      "7 3\n",
      "10\n",
      "4\n",
      "21\n",
      "2\n",
      "1\n"
     ]
    }
   ],
   "source": [
    "a,b = input().split()\n",
    "a = int(a)\n",
    "b = int(b)\n",
    "print(a+b)\n",
    "print(a-b)\n",
    "print(a*b)\n",
    "print(a//b)\n",
    "print(a%b)"
   ]
  },
  {
   "cell_type": "markdown",
   "id": "143735a5",
   "metadata": {},
   "source": [
    "#### 10. 10430"
   ]
  },
  {
   "cell_type": "code",
   "execution_count": 30,
   "id": "79f27fe4",
   "metadata": {},
   "outputs": [
    {
     "name": "stdout",
     "output_type": "stream",
     "text": [
      "5 8 4\n",
      "1\n",
      "1\n",
      "0\n",
      "0\n"
     ]
    }
   ],
   "source": [
    "#백준 오류 : 알 수 없는 오류...\n",
    "a,b,c = input().split()\n",
    "a = int(a)\n",
    "b = int(b)\n",
    "c = int(c)\n",
    "\n",
    "print((a+b)%c)\n",
    "print(((a%c)+(b%c))%c)\n",
    "print((a*b)%c)\n",
    "print(((a%c)*(b%c))%c)"
   ]
  },
  {
   "cell_type": "code",
   "execution_count": 31,
   "id": "294d6e9c",
   "metadata": {},
   "outputs": [
    {
     "name": "stdout",
     "output_type": "stream",
     "text": [
      "5 8 4\n",
      "1\n",
      "1\n",
      "0\n",
      "0\n"
     ]
    }
   ],
   "source": [
    "a,b,c = map(int,input().split())\n",
    "\n",
    "print((a+b)%c)\n",
    "print(((a%c)+(b%c))%c)\n",
    "print((a*b)%c)\n",
    "print(((a%c)*(b%c))%c)"
   ]
  },
  {
   "cell_type": "markdown",
   "id": "8df95fd2",
   "metadata": {},
   "source": [
    "#### 11. 2588"
   ]
  },
  {
   "cell_type": "code",
   "execution_count": 32,
   "id": "81d3249c",
   "metadata": {},
   "outputs": [
    {
     "name": "stdout",
     "output_type": "stream",
     "text": [
      "472\n",
      "385\n",
      "2360\n",
      "3776\n",
      "1416\n",
      "181720\n"
     ]
    }
   ],
   "source": [
    "a = int(input())\n",
    "b = input()\n",
    "\n",
    "print(a * int(b[-1]))\n",
    "print(a * int(b[-2]))\n",
    "print(a * int(b[-3]))\n",
    "print((a * int(b[-3])*100)+ (a * int(b[-2]))*10 + (a * int(b[-1])))"
   ]
  }
 ],
 "metadata": {
  "kernelspec": {
   "display_name": "Python [conda env:root] *",
   "language": "python",
   "name": "conda-root-py"
  },
  "language_info": {
   "codemirror_mode": {
    "name": "ipython",
    "version": 3
   },
   "file_extension": ".py",
   "mimetype": "text/x-python",
   "name": "python",
   "nbconvert_exporter": "python",
   "pygments_lexer": "ipython3",
   "version": "3.8.8"
  }
 },
 "nbformat": 4,
 "nbformat_minor": 5
}
