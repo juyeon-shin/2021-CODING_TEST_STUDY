{
 "cells": [
  {
   "cell_type": "markdown",
   "id": "c9f9e77d",
   "metadata": {},
   "source": [
    "### 1주차 : 4. while 문\n",
    "#### 1. 10952"
   ]
  },
  {
   "cell_type": "code",
   "execution_count": 10,
   "id": "a16c53e1",
   "metadata": {},
   "outputs": [
    {
     "name": "stdout",
     "output_type": "stream",
     "text": [
      "1 1\n",
      "2\n",
      "2 3\n",
      "5\n",
      "3 4\n",
      "7\n",
      "9 8\n",
      "17\n",
      "5 2\n",
      "7\n",
      "0 0\n",
      "\n"
     ]
    }
   ],
   "source": [
    "A = 1\n",
    "B = 1\n",
    "while (A != 0)and (B != 0):\n",
    "    A,B = map(int,input().split())\n",
    "    if A!= 0 and B!=0:\n",
    "        print(A+B)\n",
    "    else:\n",
    "        print('')"
   ]
  },
  {
   "cell_type": "markdown",
   "id": "b96f2c5e",
   "metadata": {},
   "source": [
    "#### 2. 10951"
   ]
  },
  {
   "cell_type": "code",
   "execution_count": 14,
   "id": "0327ff3f",
   "metadata": {},
   "outputs": [
    {
     "name": "stdout",
     "output_type": "stream",
     "text": [
      "1 1\n",
      "2\n",
      "2 3\n",
      "5\n",
      "3 4\n",
      "7\n",
      "9 8\n",
      "17\n",
      "5 2\n",
      "7\n",
      "10 2\n",
      "12\n",
      "10 10\n",
      "20\n"
     ]
    }
   ],
   "source": [
    "#런타임 에러\n",
    "A = 1\n",
    "B = 1\n",
    "\n",
    "while (A or B) <10:\n",
    "    A,B = map(int,input().split())\n",
    "    print(A+B)\n",
    "\n",
    "#런타임에러\n",
    "while True:\n",
    "    a,b = map(int,input().split())\n",
    "    print(a+b)"
   ]
  },
  {
   "cell_type": "code",
   "execution_count": 16,
   "id": "bb378d3d",
   "metadata": {},
   "outputs": [
    {
     "name": "stdout",
     "output_type": "stream",
     "text": [
      "1 1\n",
      "2\n",
      "2 3\n",
      "5\n",
      "3 4\n",
      "7\n",
      "9 8\n",
      "17\n",
      "5 2\n",
      "7\n",
      "\n"
     ]
    }
   ],
   "source": [
    "while True:\n",
    "    try :\n",
    "        a,b = map(int,input().split())\n",
    "        print(a+b)\n",
    "    except :\n",
    "        break"
   ]
  },
  {
   "cell_type": "markdown",
   "id": "a67b3edf",
   "metadata": {},
   "source": [
    "#### 3. 1110"
   ]
  },
  {
   "cell_type": "code",
   "execution_count": 90,
   "id": "72a2349f",
   "metadata": {},
   "outputs": [
    {
     "name": "stdout",
     "output_type": "stream",
     "text": [
      "26\n",
      "4\n"
     ]
    }
   ],
   "source": [
    "i=0\n",
    "A = int(input())\n",
    "a = A\n",
    "b = -1\n",
    "while A != b:\n",
    "    i = i+1\n",
    "    b = (a-(a//10*10))*10 + (((a//10)+(a-(a//10*10)))%10)\n",
    "    if A != b:\n",
    "        a = b\n",
    "\n",
    "print(i)"
   ]
  }
 ],
 "metadata": {
  "kernelspec": {
   "display_name": "Python 3 (ipykernel)",
   "language": "python",
   "name": "python3"
  },
  "language_info": {
   "codemirror_mode": {
    "name": "ipython",
    "version": 3
   },
   "file_extension": ".py",
   "mimetype": "text/x-python",
   "name": "python",
   "nbconvert_exporter": "python",
   "pygments_lexer": "ipython3",
   "version": "3.8.8"
  }
 },
 "nbformat": 4,
 "nbformat_minor": 5
}
