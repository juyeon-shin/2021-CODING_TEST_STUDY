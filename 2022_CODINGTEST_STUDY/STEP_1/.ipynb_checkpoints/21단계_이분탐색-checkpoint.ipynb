{
 "cells": [
  {
   "cell_type": "markdown",
   "id": "d4d57bd1",
   "metadata": {},
   "source": [
    "### 21단계_이분탐색\n",
    "#### 01 : 1920"
   ]
  },
  {
   "cell_type": "code",
   "execution_count": 4,
   "id": "503689ce",
   "metadata": {},
   "outputs": [
    {
     "name": "stdout",
     "output_type": "stream",
     "text": [
      "5\n",
      "4 1 5 2 3\n",
      "5\n",
      "1 3 7 9 5\n",
      "[4, 1, 5, 2, 3]\n"
     ]
    }
   ],
   "source": [
    "import sys\n",
    "sys.stdin.readline()\n",
    "n = int(sys.stdin.readline())\n",
    "a = list(map(int,sys.stdin.readline().split()))\n",
    "m = int(sys.stdin.readline())\n",
    "b = list(map(int,sys.stdin.readline().split()))\n",
    "\n",
    "for i in b:\n",
    "    if i in a :\n",
    "        print(1)\n",
    "    else :\n",
    "        print(0)"
   ]
  },
  {
   "cell_type": "code",
   "execution_count": 37,
   "id": "f7ed1ae3",
   "metadata": {},
   "outputs": [
    {
     "name": "stdout",
     "output_type": "stream",
     "text": [
      "5\n",
      "4 1 5 2 3\n",
      "5\n",
      "1 3 7 9 5\n"
     ]
    }
   ],
   "source": [
    "n = int(input())\n",
    "a = sorted(list(map(int,input().split())))\n",
    "m = int(input())\n",
    "b = list(map(int,input().split()))"
   ]
  },
  {
   "cell_type": "code",
   "execution_count": null,
   "id": "837bfc22",
   "metadata": {},
   "outputs": [],
   "source": [
    "import sys\n",
    "n = int(sys.stdin.readline())\n",
    "a = set(map(int,sys.stdin.readline().split()))\n",
    "m = int(sys.stdin.readline())\n",
    "b = list(map(int,sys.stdin.readline().split()))\n",
    "\n",
    "for i in b:\n",
    "    if i in a :\n",
    "        print(1)\n",
    "    else :\n",
    "        print(0)"
   ]
  },
  {
   "cell_type": "code",
   "execution_count": null,
   "id": "f0bd8e76",
   "metadata": {},
   "outputs": [],
   "source": [
    "n = int(input()) ## ??\n",
    "n_list = list(map(int, input().split(' ')))\n",
    "n_list.sort()\n",
    "\n",
    "m = int(input())\n",
    "targets = list(map(int, input().split(' ')))\n",
    "\n",
    "\n",
    "def binary(target):\n",
    "    left = 0\n",
    "    right = n - 1\n",
    "\n",
    "    while left <= right:\n",
    "        mid = (left + right) // 2\n",
    "        if n_list[mid] == target:\n",
    "            return True\n",
    "\n",
    "        if target < n_list[mid]:\n",
    "            right = mid-1\n",
    "        elif target > n_list[mid]:\n",
    "            left = mid + 1\n",
    "\n",
    "\n",
    "for i in range(m):\n",
    "    if binary(targets[i]):\n",
    "        print(1)\n",
    "    else:\n",
    "        print(0)"
   ]
  },
  {
   "cell_type": "markdown",
   "id": "b3007375",
   "metadata": {},
   "source": [
    "#### 02 : 10816"
   ]
  },
  {
   "cell_type": "code",
   "execution_count": 82,
   "id": "14951cff",
   "metadata": {},
   "outputs": [
    {
     "name": "stdout",
     "output_type": "stream",
     "text": [
      "10\n",
      "6 3 2 10 10 10 -10 -10 7 3\n",
      "8\n",
      "10 9 -5 2 3 4 5 -10\n",
      "3 0 0 1 2 0 0 2 "
     ]
    }
   ],
   "source": [
    "n = int(input())\n",
    "a = sorted(list(map(int,input().split())))\n",
    "m = int(input())\n",
    "b = list(map(int,input().split()))\n",
    "\n",
    "cnt_list = []\n",
    "for i in b:\n",
    "    if i in a :\n",
    "        cnt_list.append(a.count(i))\n",
    "    else :\n",
    "        cnt_list.append(0)\n",
    "        \n",
    "for i in cnt_list:\n",
    "    print(i,end=' ')"
   ]
  },
  {
   "cell_type": "markdown",
   "id": "febbe82a",
   "metadata": {},
   "source": [
    "#### 03 : 1654"
   ]
  },
  {
   "cell_type": "code",
   "execution_count": 73,
   "id": "24d8db05",
   "metadata": {},
   "outputs": [
    {
     "name": "stdout",
     "output_type": "stream",
     "text": [
      "4 11\n",
      "802\n",
      "743\n",
      "457\n",
      "539\n"
     ]
    }
   ],
   "source": [
    "k,n = map(int,input().split())\n",
    "lan = [int(input()) for i in range(k)]"
   ]
  },
  {
   "cell_type": "code",
   "execution_count": 81,
   "id": "83bb23f1",
   "metadata": {},
   "outputs": [
    {
     "name": "stdout",
     "output_type": "stream",
     "text": [
      "200\n"
     ]
    }
   ],
   "source": [
    "start,end = 1,max(lan)\n",
    "while start<=end:\n",
    "    mid = (start+end)//2 ## 401\n",
    "    lines = 0\n",
    "    for i in lan:\n",
    "        lines += i//mid\n",
    "        # 802//401 ->  lines = 2\n",
    "    if lines>=n:\n",
    "        start = mid+1\n",
    "    else :\n",
    "        end = mid-1 # end = 802 -> 400, mid = 401 -> 200\n",
    "print(end)"
   ]
  }
 ],
 "metadata": {
  "kernelspec": {
   "display_name": "Python 3 (ipykernel)",
   "language": "python",
   "name": "python3"
  },
  "language_info": {
   "codemirror_mode": {
    "name": "ipython",
    "version": 3
   },
   "file_extension": ".py",
   "mimetype": "text/x-python",
   "name": "python",
   "nbconvert_exporter": "python",
   "pygments_lexer": "ipython3",
   "version": "3.8.8"
  }
 },
 "nbformat": 4,
 "nbformat_minor": 5
}
