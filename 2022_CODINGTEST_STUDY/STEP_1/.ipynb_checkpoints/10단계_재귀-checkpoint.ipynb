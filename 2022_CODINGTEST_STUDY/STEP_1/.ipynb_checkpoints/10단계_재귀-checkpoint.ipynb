{
 "cells": [
  {
   "cell_type": "markdown",
   "id": "03889bfd",
   "metadata": {},
   "source": [
    "### 10단계 : 재귀"
   ]
  },
  {
   "cell_type": "markdown",
   "id": "42c6306d",
   "metadata": {},
   "source": [
    "#### 3 : 2447"
   ]
  },
  {
   "cell_type": "markdown",
   "id": "77e6197c",
   "metadata": {},
   "source": [
    "#출력 초과\n",
    "N = int(input())\n",
    "\n",
    "star = ['***','* *','***']\n",
    "\n",
    "def step(star):\n",
    "    a = []\n",
    "    for i in range(1,10):\n",
    "        if i != 5:\n",
    "            a.append(star)\n",
    "        else:\n",
    "            a.append(' ')\n",
    "    return a\n",
    "\n",
    "S = star\n",
    "\n",
    "if N//3 == 1:\n",
    "    print(star)\n",
    "elif N//3 != 1:\n",
    "    while N > 1:\n",
    "        S = step(S)\n",
    "        N = N//3\n",
    "    print(S)"
   ]
  },
  {
   "cell_type": "code",
   "execution_count": null,
   "id": "da2eccc5",
   "metadata": {},
   "outputs": [],
   "source": [
    "# 작은 틀\n",
    "star = ['***','* *','   ']\n",
    "\n",
    "def step_1(N):\n",
    "    for i in range(3):\n",
    "        if i%3 == 0:\n",
    "            print(star[0]*int(N/3))\n",
    "        elif i%3 == 1:\n",
    "            print(star[1]*int(N/3))\n",
    "        elif i%3 == 2:\n",
    "            print(star[0]*int(N/3))\n",
    "            \n",
    "# 중간 틀\n",
    "N = 27\n",
    "N = N/3\n",
    "for i in range(3):\n",
    "    if i%3 == 0 :\n",
    "        step_1(N)\n",
    "    elif i%3 == 1:\n",
    "        print((star[0]+star[2]+star[0])*int(N/3/3))\n",
    "        print((star[1]+star[2]+star[1])*int(N/3/3))\n",
    "        print((star[0]+star[2]+star[0])*int(N/3/3))\n",
    "    elif i%3 == 2 :\n",
    "        step_1(N)"
   ]
  },
  {
   "cell_type": "code",
   "execution_count": null,
   "id": "73a25b63",
   "metadata": {},
   "outputs": [],
   "source": [
    "for i in range(3):\n",
    "    "
   ]
  },
  {
   "cell_type": "code",
   "execution_count": 208,
   "id": "9abea9c6",
   "metadata": {},
   "outputs": [],
   "source": [
    "star = ['***','* *','   ']\n",
    "def step_1(N):\n",
    "    for i in range(3):\n",
    "        if i%3 == 1:\n",
    "            print(star[1]*int(N/3))\n",
    "        else :\n",
    "            print(star[0]*int(N/3))"
   ]
  },
  {
   "cell_type": "code",
   "execution_count": 217,
   "id": "3097da5f",
   "metadata": {},
   "outputs": [],
   "source": [
    "def step_2(N):\n",
    "    for i in range(3):\n",
    "        if i%3 == 1:\n",
    "            print((star[1]+star[2]+star[1])*int(N/3/3))\n",
    "        else:\n",
    "            print((star[0]+star[2]+star[0])*int(N/3/3))"
   ]
  },
  {
   "cell_type": "code",
   "execution_count": 218,
   "id": "f3478e73",
   "metadata": {},
   "outputs": [
    {
     "name": "stdout",
     "output_type": "stream",
     "text": [
      "*********\n",
      "* ** ** *\n",
      "*********\n",
      "***   ***\n",
      "* *   * *\n",
      "***   ***\n",
      "*********\n",
      "* ** ** *\n",
      "*********\n"
     ]
    }
   ],
   "source": [
    "N = 9\n",
    "for i in range(3):\n",
    "    if i%3 == 1:\n",
    "        step_2(N)\n",
    "    else : \n",
    "        step_1(N)"
   ]
  },
  {
   "cell_type": "code",
   "execution_count": 220,
   "id": "49a3968f",
   "metadata": {},
   "outputs": [
    {
     "name": "stdout",
     "output_type": "stream",
     "text": [
      "***************************\n",
      "* ** ** ** ** ** ** ** ** *\n",
      "***************************\n"
     ]
    }
   ],
   "source": [
    "step_1(27)"
   ]
  },
  {
   "cell_type": "code",
   "execution_count": 221,
   "id": "076911cc",
   "metadata": {},
   "outputs": [
    {
     "name": "stdout",
     "output_type": "stream",
     "text": [
      "***   ******   ******   ***\n",
      "* *   * ** *   * ** *   * *\n",
      "***   ******   ******   ***\n"
     ]
    }
   ],
   "source": [
    "step_2(27)"
   ]
  },
  {
   "cell_type": "code",
   "execution_count": 227,
   "id": "ffe7e1c5",
   "metadata": {},
   "outputs": [
    {
     "name": "stdout",
     "output_type": "stream",
     "text": [
      "***   ***\n",
      "* *   * *\n",
      "***   ***\n"
     ]
    }
   ],
   "source": [
    "step_2(9)"
   ]
  },
  {
   "cell_type": "code",
   "execution_count": 233,
   "id": "01459a08",
   "metadata": {},
   "outputs": [
    {
     "name": "stdout",
     "output_type": "stream",
     "text": [
      "*********         *********\n",
      "* ** ** *         * ** ** *\n",
      "*********         *********\n"
     ]
    }
   ],
   "source": [
    "print(star[0]*int(N//3)+ star[2]*int(N//3)+star[0]*int(N//3))\n",
    "print(star[1]*int(N//3)+ star[2]*int(N//3)+star[1]*int(N//3))\n",
    "print(star[0]*int(N//3)+ star[2]*int(N//3)+star[0]*int(N//3))"
   ]
  },
  {
   "cell_type": "code",
   "execution_count": 236,
   "id": "fddc947a",
   "metadata": {},
   "outputs": [
    {
     "name": "stdout",
     "output_type": "stream",
     "text": [
      "***   ***\n",
      "* *   * *\n",
      "***   ***\n"
     ]
    }
   ],
   "source": [
    "print((star[0]*int(N/3/3)+ star[2]*int(N/3/3)+star[0]*int(N/3/3))*int(N))\n",
    "print((star[1]*int(N/3/3)+ star[2]*int(N/3/3)+star[1]*int(N/3/3)))\n",
    "print((star[0]*int(N/3/3)+ star[2]*int(N/3/3)+star[0]*int(N/3/3)))"
   ]
  },
  {
   "cell_type": "code",
   "execution_count": 245,
   "id": "112bb315",
   "metadata": {},
   "outputs": [
    {
     "name": "stdout",
     "output_type": "stream",
     "text": [
      "27\n",
      "***************************\n",
      "* ** ** ** ** ** ** ** ** *\n",
      "***************************\n",
      "***   ******   ******   ***\n",
      "* *   * ** *   * ** *   * *\n",
      "***   ******   ******   ***\n",
      "***************************\n",
      "* ** ** ** ** ** ** ** ** *\n",
      "***************************\n",
      "*********         *********\n",
      "* ** ** *         * ** ** *\n",
      "*********         *********\n",
      "***   ***         ***   ***\n",
      "* *   * *         * *   * *\n",
      "***   ***         ***   ***\n",
      "*********         *********\n",
      "* ** ** *         * ** ** *\n",
      "*********         *********\n",
      "***************************\n",
      "* ** ** ** ** ** ** ** ** *\n",
      "***************************\n",
      "***   ******   ******   ***\n",
      "* *   * ** *   * ** *   * *\n",
      "***   ******   ******   ***\n",
      "***************************\n",
      "* ** ** ** ** ** ** ** ** *\n",
      "***************************\n"
     ]
    }
   ],
   "source": [
    "def stars(n):\n",
    "    matrix = []\n",
    "    for i in range(3*len(n)):\n",
    "        if i//len(n) == 1:\n",
    "            matrix.append(n[i%len(n)]+ ' '*len(n) + n[i%len(n)])\n",
    "        else :\n",
    "            matrix.append(n[i%len(n)]*3)\n",
    "    return (list(matrix))\n",
    "\n",
    "star = ['***','* *','***']\n",
    "N = int(input())\n",
    "k=0\n",
    "\n",
    "while N!=3:\n",
    "    N = int(N/3)\n",
    "    k += 1\n",
    "    \n",
    "for i in range(k):\n",
    "    star = stars(star)\n",
    "\n",
    "for i in star:\n",
    "    print(i)"
   ]
  },
  {
   "cell_type": "code",
   "execution_count": null,
   "id": "eccaee85",
   "metadata": {},
   "outputs": [],
   "source": []
  },
  {
   "cell_type": "markdown",
   "id": "b673d217",
   "metadata": {},
   "source": [
    "#### 4 : 11729"
   ]
  },
  {
   "cell_type": "code",
   "execution_count": null,
   "id": "95b15d03",
   "metadata": {},
   "outputs": [],
   "source": [
    "n = int(input())"
   ]
  },
  {
   "cell_type": "code",
   "execution_count": null,
   "id": "72842e52",
   "metadata": {},
   "outputs": [],
   "source": [
    "def factorial(n):\n",
    "    if n == 1:      # n이 1일 때\n",
    "        return 1    # 1을 반환하고 재귀호출을 끝냄\n",
    "    return n * factorial(n - 1)    # n과 factorial 함수에 n - 1을 넣어서 반환된 값을 곱함\n",
    " \n",
    "print(factorial(5))"
   ]
  },
  {
   "cell_type": "code",
   "execution_count": 237,
   "id": "fd614022",
   "metadata": {},
   "outputs": [],
   "source": [
    "def count(n) : #횟수\n",
    "    if n == 1 :\n",
    "        return n\n",
    "    else :\n",
    "        n = 2*(count(n-1))+1 #수열 1,3,7,15 ---> 2^n-1\n",
    "        return n\n",
    "\n",
    "def place(n,f=1, m=2,e=3) :\n",
    "    if n == 1 :\n",
    "        print(f,e)\n",
    "    else :\n",
    "        place(n-1,f,e,m) #n-1개를 m에 옮긴 횟수 n = 5 -> n = 4\n",
    "        print(f,e) #마지막 걸 e로 옮긴 것\n",
    "        place(n-1,m,f,e) # n = 4 -> n=3\n",
    "        # 2에 있는 것을 3으로 옮기기\n",
    "        \n",
    "n = int(input())\n",
    "print(count(n))\n",
    "place(n)"
   ]
  },
  {
   "cell_type": "code",
   "execution_count": 240,
   "id": "5a08a16a",
   "metadata": {},
   "outputs": [
    {
     "name": "stdout",
     "output_type": "stream",
     "text": [
      "4\n",
      "15\n",
      "1 2\n",
      "1 3\n",
      "2 3\n",
      "1 2\n",
      "3 1\n",
      "3 2\n",
      "1 2\n",
      "1 3\n",
      "2 3\n",
      "2 1\n",
      "3 1\n",
      "2 3\n",
      "1 2\n",
      "1 3\n",
      "2 3\n"
     ]
    }
   ],
   "source": [
    "n = int(input())\n",
    "print(count(n))\n",
    "place(n)"
   ]
  }
 ],
 "metadata": {
  "kernelspec": {
   "display_name": "Python [conda env:root] *",
   "language": "python",
   "name": "conda-root-py"
  },
  "language_info": {
   "codemirror_mode": {
    "name": "ipython",
    "version": 3
   },
   "file_extension": ".py",
   "mimetype": "text/x-python",
   "name": "python",
   "nbconvert_exporter": "python",
   "pygments_lexer": "ipython3",
   "version": "3.8.8"
  }
 },
 "nbformat": 4,
 "nbformat_minor": 5
}
