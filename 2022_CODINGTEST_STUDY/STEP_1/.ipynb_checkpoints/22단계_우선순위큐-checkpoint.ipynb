{
 "cells": [
  {
   "cell_type": "markdown",
   "id": "44ea010b",
   "metadata": {},
   "source": [
    "### 1 : 11279"
   ]
  },
  {
   "cell_type": "code",
   "execution_count": 1,
   "id": "daae0b03",
   "metadata": {},
   "outputs": [
    {
     "name": "stdout",
     "output_type": "stream",
     "text": [
      "5\n"
     ]
    }
   ],
   "source": [
    "import heapq\n",
    "import sys\n",
    "\n",
    "n = int(sys.stdin.readline())\n",
    "heap = []\n",
    "\n",
    "for i in range(n):\n",
    "    num = int(sys.stdin.readline())\n",
    "    if num != 0 :\n",
    "        heapq.heappush(heap,-num)\n",
    "    else :\n",
    "        try:\n",
    "            print(-1*heapq.heappop(heap))\n",
    "        except:\n",
    "            print(0)"
   ]
  },
  {
   "cell_type": "markdown",
   "id": "d9f19851",
   "metadata": {},
   "source": [
    "### 2 : 1927"
   ]
  },
  {
   "cell_type": "code",
   "execution_count": 4,
   "id": "8ba41590",
   "metadata": {},
   "outputs": [
    {
     "name": "stdout",
     "output_type": "stream",
     "text": [
      "9\n",
      "0\n",
      "12345678\n",
      "1\n",
      "2\n",
      "0\n",
      "1\n",
      "0\n",
      "2\n",
      "0\n",
      "12345678\n",
      "0\n",
      "32\n"
     ]
    }
   ],
   "source": [
    "import heapq\n",
    "import sys\n",
    "\n",
    "heap = []\n",
    "n = int(sys.stdin.readline())\n",
    "for i in range(n):\n",
    "    x = int(sys.stdin.readline())\n",
    "    if x != 0 :\n",
    "        heapq.heappush(heap,x)\n",
    "    elif x == 0 :\n",
    "        try :\n",
    "            print(heapq.heappop(heap))\n",
    "        except:\n",
    "            print(0)"
   ]
  },
  {
   "cell_type": "markdown",
   "id": "96995072",
   "metadata": {},
   "source": [
    "### 3 : 11286"
   ]
  },
  {
   "cell_type": "code",
   "execution_count": null,
   "id": "49e56d43",
   "metadata": {},
   "outputs": [],
   "source": [
    "import heapq\n",
    "import sys\n",
    "\n",
    "heap = []\n",
    "n = int(sys.stdin.readline())\n",
    "for i in range(n):\n",
    "    x = int(sys.stdin.readline())\n",
    "    if x != 0 :\n",
    "        heapq.heappush(heap,(abs(x),x))\n",
    "    elif x == 0 :\n",
    "        try :\n",
    "            print(heapq.heappop(heap[1]))\n",
    "        except:\n",
    "            print(0)"
   ]
  }
 ],
 "metadata": {
  "kernelspec": {
   "display_name": "Python 3 (ipykernel)",
   "language": "python",
   "name": "python3"
  },
  "language_info": {
   "codemirror_mode": {
    "name": "ipython",
    "version": 3
   },
   "file_extension": ".py",
   "mimetype": "text/x-python",
   "name": "python",
   "nbconvert_exporter": "python",
   "pygments_lexer": "ipython3",
   "version": "3.8.8"
  }
 },
 "nbformat": 4,
 "nbformat_minor": 5
}
