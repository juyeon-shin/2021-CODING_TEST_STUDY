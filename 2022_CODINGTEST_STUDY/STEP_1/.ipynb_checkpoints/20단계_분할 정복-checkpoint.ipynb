{
 "cells": [
  {
   "cell_type": "markdown",
   "id": "77dac0da",
   "metadata": {},
   "source": [
    "#### 1 : 2630"
   ]
  },
  {
   "cell_type": "code",
   "execution_count": 21,
   "id": "30f9f3cd",
   "metadata": {},
   "outputs": [
    {
     "name": "stdout",
     "output_type": "stream",
     "text": [
      "4\n",
      "1 1 0 0\n",
      "1 1 0 0\n",
      "0 0 1 1\n",
      "0 0 1 1\n",
      "2\n",
      "2\n"
     ]
    }
   ],
   "source": [
    "import sys\n",
    "n = int(sys.stdin.readline())\n",
    "paper = [list(map(int,sys.stdin.readline().split())) for i in range(n)]\n",
    "\n",
    "result = []\n",
    "def solution(x,y,n):\n",
    "    color = paper[x][y]\n",
    "    for i in range(x,x+n):\n",
    "        for j in range(y,y+n):\n",
    "            if color != paper[i][j]:\n",
    "                solution(x,y,n//2) #1사분면\n",
    "                solution(x,y+n//2,n//2) #2사분면\n",
    "                solution(x+n//2,y,n//2) #3사분면\n",
    "                solution(x+n//2,y+n//2,n//2) #4사분면\n",
    "                return \n",
    "    if color == 0:\n",
    "        result.append(0)\n",
    "    else :\n",
    "        result.append(1)\n",
    "\n",
    "solution(0,0,n)\n",
    "print(result.count(0))\n",
    "print(result.count(1))"
   ]
  },
  {
   "cell_type": "markdown",
   "id": "5924c2ab",
   "metadata": {},
   "source": [
    "#### 2 : 1992"
   ]
  },
  {
   "cell_type": "code",
   "execution_count": 23,
   "id": "fcbac60e",
   "metadata": {},
   "outputs": [
    {
     "name": "stdout",
     "output_type": "stream",
     "text": [
      "8\n",
      "11110000\n",
      "11110000\n",
      "00011100\n",
      "00011100\n",
      "11110000\n",
      "11110000\n",
      "11110011\n",
      "11110011\n"
     ]
    }
   ],
   "source": [
    "n = int(input())\n",
    "paper = [list(map(int,input().strip())) for i in range(n)]"
   ]
  },
  {
   "cell_type": "code",
   "execution_count": 29,
   "id": "454d1cc7",
   "metadata": {},
   "outputs": [
    {
     "name": "stdout",
     "output_type": "stream",
     "text": [
      "((110(0101))(0010)1(0001))"
     ]
    }
   ],
   "source": [
    "def solution(x,y,n):\n",
    "    color = paper[x][y]\n",
    "    for i in range(x,x+n):\n",
    "        for j in range(y,y+n):\n",
    "            if color != paper[i][j]:\n",
    "                print('(', end='')\n",
    "                solution(x,y,n//2) #1사분면\n",
    "                solution(x,y+n//2,n//2) #2사분면\n",
    "                solution(x+n//2,y,n//2) #3사분면\n",
    "                solution(x+n//2,y+n//2,n//2) #4사분면\n",
    "                print(')', end='')\n",
    "                return \n",
    "    if color == 0:\n",
    "        print('0',end='')\n",
    "        return\n",
    "    else :\n",
    "        print('1',end='')\n",
    "        return \n",
    "\n",
    "solution(0,0,n)"
   ]
  },
  {
   "cell_type": "markdown",
   "id": "20758318",
   "metadata": {},
   "source": [
    "#### 3 : 1780"
   ]
  },
  {
   "cell_type": "code",
   "execution_count": 30,
   "id": "80d78dab",
   "metadata": {},
   "outputs": [
    {
     "name": "stdout",
     "output_type": "stream",
     "text": [
      "9\n",
      "0 0 0 1 1 1 -1 -1 -1\n",
      "0 0 0 1 1 1 -1 -1 -1\n",
      "0 0 0 1 1 1 -1 -1 -1\n",
      "1 1 1 0 0 0 0 0 0\n",
      "1 1 1 0 0 0 0 0 0\n",
      "1 1 1 0 0 0 0 0 0\n",
      "0 1 -1 0 1 -1 0 1 -1\n",
      "0 1 -1 0 1 -1 0 1 -1\n",
      "0 1 -1 0 1 -1 0 1 -1\n"
     ]
    }
   ],
   "source": [
    "n = int(input())\n",
    "paper = [list(map(int,input().split())) for i in range(n)]"
   ]
  },
  {
   "cell_type": "code",
   "execution_count": 34,
   "id": "5653988f",
   "metadata": {},
   "outputs": [
    {
     "name": "stdout",
     "output_type": "stream",
     "text": [
      "12\n",
      "11\n",
      "10\n"
     ]
    }
   ],
   "source": [
    "result = []\n",
    "def solution(x,y,n):\n",
    "    color = paper[x][y]\n",
    "    for i in range(x,x+n):\n",
    "        for j in range(y,y+n):\n",
    "            if color != paper[i][j]:\n",
    "                for a in range(3):\n",
    "                    for b in range(3):\n",
    "                        solution(x+n//3*a,y+n//3*b,n//3)\n",
    "                return \n",
    "    if color == 0:\n",
    "        result.append(0)\n",
    "    elif color == 1 :\n",
    "        result.append(1)\n",
    "    elif color == -1 :\n",
    "        result.append(-1)\n",
    "\n",
    "solution(0,0,n)\n",
    "print(result.count(0))\n",
    "print(result.count(1))\n",
    "print(result.count(-1))"
   ]
  },
  {
   "cell_type": "code",
   "execution_count": null,
   "id": "7bbb80ba",
   "metadata": {},
   "outputs": [],
   "source": []
  }
 ],
 "metadata": {
  "kernelspec": {
   "display_name": "Python 3 (ipykernel)",
   "language": "python",
   "name": "python3"
  },
  "language_info": {
   "codemirror_mode": {
    "name": "ipython",
    "version": 3
   },
   "file_extension": ".py",
   "mimetype": "text/x-python",
   "name": "python",
   "nbconvert_exporter": "python",
   "pygments_lexer": "ipython3",
   "version": "3.8.8"
  }
 },
 "nbformat": 4,
 "nbformat_minor": 5
}
