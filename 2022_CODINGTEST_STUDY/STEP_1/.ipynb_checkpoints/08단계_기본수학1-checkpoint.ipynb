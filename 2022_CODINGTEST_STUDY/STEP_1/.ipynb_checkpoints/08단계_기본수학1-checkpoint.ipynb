{
 "cells": [
  {
   "cell_type": "markdown",
   "id": "0bc23463",
   "metadata": {},
   "source": [
    "### 8단계_기본수학1"
   ]
  },
  {
   "cell_type": "code",
   "execution_count": null,
   "id": "ad30c8af",
   "metadata": {},
   "outputs": [],
   "source": []
  }
 ],
 "metadata": {
  "kernelspec": {
   "display_name": "Python [conda env:root] *",
   "language": "python",
   "name": "conda-root-py"
  },
  "language_info": {
   "codemirror_mode": {
    "name": "ipython",
    "version": 3
   },
   "file_extension": ".py",
   "mimetype": "text/x-python",
   "name": "python",
   "nbconvert_exporter": "python",
   "pygments_lexer": "ipython3",
   "version": "3.8.8"
  }
 },
 "nbformat": 4,
 "nbformat_minor": 5
}
