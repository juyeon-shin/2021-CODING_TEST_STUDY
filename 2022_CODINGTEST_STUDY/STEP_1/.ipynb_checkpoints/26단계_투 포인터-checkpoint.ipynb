{
 "cells": [
  {
   "cell_type": "markdown",
   "id": "4ede8234",
   "metadata": {},
   "source": [
    "#### 1 : 3273"
   ]
  },
  {
   "cell_type": "code",
   "execution_count": 16,
   "id": "0503e01d",
   "metadata": {},
   "outputs": [
    {
     "name": "stdout",
     "output_type": "stream",
     "text": [
      "9\n",
      "5 12 7 10 9 1 2 3 11\n",
      "13\n"
     ]
    }
   ],
   "source": [
    "n = int(input())\n",
    "A = sorted(list(map(int,input().split())))\n",
    "x = int(input())"
   ]
  },
  {
   "cell_type": "code",
   "execution_count": 17,
   "id": "54747faf",
   "metadata": {},
   "outputs": [
    {
     "name": "stdout",
     "output_type": "stream",
     "text": [
      "3\n"
     ]
    }
   ],
   "source": [
    "cnt = 0\n",
    "left = 0\n",
    "right = n-1\n",
    "\n",
    "while left <right:\n",
    "    tmp = A[left]+A[right]\n",
    "    if tmp == x:\n",
    "        cnt += 1\n",
    "    if tmp < x:\n",
    "        left += 1\n",
    "        continue\n",
    "    right -= 1\n",
    "    \n",
    "print(cnt)"
   ]
  },
  {
   "cell_type": "markdown",
   "id": "e6740a22",
   "metadata": {},
   "source": [
    "#### 2 : 2470"
   ]
  },
  {
   "cell_type": "code",
   "execution_count": 1,
   "id": "da42f9cd",
   "metadata": {},
   "outputs": [
    {
     "name": "stdout",
     "output_type": "stream",
     "text": [
      "5\n",
      "-2 4 -99 -1 98\n"
     ]
    }
   ],
   "source": [
    "n = int(input())\n",
    "A = sorted(list(map(int,input().split())))"
   ]
  },
  {
   "cell_type": "code",
   "execution_count": 3,
   "id": "6616675a",
   "metadata": {},
   "outputs": [
    {
     "name": "stdout",
     "output_type": "stream",
     "text": [
      "-99 98\n"
     ]
    }
   ],
   "source": [
    "cnt = 0\n",
    "left = 0\n",
    "right = n-1\n",
    "\n",
    "answer = 2e+9+1 # 기준값\n",
    "final = [] # 정답\n",
    "\n",
    "# 투포인터 진행\n",
    "while left < right:\n",
    "    s_left = A[left]\n",
    "    s_right = A[right]\n",
    "\n",
    "    tot = s_left + s_right\n",
    "    # 두 용액의 합이 0과 가장 가까운 용액을 정답에 담아주기\n",
    "    if abs(tot) < answer:\n",
    "        answer = abs(tot)\n",
    "        final = [s_left, s_right]\n",
    "\n",
    "    # 두 용액의합이 0보다 작다면 왼쪽의 값을 늘려 조금 더 0에 가깝게 만들어준다\n",
    "    if tot < 0:\n",
    "        left += 1\n",
    "    # 반대로, 두 용액의 합이 0보다 크다면 오른쪽의 값을 줄여서 조금 더 0에 가깝게 만들어준다\n",
    "    else:\n",
    "        right -= 1\n",
    "\n",
    "print(final[0], final[1])"
   ]
  },
  {
   "cell_type": "code",
   "execution_count": null,
   "id": "14b54bdf",
   "metadata": {},
   "outputs": [],
   "source": []
  }
 ],
 "metadata": {
  "kernelspec": {
   "display_name": "Python 3 (ipykernel)",
   "language": "python",
   "name": "python3"
  },
  "language_info": {
   "codemirror_mode": {
    "name": "ipython",
    "version": 3
   },
   "file_extension": ".py",
   "mimetype": "text/x-python",
   "name": "python",
   "nbconvert_exporter": "python",
   "pygments_lexer": "ipython3",
   "version": "3.8.8"
  }
 },
 "nbformat": 4,
 "nbformat_minor": 5
}
