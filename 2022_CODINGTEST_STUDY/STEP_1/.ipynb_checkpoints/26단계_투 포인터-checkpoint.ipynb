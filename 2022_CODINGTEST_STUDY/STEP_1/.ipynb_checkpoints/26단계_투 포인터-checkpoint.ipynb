{
 "cells": [
  {
   "cell_type": "markdown",
   "id": "4ede8234",
   "metadata": {},
   "source": [
    "#### 1 : 3273"
   ]
  },
  {
   "cell_type": "code",
   "execution_count": 16,
   "id": "0503e01d",
   "metadata": {},
   "outputs": [
    {
     "name": "stdout",
     "output_type": "stream",
     "text": [
      "9\n",
      "5 12 7 10 9 1 2 3 11\n",
      "13\n"
     ]
    }
   ],
   "source": [
    "n = int(input())\n",
    "A = sorted(list(map(int,input().split())))\n",
    "x = int(input())"
   ]
  },
  {
   "cell_type": "code",
   "execution_count": 17,
   "id": "54747faf",
   "metadata": {},
   "outputs": [
    {
     "name": "stdout",
     "output_type": "stream",
     "text": [
      "3\n"
     ]
    }
   ],
   "source": [
    "cnt = 0\n",
    "left = 0\n",
    "right = n-1\n",
    "\n",
    "while left <right:\n",
    "    tmp = A[left]+A[right]\n",
    "    if tmp == x:\n",
    "        cnt += 1\n",
    "    if tmp < x:\n",
    "        left += 1\n",
    "        continue\n",
    "    right -= 1\n",
    "    \n",
    "print(cnt)"
   ]
  },
  {
   "cell_type": "markdown",
   "id": "e6740a22",
   "metadata": {},
   "source": [
    "#### 2 : 2470"
   ]
  },
  {
   "cell_type": "code",
   "execution_count": null,
   "id": "da42f9cd",
   "metadata": {},
   "outputs": [],
   "source": [
    "n = int(input())\n",
    "A = sorted(list(map(int,input().split())))"
   ]
  },
  {
   "cell_type": "code",
   "execution_count": null,
   "id": "6616675a",
   "metadata": {},
   "outputs": [],
   "source": []
  }
 ],
 "metadata": {
  "kernelspec": {
   "display_name": "Python 3 (ipykernel)",
   "language": "python",
   "name": "python3"
  },
  "language_info": {
   "codemirror_mode": {
    "name": "ipython",
    "version": 3
   },
   "file_extension": ".py",
   "mimetype": "text/x-python",
   "name": "python",
   "nbconvert_exporter": "python",
   "pygments_lexer": "ipython3",
   "version": "3.8.8"
  }
 },
 "nbformat": 4,
 "nbformat_minor": 5
}
