{
 "cells": [
  {
   "cell_type": "markdown",
   "id": "6a892df2",
   "metadata": {},
   "source": [
    "### 01 : 10828"
   ]
  },
  {
   "cell_type": "code",
   "execution_count": 16,
   "id": "3c271c62",
   "metadata": {},
   "outputs": [
    {
     "name": "stdout",
     "output_type": "stream",
     "text": [
      "7\n",
      "pop\n",
      "-1\n",
      "top\n",
      "-1\n",
      "push 123\n",
      "top\n",
      "['123']\n",
      "pop\n",
      "['123']\n",
      "top\n",
      "-1\n",
      "pop\n",
      "-1\n"
     ]
    }
   ],
   "source": [
    "import sys\n",
    "\n",
    "n = int(sys.stdin.readline())\n",
    "stack = []\n",
    "\n",
    "for i in range(n):\n",
    "    a = list(sys.sydin.readline().split())\n",
    "    if a[0] == 'push':\n",
    "        stack.append(a[1])\n",
    "    elif a[0] == 'pop':\n",
    "        if stack == []:\n",
    "            print(-1)\n",
    "        else : \n",
    "            print(stack[-1])\n",
    "            stack.pop()\n",
    "    elif a[0] == 'size':\n",
    "        print(len(stack))\n",
    "    elif a[0] == 'empty':\n",
    "        if stack == []:\n",
    "            print(1)\n",
    "        else :\n",
    "            print(0)\n",
    "    elif a[0] == 'top':\n",
    "        if stack == []:\n",
    "            print(-1)\n",
    "        else : \n",
    "            print(stack[-1])"
   ]
  },
  {
   "cell_type": "markdown",
   "id": "64adddd7",
   "metadata": {},
   "source": [
    "### 03 : 9012"
   ]
  },
  {
   "cell_type": "code",
   "execution_count": null,
   "id": "410b9289",
   "metadata": {},
   "outputs": [],
   "source": [
    "import sys\n",
    "\n",
    "t = int(input())\n",
    "\n",
    "for i in range(t):\n",
    "    a = list(map(input()))\n",
    "    \n"
   ]
  },
  {
   "cell_type": "markdown",
   "id": "5e1d3ffd",
   "metadata": {},
   "source": [
    "### 05 : 1874"
   ]
  },
  {
   "cell_type": "code",
   "execution_count": null,
   "id": "f1c1f357",
   "metadata": {},
   "outputs": [],
   "source": []
  }
 ],
 "metadata": {
  "kernelspec": {
   "display_name": "Python 3 (ipykernel)",
   "language": "python",
   "name": "python3"
  },
  "language_info": {
   "codemirror_mode": {
    "name": "ipython",
    "version": 3
   },
   "file_extension": ".py",
   "mimetype": "text/x-python",
   "name": "python",
   "nbconvert_exporter": "python",
   "pygments_lexer": "ipython3",
   "version": "3.8.8"
  }
 },
 "nbformat": 4,
 "nbformat_minor": 5
}
