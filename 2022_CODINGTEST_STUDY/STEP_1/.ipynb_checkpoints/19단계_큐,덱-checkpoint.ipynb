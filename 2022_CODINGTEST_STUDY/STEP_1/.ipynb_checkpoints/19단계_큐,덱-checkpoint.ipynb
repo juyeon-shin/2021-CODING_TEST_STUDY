{
 "cells": [
  {
   "cell_type": "markdown",
   "id": "4d3051e0",
   "metadata": {},
   "source": [
    "### 01 : 18258"
   ]
  },
  {
   "cell_type": "code",
   "execution_count": 3,
   "id": "3a75f3a8",
   "metadata": {},
   "outputs": [
    {
     "name": "stdout",
     "output_type": "stream",
     "text": [
      "15\n",
      "push 1\n",
      "push 2\n",
      "front\n",
      "1\n",
      "back\n",
      "2\n",
      "size\n",
      "2\n",
      "empty\n",
      "0\n",
      "pop\n",
      "1\n",
      "pop\n",
      "2\n",
      "pop\n",
      "-1\n",
      "size\n",
      "0\n",
      "empty\n",
      "1\n",
      "pop\n",
      "-1\n",
      "push 3\n",
      "empty\n",
      "0\n",
      "front\n",
      "3\n"
     ]
    }
   ],
   "source": [
    "import sys\n",
    "n = int(sys.stdin.readline())\n",
    "stack = []\n",
    "for i in range(n):\n",
    "    a = list(sys.stdin.readline().split())\n",
    "    if a[0] == 'push':\n",
    "        stack.append(a[1])\n",
    "    elif a[0] == 'pop':\n",
    "        if stack == []:\n",
    "            print(-1)\n",
    "        else : \n",
    "            print(stack[0])\n",
    "            stack.pop(0)\n",
    "    elif a[0] == 'size':\n",
    "        print(len(stack))\n",
    "    elif a[0] == 'empty':\n",
    "        if stack == []:\n",
    "            print(1)\n",
    "        else :\n",
    "            print(0)\n",
    "    elif a[0] == 'front':\n",
    "        if stack == []:\n",
    "            print(-1)\n",
    "        else :\n",
    "            print(stack[0])\n",
    "    elif a[0] == 'back':\n",
    "        if stack == []:\n",
    "            print(-1)\n",
    "        else :\n",
    "            print(stack[-1])"
   ]
  },
  {
   "cell_type": "markdown",
   "id": "facdb69c",
   "metadata": {},
   "source": [
    "### 03 : 11866"
   ]
  },
  {
   "cell_type": "code",
   "execution_count": 22,
   "id": "00fc5cf3",
   "metadata": {},
   "outputs": [
    {
     "name": "stdout",
     "output_type": "stream",
     "text": [
      "7 3\n",
      "<3, 6, 2, 7, 5, 1, 4>\n"
     ]
    }
   ],
   "source": [
    "from collections import deque \n",
    "queue = deque()\n",
    "answer = []\n",
    "\n",
    "n,k = map(int,input().split())\n",
    "\n",
    "for i in range(1,n+1):\n",
    "    queue.append(i)\n",
    "    \n",
    "while queue :\n",
    "    for i in range(k-1):\n",
    "        queue.append(queue.popleft())\n",
    "    answer.append(queue.popleft())\n",
    "\n",
    "print('<', end='')\n",
    "for i in range(len(answer)-1):\n",
    "    print('%d, '%answer[i],end='')\n",
    "print(answer[-1],end='')\n",
    "print('>')"
   ]
  },
  {
   "cell_type": "markdown",
   "id": "c25bdc42",
   "metadata": {},
   "source": [
    "### 05 : 10866"
   ]
  },
  {
   "cell_type": "code",
   "execution_count": null,
   "id": "457648ff",
   "metadata": {},
   "outputs": [],
   "source": []
  },
  {
   "cell_type": "code",
   "execution_count": null,
   "id": "3eb53f86",
   "metadata": {},
   "outputs": [],
   "source": []
  },
  {
   "cell_type": "markdown",
   "id": "8d1fc63a",
   "metadata": {},
   "source": [
    "### 07 : 5430"
   ]
  },
  {
   "cell_type": "code",
   "execution_count": null,
   "id": "d41029d4",
   "metadata": {},
   "outputs": [],
   "source": []
  }
 ],
 "metadata": {
  "kernelspec": {
   "display_name": "Python 3 (ipykernel)",
   "language": "python",
   "name": "python3"
  },
  "language_info": {
   "codemirror_mode": {
    "name": "ipython",
    "version": 3
   },
   "file_extension": ".py",
   "mimetype": "text/x-python",
   "name": "python",
   "nbconvert_exporter": "python",
   "pygments_lexer": "ipython3",
   "version": "3.8.8"
  }
 },
 "nbformat": 4,
 "nbformat_minor": 5
}
