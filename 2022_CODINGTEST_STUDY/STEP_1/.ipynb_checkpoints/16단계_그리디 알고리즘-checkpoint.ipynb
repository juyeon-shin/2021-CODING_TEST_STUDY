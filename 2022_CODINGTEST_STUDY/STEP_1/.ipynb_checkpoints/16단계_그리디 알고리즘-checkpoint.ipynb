{
 "cells": [
  {
   "cell_type": "markdown",
   "id": "824f873d",
   "metadata": {},
   "source": [
    "#### 1 : 11047"
   ]
  },
  {
   "cell_type": "code",
   "execution_count": 27,
   "id": "aa90095e",
   "metadata": {},
   "outputs": [
    {
     "name": "stdout",
     "output_type": "stream",
     "text": [
      "10 4790\n",
      "1\n",
      "5\n",
      "10\n",
      "50\n",
      "100\n",
      "500\n",
      "1000\n",
      "5000\n",
      "10000\n",
      "50000\n"
     ]
    },
    {
     "data": {
      "text/plain": [
       "[50000, 10000, 5000, 1000, 500, 100, 50, 10, 5, 1]"
      ]
     },
     "execution_count": 27,
     "metadata": {},
     "output_type": "execute_result"
    }
   ],
   "source": [
    "n,k = map(int,input().split())\n",
    "N_list = []\n",
    "for i in range(n):\n",
    "    N_list.insert(0,int(input()))\n",
    "\n",
    "count = 0\n",
    "for i in N_list:\n",
    "    if i>k:\n",
    "        pass\n",
    "    if i<=k:\n",
    "        count += (k//i)\n",
    "        k= k%i\n",
    "print(count)"
   ]
  },
  {
   "cell_type": "markdown",
   "id": "7453c8cd",
   "metadata": {},
   "source": [
    "#### 3 : 11399"
   ]
  },
  {
   "cell_type": "code",
   "execution_count": 2,
   "id": "83146120",
   "metadata": {},
   "outputs": [
    {
     "name": "stdout",
     "output_type": "stream",
     "text": [
      "5\n",
      "3 1 4 3 2\n"
     ]
    }
   ],
   "source": [
    "n = int,input()\n",
    "p = list(map(int,input().split()))\n",
    "\n",
    "p = sorted(p)\n",
    "\n",
    "sum_p = []\n",
    "\n",
    "for i in range(len(p)):\n",
    "    sum_p.append(p[i]*(len(p)-i))\n",
    "    \n",
    "sum(sum_p)"
   ]
  },
  {
   "cell_type": "markdown",
   "id": "01d0ff39",
   "metadata": {},
   "source": [
    "#### 5 : 13305"
   ]
  },
  {
   "cell_type": "code",
   "execution_count": 47,
   "id": "63b55b97",
   "metadata": {},
   "outputs": [
    {
     "name": "stdout",
     "output_type": "stream",
     "text": [
      "4\n",
      "2 3 1\n",
      "5 2 4 1\n"
     ]
    }
   ],
   "source": [
    "#17점\n",
    "\n",
    "town = int(input()) \n",
    "road = list(map(int,input().split()))\n",
    "oil = list(map(int,input().split()))\n",
    "\n",
    "cash = 0\n",
    "for i in range(0,oil.index(min(oil[:-1]))+1):\n",
    "    if oil[i] > min(oil[:-1]):\n",
    "        cash += oil[i]*road[i]\n",
    "    else :\n",
    "        cash += min(oil[:-1])*sum(road[i:])\n",
    "        \n",
    "print(cash)"
   ]
  },
  {
   "cell_type": "code",
   "execution_count": 53,
   "id": "6e9ce4bd",
   "metadata": {},
   "outputs": [
    {
     "name": "stdout",
     "output_type": "stream",
     "text": [
      "4\n",
      "2 3 1\n",
      "5 2 4 1\n",
      "18\n"
     ]
    }
   ],
   "source": [
    "#100점\n",
    "town = int(input()) \n",
    "road = list(map(int,input().split()))\n",
    "oil = list(map(int,input().split()))\n",
    "\n",
    "res = 0\n",
    "m = oil[0]\n",
    "for i in range(town-1): \n",
    "    if oil[i]<m:\n",
    "        m = oil[i] # 오일가격을 갱신하는 과정\n",
    "    res += m*road[i] # 갱신한 오일가격 * 거리\n",
    "print(res)"
   ]
  },
  {
   "cell_type": "code",
   "execution_count": null,
   "id": "b07495ac",
   "metadata": {},
   "outputs": [],
   "source": []
  }
 ],
 "metadata": {
  "kernelspec": {
   "display_name": "Python [conda env:root] *",
   "language": "python",
   "name": "conda-root-py"
  },
  "language_info": {
   "codemirror_mode": {
    "name": "ipython",
    "version": 3
   },
   "file_extension": ".py",
   "mimetype": "text/x-python",
   "name": "python",
   "nbconvert_exporter": "python",
   "pygments_lexer": "ipython3",
   "version": "3.8.8"
  }
 },
 "nbformat": 4,
 "nbformat_minor": 5
}
