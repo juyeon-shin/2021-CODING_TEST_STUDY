{
 "cells": [
  {
   "cell_type": "markdown",
   "id": "7b9d31b9",
   "metadata": {},
   "source": [
    "#### 1 : 1003"
   ]
  },
  {
   "cell_type": "code",
   "execution_count": null,
   "id": "6a18ad20",
   "metadata": {},
   "outputs": [],
   "source": [
    "zero = [1,0,1]\n",
    "one = [0,1,1]\n",
    "\n",
    "def fibo(n):\n",
    "    if n==0:\n",
    "        cn_0 += 1\n",
    "        return 0\n",
    "    if n==1:\n",
    "        cn_1 += 1\n",
    "        return 1\n",
    "    else:\n",
    "        return fibo(n-1)+fibo(n-2)\n",
    "\n",
    "t = int(input())\n",
    "case = []\n",
    "for i in range(t):\n",
    "    case.append((int(input())))\n",
    "    \n",
    "for i in case:\n",
    "    print(fibo(i))"
   ]
  },
  {
   "cell_type": "code",
   "execution_count": null,
   "id": "36cc6944",
   "metadata": {},
   "outputs": [],
   "source": [
    "# 정답\n",
    "zero = [1, 0, 1]\n",
    "one = [0, 1, 1]\n",
    "\n",
    "def fibonacci(num):\n",
    "    length = len(zero)\n",
    "    if num >= length: # ??\n",
    "        for i in range(length, num+1):\n",
    "            zero.append(zero[i-1] + zero[i-2]) #이해\n",
    "            one.append(one[i-1] + one[i-2]) #이해\n",
    "    print('{} {}'.format(zero[num], one[num]))\n",
    "\n",
    "T = int(input())\n",
    "    \n",
    "for _ in range(T):\n",
    "    fibonacci(int(input()))"
   ]
  }
 ],
 "metadata": {
  "kernelspec": {
   "display_name": "Python [conda env:root] *",
   "language": "python",
   "name": "conda-root-py"
  },
  "language_info": {
   "codemirror_mode": {
    "name": "ipython",
    "version": 3
   },
   "file_extension": ".py",
   "mimetype": "text/x-python",
   "name": "python",
   "nbconvert_exporter": "python",
   "pygments_lexer": "ipython3",
   "version": "3.8.8"
  }
 },
 "nbformat": 4,
 "nbformat_minor": 5
}
