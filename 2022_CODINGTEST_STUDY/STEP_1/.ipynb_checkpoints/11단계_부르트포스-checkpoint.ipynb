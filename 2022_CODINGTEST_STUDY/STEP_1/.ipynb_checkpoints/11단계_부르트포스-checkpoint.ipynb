{
 "cells": [
  {
   "cell_type": "markdown",
   "id": "fb454316",
   "metadata": {},
   "source": [
    "### 11단계 : 부르트 포스"
   ]
  },
  {
   "cell_type": "markdown",
   "id": "ac497f75",
   "metadata": {},
   "source": [
    "#### 1 : 2798"
   ]
  },
  {
   "cell_type": "code",
   "execution_count": 12,
   "id": "c968d987",
   "metadata": {},
   "outputs": [
    {
     "name": "stdout",
     "output_type": "stream",
     "text": [
      "10 500\n",
      "93 181 245 214 315 36 185 138 216 295\n",
      "497\n"
     ]
    }
   ],
   "source": [
    "n,m = map(int,input().split(' '))\n",
    "A = list(map(int,input().split(' ')))\n",
    "b = []\n",
    "for i in A:\n",
    "    for j in A:\n",
    "        for k in A:\n",
    "            if i !=j and j!=k and i!=k:\n",
    "                if i+j+k > m:\n",
    "                    continue\n",
    "                elif i+j+k <= m:\n",
    "                    b.append(i+j+k)\n",
    "print(max(b))"
   ]
  },
  {
   "cell_type": "markdown",
   "id": "b225d521",
   "metadata": {},
   "source": [
    "#### 3 : 7568"
   ]
  },
  {
   "cell_type": "code",
   "execution_count": 31,
   "id": "a24c1be2",
   "metadata": {},
   "outputs": [
    {
     "name": "stdout",
     "output_type": "stream",
     "text": [
      "3\n",
      "55 185\n",
      "58 183\n",
      "88 186\n",
      "[(55, 185), (58, 183), (88, 186)]\n"
     ]
    }
   ],
   "source": [
    "n = int(input())\n",
    "a = []\n",
    "\n",
    "for i in range(n):\n",
    "    x,y = map(int,input().split(' '))\n",
    "    a.append((x,y))\n",
    "\n",
    "for i in a :\n",
    "    rank = 1\n",
    "    for j in a :\n",
    "        if i[0] < j[0] and i[1] < j[1] :\n",
    "            rank += 1 \n",
    "    print(rank, end= ' ')"
   ]
  },
  {
   "cell_type": "markdown",
   "id": "b6c88c9f",
   "metadata": {},
   "source": [
    "#### 5 : 1436"
   ]
  },
  {
   "cell_type": "code",
   "execution_count": 65,
   "id": "a6eaf6e2",
   "metadata": {},
   "outputs": [
    {
     "name": "stdout",
     "output_type": "stream",
     "text": [
      "3\n",
      "2666\n"
     ]
    }
   ],
   "source": [
    "n = int(input())\n"
   ]
  },
  {
   "cell_type": "code",
   "execution_count": 121,
   "id": "fdbf9c92",
   "metadata": {},
   "outputs": [],
   "source": [
    "#오답\n",
    "def step_1(n):\n",
    "    n = int(n)\n",
    "    if n%10 < 6 :\n",
    "        return print((n%10-1)*1000+666)\n",
    "    elif n%10 >= 6 :\n",
    "        return print(666*10+(n%10-1))\n",
    "    \n",
    "def step_2(n):\n",
    "    if (int(n[-1])<int(n[0])*10+7) and (int(n[-1]) < int(n[0])*10):\n",
    "        return print((int(n)-1)*1000 + 666)\n",
    "    elif (int(n[-1])>=int(n[0])*10+7) and int(n[-1])<(int(n[0])*10+9):\n",
    "        return print((int(n)*10000 + 666*10 + (int(n)-1)))\n",
    "    elif int(n[-1]) == 0:\n",
    "        return print((int(n)-1)*10000 + 666*10 + 9)"
   ]
  },
  {
   "cell_type": "code",
   "execution_count": 139,
   "id": "4590d5d9",
   "metadata": {},
   "outputs": [
    {
     "name": "stdout",
     "output_type": "stream",
     "text": [
      "17\n",
      "7666\n"
     ]
    }
   ],
   "source": [
    "n = int(input())\n",
    "cnt = 0\n",
    "six_n = 666\n",
    "while True:\n",
    "    if '666' in str(six_n): \n",
    "        cnt += 1\n",
    "    if cnt == n:\n",
    "        print(six_n)\n",
    "        break\n",
    "    six_n += 1\n",
    "    \n",
    "'''\n",
    "n과 while문을 비교\n",
    "n을 이용해서 계산하는게 아님\n",
    "'''"
   ]
  },
  {
   "cell_type": "code",
   "execution_count": null,
   "id": "6f507243",
   "metadata": {},
   "outputs": [],
   "source": [
    "def isRagnarok(n):\n",
    "    string = str(n)\n",
    "    if string.find('666') >= 0:     # find: 주어진 문자열의 위치 반환. 없으면 -1  반환.\n",
    "        return True\n",
    "    else:\n",
    "        return False\n",
    "\n",
    "# 주어진 종말의 숫자의 다음 종말의 숫자를 반환하는 함수\n",
    "def nextRagnarok(n):\n",
    "    if isRagnarok(n + 1):\n",
    "        return n + 1\n",
    "    else:\n",
    "        # n + 1이 종말의 숫자가 되지 않는 경우는 \n",
    "        # n이 a666(단, a != 6)으로 끝날 때, 또는\n",
    "        # n에서 마지막으로 666이 나타나는 부분의 이후 부분이 전부 9일 때 뿐이다.\n",
    "        # ex) 123666, 2766699, 465666\n",
    "        # 그런데 두 경우 모두 다음 종말의 숫자는 천의 자리가 1만큼 증가한다.\n",
    "        # ex) 124 666, 2767 666, 466 600\n",
    "        # 천의 자리까지의 부분을 front라 하자. 그런데 front에 1을 더하자 \n",
    "        # front가 종말의 숫자가 되거나 6으로 끝난다면, 패턴이 달라진다.\n",
    "\n",
    "        if n == 666:\n",
    "            front = 0           # n = 666일 경우, 앞 부분이 없으므로 0으로 대체.\n",
    "        else:     \n",
    "            string = str(n)\n",
    "            front = int(string[:-3])    # n에서 뒤의 세 자리를 뺀 앞 부분        \n",
    "        front = front + 1 \n",
    "              \n",
    "        if isRagnarok(front):        # ex. 1665666 -> 1666000, 66599666 -> 66600000\n",
    "            return front * 1000\n",
    "        elif front % 100 == 66:         # ex. 265666 -> 266600\n",
    "            return front * 1000 + 600\n",
    "        elif front % 10 == 6:\n",
    "            return front * 1000 + 660\n",
    "        else:\n",
    "            return front * 1000 + 666"
   ]
  }
 ],
 "metadata": {
  "kernelspec": {
   "display_name": "Python [conda env:root] *",
   "language": "python",
   "name": "conda-root-py"
  },
  "language_info": {
   "codemirror_mode": {
    "name": "ipython",
    "version": 3
   },
   "file_extension": ".py",
   "mimetype": "text/x-python",
   "name": "python",
   "nbconvert_exporter": "python",
   "pygments_lexer": "ipython3",
   "version": "3.8.8"
  }
 },
 "nbformat": 4,
 "nbformat_minor": 5
}
