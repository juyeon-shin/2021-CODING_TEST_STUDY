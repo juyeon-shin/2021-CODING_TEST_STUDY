{
 "cells": [
  {
   "cell_type": "markdown",
   "id": "1a771547",
   "metadata": {},
   "source": [
    "#### 15649 : N과 M(1)"
   ]
  },
  {
   "cell_type": "code",
   "execution_count": 121,
   "id": "57f53dbd",
   "metadata": {},
   "outputs": [
    {
     "name": "stdout",
     "output_type": "stream",
     "text": [
      "4 2\n",
      "1 2\n",
      "1 3\n",
      "1 4\n",
      "2 1\n",
      "2 3\n",
      "2 4\n",
      "3 1\n",
      "3 2\n",
      "3 4\n",
      "4 1\n",
      "4 2\n",
      "4 3\n"
     ]
    }
   ],
   "source": [
    "n,m = list(map(int,input().split()))\n",
    " \n",
    "s = []\n",
    " \n",
    "def dfs():\n",
    "    if len(s)==m: #리스트에 들어간 수열들이 m개가 되면 리스트에 들어있는 숫자들을 모두 출력하고 함수를 나온다.\n",
    "        print(' '.join(map(str,s)))\n",
    "        return\n",
    "    \n",
    "    for i in range(1,n+1):\n",
    "        if i not in s:\n",
    "            s.append(i)\n",
    "            dfs()\n",
    "            s.pop() #출력\n",
    "\n",
    "dfs()"
   ]
  },
  {
   "cell_type": "markdown",
   "id": "f4662f47",
   "metadata": {},
   "source": [
    "s.pop()    \n",
    "현재 s=[1]인 상태에서 다음숫자를 넣기위하여 가지치기하기(재귀함수)\n",
    "\n",
    "  -> 만약 n=4, m=2라면 밑과 같은 형태로 진행될 것이다.\n",
    "\n",
    "      s : [1] -> [1,2] -> [1] -> [1,3] -> [1] -> [1,4]\n",
    "\n",
    "                  출력   pop(2)  출력   pop(3)  출력"
   ]
  },
  {
   "cell_type": "markdown",
   "id": "8a6ea285",
   "metadata": {},
   "source": [
    "#### 3 : 15651"
   ]
  },
  {
   "cell_type": "code",
   "execution_count": 3,
   "id": "721520f3",
   "metadata": {},
   "outputs": [
    {
     "name": "stdout",
     "output_type": "stream",
     "text": [
      "4 2\n",
      "1 1\n",
      "1 2\n",
      "1 3\n",
      "1 4\n",
      "2 1\n",
      "2 2\n",
      "2 3\n",
      "2 4\n",
      "3 1\n",
      "3 2\n",
      "3 3\n",
      "3 4\n",
      "4 1\n",
      "4 2\n",
      "4 3\n",
      "4 4\n"
     ]
    }
   ],
   "source": [
    "n,m = list(map(int,input().split()))\n",
    " \n",
    "s = []\n",
    " \n",
    "def dfs():\n",
    "    if len(s)==m: #리스트에 들어간 수열들이 m개가 되면 리스트에 들어있는 숫자들을 모두 출력하고 함수를 나온다.\n",
    "        print(' '.join(map(str,s)))\n",
    "        return\n",
    "    \n",
    "    for i in range(1,n+1):\n",
    "        s.append(i)\n",
    "        dfs()\n",
    "        s.pop() #출력\n",
    "\n",
    "dfs()"
   ]
  },
  {
   "cell_type": "markdown",
   "id": "22862524",
   "metadata": {},
   "source": [
    "#### 5 : 9663"
   ]
  },
  {
   "cell_type": "code",
   "execution_count": null,
   "id": "d144387d",
   "metadata": {},
   "outputs": [],
   "source": [
    "#!!!\n",
    "import sys \n",
    "n = int(sys.stdin.readline())\n",
    "board = [0] * n\n",
    "ans_count = 0 \n",
    "visited = [False] * n # n번째 열에 퀸이 있는지를 표시하는 list\n",
    "def check(x): # 기존에 있는 퀸들과 대각선 방향으로 겹치는 퀸이 있는지를 확인 \n",
    "    for i in range(x): \n",
    "        if abs(board[x] - board[i]) == x - i:\n",
    "            return False \n",
    "        return True \n",
    "\n",
    "def n_queen(x):\n",
    "    global ans_count \n",
    "    if x == n: \n",
    "        ans_count += 1 \n",
    "        return\n",
    "    for i in range(n):\n",
    "        if visited[i]: # i번째 열에 퀸이 있을 경우 continue \n",
    "            continue \n",
    "            \n",
    "        board[x] = i \n",
    "        if check(x): \n",
    "            visited[i] = True \n",
    "            n_queen(x + 1) \n",
    "            visited[i] = False \n",
    "\n",
    "n_queen(0) \n",
    "print(ans_count)"
   ]
  },
  {
   "cell_type": "markdown",
   "id": "a914274e",
   "metadata": {},
   "source": [
    "#### 7 : 14888"
   ]
  },
  {
   "cell_type": "code",
   "execution_count": 4,
   "id": "7e456a89",
   "metadata": {},
   "outputs": [
    {
     "name": "stdout",
     "output_type": "stream",
     "text": [
      "2\n",
      "5 6\n",
      "0 0 1 0\n"
     ]
    }
   ],
   "source": [
    "#!!!\n",
    "n = int(input())\n",
    "A = list(map(int,input().split()))\n",
    "S = list(map(int,input().split()))"
   ]
  },
  {
   "cell_type": "code",
   "execution_count": null,
   "id": "81763a21",
   "metadata": {},
   "outputs": [],
   "source": []
  }
 ],
 "metadata": {
  "kernelspec": {
   "display_name": "Python [conda env:root] *",
   "language": "python",
   "name": "conda-root-py"
  },
  "language_info": {
   "codemirror_mode": {
    "name": "ipython",
    "version": 3
   },
   "file_extension": ".py",
   "mimetype": "text/x-python",
   "name": "python",
   "nbconvert_exporter": "python",
   "pygments_lexer": "ipython3",
   "version": "3.8.8"
  }
 },
 "nbformat": 4,
 "nbformat_minor": 5
}
