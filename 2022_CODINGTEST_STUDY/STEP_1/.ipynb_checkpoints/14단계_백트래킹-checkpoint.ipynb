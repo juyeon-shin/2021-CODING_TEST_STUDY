{
 "cells": [
  {
   "cell_type": "markdown",
   "id": "1a771547",
   "metadata": {},
   "source": [
    "#### 15649 : N과 M(1)"
   ]
  },
  {
   "cell_type": "code",
   "execution_count": 112,
   "id": "8483b9cd",
   "metadata": {},
   "outputs": [
    {
     "name": "stdout",
     "output_type": "stream",
     "text": [
      "4 2\n"
     ]
    }
   ],
   "source": [
    "n,m = map(int,input().split())"
   ]
  },
  {
   "cell_type": "code",
   "execution_count": 119,
   "id": "f8435497",
   "metadata": {},
   "outputs": [],
   "source": [
    "answer = []\n",
    "\n",
    "def BackT(start):\n",
    "    if start == m :\n",
    "        for i in answer:\n",
    "            print(' '.join(map(str,answer)))\n",
    "            \n",
    "    for i in range(1,n+1):\n",
    "        if i not in answer:\n",
    "            answer.append(i)\n",
    "            BackT(start+1)\n",
    "            answer.pop() # ?? 쓰는 이유 ??"
   ]
  },
  {
   "cell_type": "code",
   "execution_count": 120,
   "id": "8bc77995",
   "metadata": {},
   "outputs": [
    {
     "name": "stdout",
     "output_type": "stream",
     "text": [
      "1 2\n",
      "1 2\n"
     ]
    }
   ],
   "source": [
    "BackT(0)"
   ]
  },
  {
   "cell_type": "code",
   "execution_count": null,
   "id": "a4829590",
   "metadata": {},
   "outputs": [],
   "source": []
  }
 ],
 "metadata": {
  "kernelspec": {
   "display_name": "Python [conda env:root] *",
   "language": "python",
   "name": "conda-root-py"
  },
  "language_info": {
   "codemirror_mode": {
    "name": "ipython",
    "version": 3
   },
   "file_extension": ".py",
   "mimetype": "text/x-python",
   "name": "python",
   "nbconvert_exporter": "python",
   "pygments_lexer": "ipython3",
   "version": "3.8.8"
  }
 },
 "nbformat": 4,
 "nbformat_minor": 5
}
