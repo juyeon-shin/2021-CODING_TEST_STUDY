{
 "cells": [
  {
   "cell_type": "markdown",
   "id": "8a0646fe",
   "metadata": {},
   "source": [
    "N으로 표현\n",
    "\n",
    "https://programmers.co.kr/learn/courses/30/lessons/42895\n",
    "https://gurumee92.tistory.com/164"
   ]
  },
  {
   "cell_type": "code",
   "execution_count": null,
   "id": "2dc6a6e5",
   "metadata": {},
   "outputs": [],
   "source": [
    "def solution(N, number):\n",
    "    answer = 0 \n",
    "    return answer"
   ]
  },
  {
   "cell_type": "code",
   "execution_count": null,
   "id": "782d99fc",
   "metadata": {},
   "outputs": [],
   "source": [
    "def solution(N, number): #??\n",
    "    # 허뎝님의 수정 피드백 -> 테스트 케이스가 바뀌면서 예외 사항을 추가해야 함.\n",
    "    if N == number:\n",
    "        return 1\n",
    "        \n",
    "    # 1. [ SET x 8 ] 초기화\n",
    "    s = [ set() for x in range(8) ] \n",
    "\n",
    "    # 2. 각 set마다 기본 수 \"N\" * i 수 초기화\n",
    "    for i,x in enumerate(s, start=1):\n",
    "        x.add( int( str(N) * i ) )\n",
    "\n",
    "    # 3. n 일반화\n",
    "    #   { \n",
    "    #       \"n\" * i U \n",
    "    #       1번 set 사칙연산 n-1번 set U\n",
    "    #       2번 set 사칙연산 n-2번 set U\n",
    "    #       ...\n",
    "    #       n-1번 set 사칙연산 1번 set, \n",
    "    #    } \n",
    "    # number를 가장 최소로 만드는 수 구함.\n",
    "    for i in range(1, 8): # 최솟값이 8보다 크면 -1 리턴\n",
    "        for j in range(i):\n",
    "            for op1 in s[j]:\n",
    "                for op2 in s[i-j-1]:\n",
    "                    s[i].add(op1 + op2)\n",
    "                    s[i].add(op1 - op2)\n",
    "                    s[i].add(op1 * op2)\n",
    "                    if op2 != 0:\n",
    "                        s[i].add(op1 // op2)\n",
    "\n",
    "        if  number in s[i]:\n",
    "            answer = i + 1\n",
    "            break\n",
    "\n",
    "    else:\n",
    "        answer = -1\n",
    "\n",
    "    return answer"
   ]
  },
  {
   "cell_type": "code",
   "execution_count": null,
   "id": "b8ab8f18",
   "metadata": {},
   "outputs": [],
   "source": [
    "solution()"
   ]
  },
  {
   "cell_type": "markdown",
   "id": "48403731",
   "metadata": {},
   "source": [
    "H index\n",
    "\n",
    "https://programmers.co.kr/learn/courses/30/lessons/42747"
   ]
  },
  {
   "cell_type": "code",
   "execution_count": 26,
   "id": "e50a5631",
   "metadata": {},
   "outputs": [
    {
     "data": {
      "text/plain": [
       "[0, 1, 3, 5, 6]"
      ]
     },
     "execution_count": 26,
     "metadata": {},
     "output_type": "execute_result"
    }
   ],
   "source": [
    "def solution(citations):\n",
    "    answer = 0\n",
    "    citations = sorted(citations)\n",
    "    #for i in citations:\n",
    "        #if \n",
    "    return answer"
   ]
  },
  {
   "cell_type": "code",
   "execution_count": 27,
   "id": "ce3b894f",
   "metadata": {},
   "outputs": [],
   "source": [
    "def solution(citations):\n",
    "    citations = sorted(citations)\n",
    "    l = len(citations)\n",
    "    for i in range(l):\n",
    "        if citations[i] >= l-i: #h번 이상 인용된 논문이 h편 이상\n",
    "            print(citations)\n",
    "            return l-i\n",
    "    return 0"
   ]
  },
  {
   "cell_type": "code",
   "execution_count": 28,
   "id": "7a1ca433",
   "metadata": {},
   "outputs": [
    {
     "name": "stdout",
     "output_type": "stream",
     "text": [
      "[0, 1, 3, 5, 6]\n"
     ]
    },
    {
     "data": {
      "text/plain": [
       "3"
      ]
     },
     "execution_count": 28,
     "metadata": {},
     "output_type": "execute_result"
    }
   ],
   "source": [
    "solution([3,0,6,1,5])"
   ]
  },
  {
   "cell_type": "markdown",
   "id": "64182171",
   "metadata": {},
   "source": [
    "조이스틱\n",
    "\n",
    "https://programmers.co.kr/learn/courses/30/lessons/42860"
   ]
  },
  {
   "cell_type": "code",
   "execution_count": null,
   "id": "8ffd359a",
   "metadata": {},
   "outputs": [],
   "source": [
    "def solution(name):\n",
    "    name = list(input().strip())\n",
    "    answer = 0\n",
    "    for i in range(1,len(name)-1):\n",
    "        if name[i] == 'A':\n",
    "            answer += 1\n",
    "        else:\n",
    "            answer += min(abs(ord('A') - ord(name[i])),abs(ord('Z') - ord(name[i]))+1)\n",
    "    return answer"
   ]
  },
  {
   "cell_type": "code",
   "execution_count": 29,
   "id": "a935afae",
   "metadata": {},
   "outputs": [],
   "source": [
    "def solution(name):\n",
    "    change = [min(ord(i) - ord(\"A\"), ord(\"Z\") - ord(i)+1) for i in name]\n",
    "    idx, answer = 0, 0\n",
    "\n",
    "    while True:\n",
    "        answer += change[idx]\n",
    "        change[idx] = 0\n",
    "\n",
    "        if sum(change) == 0:\n",
    "            break\n",
    "\n",
    "        left, right = 1, 1 # 좌우 거리를 구하기\n",
    "        while change[idx - left] == 0:\n",
    "            left += 1\n",
    "\n",
    "        while change[idx + right] == 0:\n",
    "            right += 1\n",
    "\n",
    "        answer += left if left < right else right # 방향 변경\n",
    "        idx += -left if left < right else right\n",
    "        \n",
    "    return answer"
   ]
  },
  {
   "cell_type": "code",
   "execution_count": 30,
   "id": "abb97690",
   "metadata": {},
   "outputs": [
    {
     "data": {
      "text/plain": [
       "23"
      ]
     },
     "execution_count": 30,
     "metadata": {},
     "output_type": "execute_result"
    }
   ],
   "source": [
    "solution('JAN')"
   ]
  },
  {
   "cell_type": "code",
   "execution_count": null,
   "id": "4dca5eb3",
   "metadata": {},
   "outputs": [],
   "source": []
  }
 ],
 "metadata": {
  "kernelspec": {
   "display_name": "Python 3 (ipykernel)",
   "language": "python",
   "name": "python3"
  },
  "language_info": {
   "codemirror_mode": {
    "name": "ipython",
    "version": 3
   },
   "file_extension": ".py",
   "mimetype": "text/x-python",
   "name": "python",
   "nbconvert_exporter": "python",
   "pygments_lexer": "ipython3",
   "version": "3.8.8"
  }
 },
 "nbformat": 4,
 "nbformat_minor": 5
}
