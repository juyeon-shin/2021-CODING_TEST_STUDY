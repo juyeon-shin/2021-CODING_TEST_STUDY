{
 "cells": [
  {
   "cell_type": "markdown",
   "id": "ccc318c3",
   "metadata": {},
   "source": [
    "#### 타겟넘버 : https://programmers.co.kr/learn/courses/30/lessons/43165"
   ]
  },
  {
   "cell_type": "code",
   "execution_count": null,
   "id": "4bde0269",
   "metadata": {},
   "outputs": [],
   "source": [
    "def solution(numbers, target): #([1,1,1,1,1], 3)\n",
    "    n = len(numbers)\n",
    "    answer = 0\n",
    "    def dfs(idx, result): # (0,0)\n",
    "        if idx == n:\n",
    "            if result == target:\n",
    "                nonlocal answer # scope 내의 지역변수 & 전역변수가 아닌 수\n",
    "                answer += 1\n",
    "            return\n",
    "        else:\n",
    "            dfs(idx+1, result+numbers[idx]) # dfs(1,0+1) -> dfs(2,1+1) -> dfs(3,2+1) : answer += 1 \n",
    "            dfs(idx+1, result-numbers[idx]) # dfs(1,0-1)    dfs(2,1-1)    dfs(3,2-1)\n",
    "    dfs(0,0)\n",
    "    return answer"
   ]
  }
 ],
 "metadata": {
  "kernelspec": {
   "display_name": "Python 3 (ipykernel)",
   "language": "python",
   "name": "python3"
  },
  "language_info": {
   "codemirror_mode": {
    "name": "ipython",
    "version": 3
   },
   "file_extension": ".py",
   "mimetype": "text/x-python",
   "name": "python",
   "nbconvert_exporter": "python",
   "pygments_lexer": "ipython3",
   "version": "3.8.8"
  }
 },
 "nbformat": 4,
 "nbformat_minor": 5
}
