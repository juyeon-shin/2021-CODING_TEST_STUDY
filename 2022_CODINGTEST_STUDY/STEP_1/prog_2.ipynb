{
 "cells": [
  {
   "cell_type": "code",
   "execution_count": 25,
   "id": "28d4552c",
   "metadata": {},
   "outputs": [],
   "source": [
    "numbers = []"
   ]
  },
  {
   "cell_type": "code",
   "execution_count": null,
   "id": "e083b8b3",
   "metadata": {},
   "outputs": [],
   "source": [
    "def pn(n):\n",
    "    for i in range(2,n):\n",
    "    if n%i == 0:\n",
    "        return False\n",
    "    return True"
   ]
  },
  {
   "cell_type": "code",
   "execution_count": null,
   "id": "617915a4",
   "metadata": {},
   "outputs": [],
   "source": []
  },
  {
   "cell_type": "code",
   "execution_count": null,
   "id": "4a687ef7",
   "metadata": {},
   "outputs": [],
   "source": []
  },
  {
   "cell_type": "code",
   "execution_count": null,
   "id": "6dad64f7",
   "metadata": {},
   "outputs": [],
   "source": []
  },
  {
   "cell_type": "code",
   "execution_count": 26,
   "id": "77646a11",
   "metadata": {},
   "outputs": [],
   "source": [
    "def solution(name):\n",
    "    answer = 0\n",
    "    return answer"
   ]
  },
  {
   "cell_type": "code",
   "execution_count": 9,
   "id": "5eb7d16b",
   "metadata": {},
   "outputs": [
    {
     "name": "stdout",
     "output_type": "stream",
     "text": [
      "JAZ\n"
     ]
    },
    {
     "data": {
      "text/plain": [
       "['J', 'A', 'Z']"
      ]
     },
     "execution_count": 9,
     "metadata": {},
     "output_type": "execute_result"
    }
   ],
   "source": [
    "name = list(input().strip())\n",
    "name"
   ]
  },
  {
   "cell_type": "code",
   "execution_count": 24,
   "id": "b04c5127",
   "metadata": {},
   "outputs": [],
   "source": [
    "cnt = 0\n",
    "cnt += ord(name[0]) - ord('A') # 처음 시작할 때 이동\n",
    "cnt += min(ord('A') - ord(name[1])+1,ord('Z') - ord(name[1])) # 위 아래로 동작\n",
    "# 양 옆으로 이동??\n",
    "# 상하, 좌우로 움직이는 기준?"
   ]
  },
  {
   "cell_type": "code",
   "execution_count": 21,
   "id": "6bc11f05",
   "metadata": {},
   "outputs": [
    {
     "data": {
      "text/plain": [
       "1"
      ]
     },
     "execution_count": 21,
     "metadata": {},
     "output_type": "execute_result"
    }
   ],
   "source": [
    "min(ord('A') - ord(name[1])+1,ord('Z') - ord(name[1]))"
   ]
  },
  {
   "cell_type": "code",
   "execution_count": 19,
   "id": "de2ca726",
   "metadata": {},
   "outputs": [
    {
     "name": "stdout",
     "output_type": "stream",
     "text": [
      "1\n",
      "2\n"
     ]
    }
   ],
   "source": [
    "for i in range(1,len(name)):\n",
    "    print(i)"
   ]
  },
  {
   "cell_type": "code",
   "execution_count": null,
   "id": "f0870f11",
   "metadata": {},
   "outputs": [],
   "source": []
  }
 ],
 "metadata": {
  "kernelspec": {
   "display_name": "Python [conda env:root] *",
   "language": "python",
   "name": "conda-root-py"
  },
  "language_info": {
   "codemirror_mode": {
    "name": "ipython",
    "version": 3
   },
   "file_extension": ".py",
   "mimetype": "text/x-python",
   "name": "python",
   "nbconvert_exporter": "python",
   "pygments_lexer": "ipython3",
   "version": "3.8.8"
  }
 },
 "nbformat": 4,
 "nbformat_minor": 5
}
