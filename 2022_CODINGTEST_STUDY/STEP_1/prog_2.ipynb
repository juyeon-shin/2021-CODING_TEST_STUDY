{
 "cells": [
  {
   "cell_type": "markdown",
   "id": "5bb25070",
   "metadata": {},
   "source": [
    "https://programmers.co.kr/learn/courses/30/lessons/42839"
   ]
  },
  {
   "cell_type": "code",
   "execution_count": 50,
   "id": "249a9b11",
   "metadata": {},
   "outputs": [],
   "source": [
    "def solution(numbers):\n",
    "    num = []\n",
    "    numbers = list(map(str, numbers))\n",
    "    answer = 0\n",
    "    return answer, num\n",
    "\n"
   ]
  },
  {
   "cell_type": "code",
   "execution_count": null,
   "id": "3ec0c7fc",
   "metadata": {},
   "outputs": [],
   "source": [
    "import math\n",
    "from itertools import permutations\n",
    "\n",
    "def solution(numbers):\n",
    "    answer = []\n",
    "    for i in range(1, len(numbers)+1):              \n",
    "        arr = list(permutations(numbers, i))        \n",
    "        for j in range(len(arr)):                \n",
    "            num = int(''.join(map(str,arr[j])))     \n",
    "            if prime_check(num):                \n",
    "                answer.append(num)                 \n",
    "    \n",
    "    answer = list(set(answer))                      \n",
    "    return len(answer)\n",
    "    \n",
    "def prime_check(n):\n",
    "    if n <= 1 :\n",
    "        return False\n",
    "    for div in range(2,int(math.sqrt(n))+1):\n",
    "        if n%div == 0:\n",
    "            return False\n",
    "    return True\n"
   ]
  },
  {
   "cell_type": "code",
   "execution_count": 51,
   "id": "49fee3d4",
   "metadata": {},
   "outputs": [],
   "source": [
    "numbers = ['17']"
   ]
  },
  {
   "cell_type": "code",
   "execution_count": null,
   "id": "88a84994",
   "metadata": {},
   "outputs": [],
   "source": [
    "def pn(n):\n",
    "    for i in range(2,n):\n",
    "    if n%i == 0:\n",
    "        return False\n",
    "    return True"
   ]
  },
  {
   "cell_type": "markdown",
   "id": "6c42fe96",
   "metadata": {},
   "source": [
    "제곱근까지하면 그 수가 소수인지 알 수 있음 -> 시간 복잡도 줄이기"
   ]
  },
  {
   "cell_type": "markdown",
   "id": "23db1005",
   "metadata": {},
   "source": [
    "### 조이스틱\n",
    "https://programmers.co.kr/learn/courses/30/lessons/42860"
   ]
  },
  {
   "cell_type": "code",
   "execution_count": 78,
   "id": "d1b354d6",
   "metadata": {},
   "outputs": [],
   "source": [
    "# 틀림\n",
    "def solution(name):\n",
    "    name = list(input().strip())\n",
    "    answer = 0\n",
    "    for i in range(1,len(name)-1):\n",
    "        if name[i] == 'A':\n",
    "            answer += 1\n",
    "        else:\n",
    "            answer += min(abs(ord('A') - ord(name[i])),abs(ord('Z') - ord(name[i]))+1)\n",
    "            #print(min(abs(ord('A') - ord(name[i])),abs(ord('Z') - ord(name[i]))+1))\n",
    "    return answer"
   ]
  },
  {
   "cell_type": "code",
   "execution_count": 80,
   "id": "8afcbaee",
   "metadata": {
    "scrolled": true
   },
   "outputs": [
    {
     "name": "stdout",
     "output_type": "stream",
     "text": [
      "'ABAAAB'\n"
     ]
    },
    {
     "data": {
      "text/plain": [
       "6"
      ]
     },
     "execution_count": 80,
     "metadata": {},
     "output_type": "execute_result"
    }
   ],
   "source": [
    "solution(name)"
   ]
  },
  {
   "cell_type": "code",
   "execution_count": 76,
   "id": "880aac45",
   "metadata": {},
   "outputs": [
    {
     "name": "stdout",
     "output_type": "stream",
     "text": [
      "A\n"
     ]
    }
   ],
   "source": [
    "if 'A' in name[:2]:\n",
    "    print('A')"
   ]
  },
  {
   "cell_type": "code",
   "execution_count": 77,
   "id": "0a82583d",
   "metadata": {},
   "outputs": [
    {
     "name": "stdout",
     "output_type": "stream",
     "text": [
      "['J', 'A', 'Z']\n"
     ]
    }
   ],
   "source": [
    "print(name)"
   ]
  },
  {
   "cell_type": "code",
   "execution_count": null,
   "id": "44072566",
   "metadata": {},
   "outputs": [],
   "source": [
    "A이면 좌우로 이동\n",
    "A가 아니면 위아래로 이동\n",
    "A가 연속으로 나올 때 케이스"
   ]
  }
 ],
 "metadata": {
  "kernelspec": {
   "display_name": "Python [conda env:root] *",
   "language": "python",
   "name": "conda-root-py"
  },
  "language_info": {
   "codemirror_mode": {
    "name": "ipython",
    "version": 3
   },
   "file_extension": ".py",
   "mimetype": "text/x-python",
   "name": "python",
   "nbconvert_exporter": "python",
   "pygments_lexer": "ipython3",
   "version": "3.8.8"
  }
 },
 "nbformat": 4,
 "nbformat_minor": 5
}
