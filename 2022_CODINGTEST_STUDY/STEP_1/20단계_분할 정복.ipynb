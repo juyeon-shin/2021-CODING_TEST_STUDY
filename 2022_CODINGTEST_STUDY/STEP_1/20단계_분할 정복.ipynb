{
 "cells": [
  {
   "cell_type": "markdown",
   "id": "77dac0da",
   "metadata": {},
   "source": [
    "#### 1 : 2630"
   ]
  },
  {
   "cell_type": "code",
   "execution_count": null,
   "id": "47870e74",
   "metadata": {},
   "outputs": [],
   "source": []
  },
  {
   "cell_type": "markdown",
   "id": "5924c2ab",
   "metadata": {},
   "source": [
    "#### 2 : 1992"
   ]
  },
  {
   "cell_type": "code",
   "execution_count": null,
   "id": "fcbac60e",
   "metadata": {},
   "outputs": [],
   "source": []
  },
  {
   "cell_type": "markdown",
   "id": "20758318",
   "metadata": {},
   "source": [
    "#### 3 : 1780"
   ]
  },
  {
   "cell_type": "code",
   "execution_count": null,
   "id": "80d78dab",
   "metadata": {},
   "outputs": [],
   "source": []
  }
 ],
 "metadata": {
  "kernelspec": {
   "display_name": "Python 3 (ipykernel)",
   "language": "python",
   "name": "python3"
  },
  "language_info": {
   "codemirror_mode": {
    "name": "ipython",
    "version": 3
   },
   "file_extension": ".py",
   "mimetype": "text/x-python",
   "name": "python",
   "nbconvert_exporter": "python",
   "pygments_lexer": "ipython3",
   "version": "3.8.8"
  }
 },
 "nbformat": 4,
 "nbformat_minor": 5
}
