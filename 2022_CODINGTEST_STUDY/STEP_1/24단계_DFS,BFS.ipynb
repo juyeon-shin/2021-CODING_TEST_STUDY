{
 "cells": [
  {
   "cell_type": "markdown",
   "id": "218a137d",
   "metadata": {},
   "source": [
    "#### 1 : DFS와 BFS"
   ]
  },
  {
   "cell_type": "code",
   "execution_count": 28,
   "id": "39143ae4",
   "metadata": {},
   "outputs": [
    {
     "name": "stdout",
     "output_type": "stream",
     "text": [
      "4 5 1\n",
      "1 2\n",
      "1 3\n",
      "1 4\n",
      "2 4\n",
      "3 4\n"
     ]
    }
   ],
   "source": [
    "n,m,v = map(int,input().split())\n",
    "graph = [[] for i in range(n+1)]\n",
    "\n",
    "for i in range(m):\n",
    "    a,b = map(int,input().split())\n",
    "    graph[a].append(b)\n",
    "    graph[b].append(a)\n",
    "    graph[a].sort()\n",
    "    graph[b].sort()\n",
    "    \n",
    "visited = [False]*(n+1)"
   ]
  },
  {
   "cell_type": "code",
   "execution_count": 34,
   "id": "c9dffe35",
   "metadata": {},
   "outputs": [],
   "source": [
    "def dfs(graph,v,visited):\n",
    "    visited[v] = True\n",
    "    print(v,end=' ')\n",
    "    for i in graph[v]:\n",
    "        if not visited[i]:\n",
    "            dfs(graph,i,visited)"
   ]
  },
  {
   "cell_type": "code",
   "execution_count": 35,
   "id": "190096be",
   "metadata": {},
   "outputs": [],
   "source": [
    "from collections import  deque\n",
    "def bfs(graph, v, visited):\n",
    "    visited = [False] * (n + 1)\n",
    "    queue = deque([v])\n",
    "    visited[v] = True\n",
    "    while queue:\n",
    "        pop = queue.popleft()\n",
    "        print(pop, end=' ')\n",
    "        for i in graph[pop]:\n",
    "            if not visited[i]:\n",
    "                queue.append(i)\n",
    "                visited[i] = True"
   ]
  },
  {
   "cell_type": "code",
   "execution_count": 36,
   "id": "fbcd1cc1",
   "metadata": {},
   "outputs": [
    {
     "name": "stdout",
     "output_type": "stream",
     "text": [
      "1 "
     ]
    }
   ],
   "source": [
    "dfs(graph,v,visited)\n",
    "print()\n",
    "bfs(graph,v,visited)"
   ]
  },
  {
   "cell_type": "markdown",
   "id": "fbab6345",
   "metadata": {},
   "source": [
    "#### 2 : 2606"
   ]
  },
  {
   "cell_type": "code",
   "execution_count": 48,
   "id": "1303c3c1",
   "metadata": {},
   "outputs": [
    {
     "name": "stdout",
     "output_type": "stream",
     "text": [
      "7\n",
      "6\n",
      "1 2\n",
      "2 3\n",
      "1 5\n",
      "5 2\n",
      "5 6\n",
      "4 7\n"
     ]
    }
   ],
   "source": [
    "c = int(input())\n",
    "p = int(input())\n",
    "graph = [[] for i in range(c+1)]\n",
    "\n",
    "for i in range(p):\n",
    "    a,b = map(int,input().split())\n",
    "    graph[a].append(b)\n",
    "    graph[b].append(a)\n",
    "    "
   ]
  },
  {
   "cell_type": "code",
   "execution_count": 57,
   "id": "b49639e5",
   "metadata": {},
   "outputs": [],
   "source": [
    "visited = [False]*(c+1)\n",
    "cnt = 0\n",
    "def dfs(v):\n",
    "    global cnt\n",
    "    visited[v] = True\n",
    "    for i in graph[v]:\n",
    "        if not visited[i]:\n",
    "            dfs(i)\n",
    "            cnt += 1"
   ]
  },
  {
   "cell_type": "code",
   "execution_count": 58,
   "id": "ce2ebfb7",
   "metadata": {},
   "outputs": [
    {
     "name": "stdout",
     "output_type": "stream",
     "text": [
      "4\n"
     ]
    }
   ],
   "source": [
    "dfs(1)\n",
    "print(cnt)"
   ]
  },
  {
   "cell_type": "code",
   "execution_count": 43,
   "id": "ebb86d51",
   "metadata": {},
   "outputs": [
    {
     "name": "stdout",
     "output_type": "stream",
     "text": [
      "7\n",
      "6\n",
      "1 2\n",
      "2 3\n",
      "1 5\n",
      "5 2\n",
      "5 6\n",
      "4 7\n",
      "4\n"
     ]
    }
   ],
   "source": [
    "## 참고\n",
    "n = int(input())\n",
    "m = int(input())\n",
    "graph = [[]*n for _ in range(n+1)]\n",
    "for _ in range(m):\n",
    "    a,b = map(int,input().split())\n",
    "    graph[a].append(b)\n",
    "    graph[b].append(a)\n",
    "    \n",
    "cnt = 0\n",
    "visited = [0]*(n+1)\n",
    "def dfs(start):\n",
    "    global cnt\n",
    "    visited[start] = 1\n",
    "    for i in graph[start]:\n",
    "        if visited[i]==0:\n",
    "            dfs(i)\n",
    "            cnt +=1\n",
    "\n",
    "dfs(1)\n",
    "print(cnt)"
   ]
  },
  {
   "cell_type": "markdown",
   "id": "060e0013",
   "metadata": {},
   "source": [
    "#### 3 : 2667"
   ]
  },
  {
   "cell_type": "code",
   "execution_count": 59,
   "id": "306269ec",
   "metadata": {},
   "outputs": [
    {
     "name": "stdout",
     "output_type": "stream",
     "text": [
      "7\n",
      "0110100\n",
      "0110101\n",
      "1110101\n",
      "0000111\n",
      "0100000\n",
      "0111110\n",
      "0111000\n"
     ]
    }
   ],
   "source": [
    "n = int(input())\n",
    "graph = []\n",
    "num = []\n",
    "\n",
    "for i in range(n):\n",
    "    graph.append(list(map(int, input())))"
   ]
  },
  {
   "cell_type": "code",
   "execution_count": null,
   "id": "ceca3441",
   "metadata": {},
   "outputs": [],
   "source": [
    "n = int(input())\n",
    "graph = []\n",
    "num = []\n",
    "\n",
    "for i in range(n):\n",
    "    graph.append(list(map(int, input())))\n",
    "\n",
    "dx = [0, 0, 1, -1] #??\n",
    "dy = [1, -1, 0, 0]\n",
    "\n",
    "\n",
    "def DFS(x, y):\n",
    "    if x < 0 or x >= n or y < 0 or y >= n:\n",
    "        return False\n",
    "\n",
    "    if graph[x][y] == 1:\n",
    "        global count\n",
    "        count += 1\n",
    "        graph[x][y] = 0\n",
    "        for i in range(4):\n",
    "            nx = x + dx[i]\n",
    "            ny = y + dy[i]\n",
    "            DFS(nx, ny)\n",
    "        return True\n",
    "    return False\n",
    "\n",
    "\n",
    "count = 0\n",
    "result = 0\n",
    "\n",
    "for i in range(n):\n",
    "    for j in range(n):\n",
    "        if DFS(i, j) == True:\n",
    "            num.append(count)\n",
    "            result += 1\n",
    "            count = 0\n",
    "\n",
    "num.sort()\n",
    "print(result)\n",
    "for i in range(len(num)):\n",
    "    print(num[i])"
   ]
  }
 ],
 "metadata": {
  "kernelspec": {
   "display_name": "Python 3 (ipykernel)",
   "language": "python",
   "name": "python3"
  },
  "language_info": {
   "codemirror_mode": {
    "name": "ipython",
    "version": 3
   },
   "file_extension": ".py",
   "mimetype": "text/x-python",
   "name": "python",
   "nbconvert_exporter": "python",
   "pygments_lexer": "ipython3",
   "version": "3.8.8"
  }
 },
 "nbformat": 4,
 "nbformat_minor": 5
}
