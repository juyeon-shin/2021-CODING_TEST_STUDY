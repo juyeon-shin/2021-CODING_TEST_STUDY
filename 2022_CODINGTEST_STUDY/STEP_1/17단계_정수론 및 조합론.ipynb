{
 "cells": [
  {
   "cell_type": "markdown",
   "id": "a44a5fb4",
   "metadata": {},
   "source": [
    "### 01 : 5086"
   ]
  },
  {
   "cell_type": "code",
   "execution_count": 4,
   "id": "13113874",
   "metadata": {},
   "outputs": [
    {
     "name": "stdout",
     "output_type": "stream",
     "text": [
      "8 16\n",
      "factor\n",
      "0 0\n"
     ]
    }
   ],
   "source": [
    "a = 1\n",
    "b = 1\n",
    "while a and b != 0:\n",
    "    a,b = map(int,input().split())\n",
    "    if a and b != 0 :\n",
    "        if a%b == 0 :\n",
    "            print('multiple')\n",
    "        elif b%a == 0:\n",
    "            print('factor')\n",
    "        else :\n",
    "            print('neither')\n",
    "    else :\n",
    "        break"
   ]
  },
  {
   "cell_type": "markdown",
   "id": "3ec98510",
   "metadata": {},
   "source": [
    "### 03 : 2609"
   ]
  },
  {
   "cell_type": "code",
   "execution_count": 5,
   "id": "c0701025",
   "metadata": {},
   "outputs": [
    {
     "name": "stdout",
     "output_type": "stream",
     "text": [
      "24 18\n",
      "6\n",
      "72\n"
     ]
    }
   ],
   "source": [
    "def gcd(a,b):\n",
    "    if b== 0 :\n",
    "        return a\n",
    "    else :\n",
    "        return gcd(b,a%b)\n",
    "    \n",
    "def lcm(a,b):\n",
    "    return (a*b)/gcd(a,b)\n",
    "\n",
    "a,b = map(int,input().split())\n",
    "\n",
    "print(gcd(a,b))\n",
    "print(int(lcm(a,b)))"
   ]
  },
  {
   "cell_type": "markdown",
   "id": "8bf8587b",
   "metadata": {},
   "source": [
    "### 05 : 2981"
   ]
  },
  {
   "cell_type": "code",
   "execution_count": null,
   "id": "6b66585a",
   "metadata": {},
   "outputs": [],
   "source": [
    "def gcd(a,b):\n",
    "    if b== 0 :\n",
    "        return a\n",
    "    else :\n",
    "        return gcd(b,a%b)\n",
    "\n",
    "n = int(input())\n",
    "N = []\n",
    "for i in range(n):\n",
    "    a"
   ]
  },
  {
   "cell_type": "code",
   "execution_count": 54,
   "id": "46849330",
   "metadata": {},
   "outputs": [
    {
     "name": "stdout",
     "output_type": "stream",
     "text": [
      "4 4\n"
     ]
    }
   ],
   "source": [
    "print(34%6,38%34)"
   ]
  },
  {
   "cell_type": "code",
   "execution_count": 55,
   "id": "55a30b57",
   "metadata": {},
   "outputs": [
    {
     "name": "stdout",
     "output_type": "stream",
     "text": [
      "2 6 14 13\n"
     ]
    }
   ],
   "source": [
    "print(17%5,23%17,14%23,83%14)"
   ]
  },
  {
   "cell_type": "markdown",
   "id": "d195f9ed",
   "metadata": {},
   "source": [
    "### 07 : 11050"
   ]
  },
  {
   "cell_type": "code",
   "execution_count": 6,
   "id": "ba1dbe49",
   "metadata": {},
   "outputs": [
    {
     "name": "stdout",
     "output_type": "stream",
     "text": [
      "5 2\n",
      "10\n"
     ]
    }
   ],
   "source": [
    "def binomial(n,k):\n",
    "    if k == 0 or n == k :\n",
    "        return 1\n",
    "    return (binomial(n-1,k-1)+binomial(n-1,k))\n",
    "\n",
    "n,k = map(int,input().split())\n",
    "print(binomial(n,k))"
   ]
  },
  {
   "cell_type": "markdown",
   "id": "5e96a043",
   "metadata": {},
   "source": [
    "### 09 : 1010"
   ]
  },
  {
   "cell_type": "markdown",
   "id": "4b98986b",
   "metadata": {},
   "source": [
    "def factorial(a):\n",
    "    if a == 1:\n",
    "        return 1\n",
    "    if a > 1 :\n",
    "        return a*factorial(a-1)\n",
    "    \n",
    "t = int(input())\n",
    "for i in range(t):\n",
    "    a,b = map(int, input().split())\n",
    "    bridge = factorial(b)//factorial(a)*factorial(b-a)\n",
    "    print(bridge)"
   ]
  },
  {
   "cell_type": "markdown",
   "id": "b915b992",
   "metadata": {},
   "source": [
    "import sys\n",
    "def binomial(n,k):\n",
    "    if k == 0 or n == k :\n",
    "        return 1\n",
    "    return (binomial(n-1,k-1)+binomial(n-1,k))\n",
    "\n",
    "t = int(input())\n",
    "for i in range(t):\n",
    "    a,b = map(int, sys.stdin.readline().split())\n",
    "    print(binomial(b,a))"
   ]
  },
  {
   "cell_type": "code",
   "execution_count": null,
   "id": "93200232",
   "metadata": {},
   "outputs": [],
   "source": [
    "import math\n",
    "\n",
    "T = int(input())\n",
    "\n",
    "for _ in range(T):\n",
    "    n, m = map(int, input().split())\n",
    "    bridge = math.factorial(m) // (math.factorial(n) * math.factorial(m - n))\n",
    "    print(bridge)"
   ]
  },
  {
   "cell_type": "markdown",
   "id": "ed1ab5d8",
   "metadata": {},
   "source": [
    "### 11 : 1676"
   ]
  },
  {
   "cell_type": "code",
   "execution_count": 28,
   "id": "7ce695c5",
   "metadata": {},
   "outputs": [
    {
     "name": "stdout",
     "output_type": "stream",
     "text": [
      "10\n"
     ]
    }
   ],
   "source": [
    "n = int(input())\n",
    "cnt = 0\n",
    "\n",
    "while n < 5 :\n",
    "    n = n//5\n",
    "    print(n)\n",
    "    "
   ]
  },
  {
   "cell_type": "code",
   "execution_count": 38,
   "id": "bedf1452",
   "metadata": {},
   "outputs": [
    {
     "name": "stdout",
     "output_type": "stream",
     "text": [
      "5\n",
      "1\n"
     ]
    }
   ],
   "source": [
    "import math\n",
    "n = int(input())\n",
    "fac = math.factorial(n)\n",
    "cnt = 0\n",
    "for i in str(fac):\n",
    "    if i == str(0) :\n",
    "        cnt += 1\n",
    "print(cnt)"
   ]
  },
  {
   "cell_type": "code",
   "execution_count": 44,
   "id": "3ccda05d",
   "metadata": {},
   "outputs": [
    {
     "name": "stdout",
     "output_type": "stream",
     "text": [
      "10\n",
      "None\n"
     ]
    }
   ],
   "source": [
    "import math\n",
    "n = int(input())\n",
    "fac = math.factorial(n)\n",
    "print(list(str(fac)).reverse())"
   ]
  },
  {
   "cell_type": "code",
   "execution_count": 48,
   "id": "c435a114",
   "metadata": {},
   "outputs": [
    {
     "ename": "ValueError",
     "evalue": "invalid literal for int() with base 10: ''",
     "output_type": "error",
     "traceback": [
      "\u001b[1;31m---------------------------------------------------------------------------\u001b[0m",
      "\u001b[1;31mValueError\u001b[0m                                Traceback (most recent call last)",
      "\u001b[1;32m~\\AppData\\Local\\Temp/ipykernel_2100/168601812.py\u001b[0m in \u001b[0;36m<module>\u001b[1;34m\u001b[0m\n\u001b[0;32m      2\u001b[0m \u001b[1;32mimport\u001b[0m \u001b[0mmath\u001b[0m\u001b[1;33m\u001b[0m\u001b[1;33m\u001b[0m\u001b[0m\n\u001b[0;32m      3\u001b[0m \u001b[1;33m\u001b[0m\u001b[0m\n\u001b[1;32m----> 4\u001b[1;33m \u001b[0mN\u001b[0m \u001b[1;33m=\u001b[0m \u001b[0mint\u001b[0m\u001b[1;33m(\u001b[0m\u001b[0msys\u001b[0m\u001b[1;33m.\u001b[0m\u001b[0mstdin\u001b[0m\u001b[1;33m.\u001b[0m\u001b[0mreadline\u001b[0m\u001b[1;33m(\u001b[0m\u001b[1;33m)\u001b[0m\u001b[1;33m)\u001b[0m\u001b[1;33m\u001b[0m\u001b[1;33m\u001b[0m\u001b[0m\n\u001b[0m\u001b[0;32m      5\u001b[0m \u001b[0mfac\u001b[0m \u001b[1;33m=\u001b[0m \u001b[0mmath\u001b[0m\u001b[1;33m.\u001b[0m\u001b[0mfactorial\u001b[0m\u001b[1;33m(\u001b[0m\u001b[0mN\u001b[0m\u001b[1;33m)\u001b[0m\u001b[1;33m\u001b[0m\u001b[1;33m\u001b[0m\u001b[0m\n\u001b[0;32m      6\u001b[0m \u001b[0mlst\u001b[0m \u001b[1;33m=\u001b[0m \u001b[0mlist\u001b[0m\u001b[1;33m(\u001b[0m\u001b[0mstr\u001b[0m\u001b[1;33m(\u001b[0m\u001b[0mfac\u001b[0m\u001b[1;33m)\u001b[0m\u001b[1;33m)\u001b[0m\u001b[1;33m.\u001b[0m\u001b[0mreverse\u001b[0m\u001b[1;33m(\u001b[0m\u001b[1;33m)\u001b[0m\u001b[1;33m\u001b[0m\u001b[1;33m\u001b[0m\u001b[0m\n",
      "\u001b[1;31mValueError\u001b[0m: invalid literal for int() with base 10: ''"
     ]
    }
   ],
   "source": [
    "import sys\n",
    "import math\n",
    "\n",
    "N = int(sys.stdin.readline())\n",
    "fac = math.factorial(N)\n",
    "lst = list(str(fac)).reverse()\n",
    "cnt = 0\n",
    "for i in range(len(lst)):\n",
    "    if lst[i] != \"0\":\n",
    "        break\n",
    "    else:\n",
    "        cnt += 1\n",
    "print(cnt)"
   ]
  },
  {
   "cell_type": "code",
   "execution_count": null,
   "id": "27da2107",
   "metadata": {},
   "outputs": [],
   "source": []
  }
 ],
 "metadata": {
  "kernelspec": {
   "display_name": "Python 3 (ipykernel)",
   "language": "python",
   "name": "python3"
  },
  "language_info": {
   "codemirror_mode": {
    "name": "ipython",
    "version": 3
   },
   "file_extension": ".py",
   "mimetype": "text/x-python",
   "name": "python",
   "nbconvert_exporter": "python",
   "pygments_lexer": "ipython3",
   "version": "3.8.8"
  }
 },
 "nbformat": 4,
 "nbformat_minor": 5
}
