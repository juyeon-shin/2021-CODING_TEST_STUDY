{
 "cells": [
  {
   "cell_type": "markdown",
   "id": "fe940c4d",
   "metadata": {},
   "source": [
    "### 12 : 정렬\n",
    "#### 1: 2750"
   ]
  },
  {
   "cell_type": "code",
   "execution_count": 1,
   "id": "0d1da54e",
   "metadata": {},
   "outputs": [
    {
     "name": "stdout",
     "output_type": "stream",
     "text": [
      "5\n",
      "5\n",
      "2\n",
      "3\n",
      "4\n",
      "1\n"
     ]
    }
   ],
   "source": [
    "n = int(input())\n",
    "N = []\n",
    "for i in range(n):\n",
    "    a = int(input())\n",
    "    N.append(a)\n",
    "\n",
    "N = sorted(N)\n",
    "\n",
    "for i in N:\n",
    "    print(i)"
   ]
  },
  {
   "cell_type": "markdown",
   "id": "d953405e",
   "metadata": {},
   "source": [
    "#### 3 : 10989"
   ]
  },
  {
   "cell_type": "code",
   "execution_count": 8,
   "id": "3a70fb43",
   "metadata": {},
   "outputs": [
    {
     "name": "stderr",
     "output_type": "stream",
     "text": [
      "ERROR: Could not find a version that satisfies the requirement sys (from versions: none)\n",
      "ERROR: No matching distribution found for sys\n"
     ]
    }
   ],
   "source": [
    "!pip install sys"
   ]
  },
  {
   "cell_type": "code",
   "execution_count": 11,
   "id": "862a59c9",
   "metadata": {
    "scrolled": true
   },
   "outputs": [
    {
     "ename": "ValueError",
     "evalue": "invalid literal for int() with base 10: ''",
     "output_type": "error",
     "traceback": [
      "\u001b[1;31m---------------------------------------------------------------------------\u001b[0m",
      "\u001b[1;31mValueError\u001b[0m                                Traceback (most recent call last)",
      "\u001b[1;32m~\\AppData\\Local\\Temp/ipykernel_12172/3051995993.py\u001b[0m in \u001b[0;36m<module>\u001b[1;34m\u001b[0m\n\u001b[0;32m      1\u001b[0m \u001b[1;32mimport\u001b[0m \u001b[0msys\u001b[0m\u001b[1;33m\u001b[0m\u001b[1;33m\u001b[0m\u001b[0m\n\u001b[0;32m      2\u001b[0m \u001b[1;33m\u001b[0m\u001b[0m\n\u001b[1;32m----> 3\u001b[1;33m \u001b[0mn\u001b[0m \u001b[1;33m=\u001b[0m \u001b[0mint\u001b[0m\u001b[1;33m(\u001b[0m\u001b[0msys\u001b[0m\u001b[1;33m.\u001b[0m\u001b[0mstdin\u001b[0m\u001b[1;33m.\u001b[0m\u001b[0mreadline\u001b[0m\u001b[1;33m(\u001b[0m\u001b[1;33m)\u001b[0m\u001b[1;33m)\u001b[0m\u001b[1;33m\u001b[0m\u001b[1;33m\u001b[0m\u001b[0m\n\u001b[0m\u001b[0;32m      4\u001b[0m \u001b[0mN\u001b[0m \u001b[1;33m=\u001b[0m \u001b[1;33m[\u001b[0m\u001b[1;33m]\u001b[0m\u001b[1;33m*\u001b[0m\u001b[1;36m10001\u001b[0m\u001b[1;33m\u001b[0m\u001b[1;33m\u001b[0m\u001b[0m\n\u001b[0;32m      5\u001b[0m \u001b[1;32mfor\u001b[0m \u001b[0mi\u001b[0m \u001b[1;32min\u001b[0m \u001b[0mrange\u001b[0m\u001b[1;33m(\u001b[0m\u001b[0mn\u001b[0m\u001b[1;33m)\u001b[0m\u001b[1;33m:\u001b[0m\u001b[1;33m\u001b[0m\u001b[1;33m\u001b[0m\u001b[0m\n",
      "\u001b[1;31mValueError\u001b[0m: invalid literal for int() with base 10: ''"
     ]
    }
   ],
   "source": [
    "import sys\n",
    "\n",
    "n = int(sys.stdin.readline())\n",
    "N = []*10001\n",
    "for i in range(n):\n",
    "    N[int(sys.stdin.readline())]\n",
    "\n",
    "N = sorted(N)\n",
    "\n",
    "for i in N:\n",
    "    print(i)"
   ]
  },
  {
   "cell_type": "code",
   "execution_count": 12,
   "id": "b8de7774",
   "metadata": {},
   "outputs": [
    {
     "ename": "ValueError",
     "evalue": "invalid literal for int() with base 10: ''",
     "output_type": "error",
     "traceback": [
      "\u001b[1;31m---------------------------------------------------------------------------\u001b[0m",
      "\u001b[1;31mValueError\u001b[0m                                Traceback (most recent call last)",
      "\u001b[1;32m~\\AppData\\Local\\Temp/ipykernel_12172/273013374.py\u001b[0m in \u001b[0;36m<module>\u001b[1;34m\u001b[0m\n\u001b[0;32m      1\u001b[0m \u001b[1;32mimport\u001b[0m \u001b[0msys\u001b[0m\u001b[1;33m\u001b[0m\u001b[1;33m\u001b[0m\u001b[0m\n\u001b[1;32m----> 2\u001b[1;33m \u001b[0mn\u001b[0m \u001b[1;33m=\u001b[0m \u001b[0mint\u001b[0m\u001b[1;33m(\u001b[0m\u001b[0msys\u001b[0m\u001b[1;33m.\u001b[0m\u001b[0mstdin\u001b[0m\u001b[1;33m.\u001b[0m\u001b[0mreadline\u001b[0m\u001b[1;33m(\u001b[0m\u001b[1;33m)\u001b[0m\u001b[1;33m)\u001b[0m\u001b[1;33m\u001b[0m\u001b[1;33m\u001b[0m\u001b[0m\n\u001b[0m\u001b[0;32m      3\u001b[0m \u001b[0mb\u001b[0m \u001b[1;33m=\u001b[0m \u001b[1;33m[\u001b[0m\u001b[1;36m0\u001b[0m\u001b[1;33m]\u001b[0m \u001b[1;33m*\u001b[0m \u001b[1;36m10001\u001b[0m\u001b[1;33m\u001b[0m\u001b[1;33m\u001b[0m\u001b[0m\n\u001b[0;32m      4\u001b[0m \u001b[1;32mfor\u001b[0m \u001b[0mi\u001b[0m \u001b[1;32min\u001b[0m \u001b[0mrange\u001b[0m\u001b[1;33m(\u001b[0m\u001b[0mn\u001b[0m\u001b[1;33m)\u001b[0m\u001b[1;33m:\u001b[0m\u001b[1;33m\u001b[0m\u001b[1;33m\u001b[0m\u001b[0m\n\u001b[0;32m      5\u001b[0m     \u001b[0mb\u001b[0m\u001b[1;33m[\u001b[0m\u001b[0mint\u001b[0m\u001b[1;33m(\u001b[0m\u001b[0msys\u001b[0m\u001b[1;33m.\u001b[0m\u001b[0mstdin\u001b[0m\u001b[1;33m.\u001b[0m\u001b[0mreadline\u001b[0m\u001b[1;33m(\u001b[0m\u001b[1;33m)\u001b[0m\u001b[1;33m)\u001b[0m\u001b[1;33m]\u001b[0m \u001b[1;33m+=\u001b[0m \u001b[1;36m1\u001b[0m\u001b[1;33m\u001b[0m\u001b[1;33m\u001b[0m\u001b[0m\n",
      "\u001b[1;31mValueError\u001b[0m: invalid literal for int() with base 10: ''"
     ]
    }
   ],
   "source": [
    "#성공\n",
    "import sys\n",
    "n = int(sys.stdin.readline())\n",
    "b = [0] * 10001\n",
    "for i in range(n):\n",
    "    b[int(sys.stdin.readline())] += 1\n",
    "for i in range(10001):\n",
    "    if b[i] != 0:\n",
    "        for j in range(b[i]):\n",
    "            print(i)"
   ]
  },
  {
   "cell_type": "markdown",
   "id": "d60a9d4c",
   "metadata": {},
   "source": [
    "#### 5 : 1427"
   ]
  },
  {
   "cell_type": "code",
   "execution_count": 30,
   "id": "a1d36f1e",
   "metadata": {},
   "outputs": [
    {
     "name": "stdout",
     "output_type": "stream",
     "text": [
      "99999989\n",
      "99999998\n"
     ]
    }
   ],
   "source": [
    "n = input()\n",
    "N = []\n",
    "for i in range(len(n)):\n",
    "    N.append(n[i])\n",
    "\n",
    "N = sorted(N, reverse = True)\n",
    "joinn = ''.join(N)\n",
    "print(str(joinn))"
   ]
  },
  {
   "cell_type": "markdown",
   "id": "35e2396b",
   "metadata": {},
   "source": [
    "#### 7 : 11651"
   ]
  },
  {
   "cell_type": "code",
   "execution_count": 39,
   "id": "76d22f83",
   "metadata": {},
   "outputs": [
    {
     "name": "stdout",
     "output_type": "stream",
     "text": [
      "5\n",
      "0 4\n",
      "1 2\n",
      "1 -1\n",
      "2 2\n",
      "3 3\n",
      "0 4\n",
      "1 2\n",
      "1 -1\n",
      "2 2\n",
      "3 3\n"
     ]
    }
   ],
   "source": [
    "n = int(input())\n",
    "N = []\n",
    "for i in range(n):\n",
    "    x,y = map(int,input().split())\n",
    "    N.append([y,x])\n",
    "\n",
    "#sorted(N)가 아니라 N.sort() 사용해야 정답\n",
    "#sorted(N)도 돌아가긴 하지만 정답처리 X\n",
    "N.sort()\n",
    "for i in range(n):\n",
    "    print(N[i][1],N[i][0])"
   ]
  },
  {
   "cell_type": "code",
   "execution_count": 1,
   "id": "88507915",
   "metadata": {},
   "outputs": [
    {
     "name": "stdout",
     "output_type": "stream",
     "text": [
      "5\n",
      "0 4\n",
      "1 2\n",
      "1 -1\n",
      "2 2\n",
      "3 3\n",
      "1 -1\n",
      "1 2\n",
      "2 2\n",
      "3 3\n",
      "0 4\n"
     ]
    }
   ],
   "source": [
    "n = int(input())\n",
    "li = []\n",
    "for i in range(n):\n",
    "    li.append(int,input().split())\n",
    "\n",
    "li.sort(key=lambda a: (a[1], a[0])) # 원하는 인덱스로 정렬함\n",
    "# key값에 무명함수를 사용하여 1번째 인덱스로 정렬하게 함\n",
    "\n",
    "for i in range(n):\n",
    "    print(li[i][0], li[i][1])"
   ]
  },
  {
   "cell_type": "markdown",
   "id": "3dc7ac7e",
   "metadata": {},
   "source": [
    "#### 9 : 10814"
   ]
  },
  {
   "cell_type": "code",
   "execution_count": 4,
   "id": "9a8c2032",
   "metadata": {},
   "outputs": [
    {
     "name": "stdout",
     "output_type": "stream",
     "text": [
      "3\n",
      "21 j\n",
      "21 d\n",
      "20 s\n",
      "20 s\n",
      "21 d\n",
      "21 j\n"
     ]
    }
   ],
   "source": [
    "n = int(input())\n",
    "N = []\n",
    "\n",
    "for i in range(n):\n",
    "    age,name = list(input().split())\n",
    "    N.append([int(age),name])\n",
    "\n",
    "N = sorted(N)\n",
    "\n",
    "for i in range(n):\n",
    "    print(N[i][0],N[i][1])"
   ]
  },
  {
   "cell_type": "code",
   "execution_count": 1,
   "id": "7ba0d56f",
   "metadata": {},
   "outputs": [
    {
     "name": "stdout",
     "output_type": "stream",
     "text": [
      "3\n",
      "21 j\n",
      "21 d\n",
      "20 s\n",
      "20 s\n",
      "21 j\n",
      "21 d\n"
     ]
    }
   ],
   "source": [
    "n = int(input())\n",
    "N = []\n",
    "\n",
    "for i in range(n):\n",
    "    N.append(list(input().split()))\n",
    "\n",
    "N.sort(key=lambda x:int(x[0]))\n",
    "\n",
    "for i in range(n):\n",
    "    print(N[i][0],N[i][1])"
   ]
  }
 ],
 "metadata": {
  "kernelspec": {
   "display_name": "Python [conda env:root] *",
   "language": "python",
   "name": "conda-root-py"
  },
  "language_info": {
   "codemirror_mode": {
    "name": "ipython",
    "version": 3
   },
   "file_extension": ".py",
   "mimetype": "text/x-python",
   "name": "python",
   "nbconvert_exporter": "python",
   "pygments_lexer": "ipython3",
   "version": "3.8.8"
  }
 },
 "nbformat": 4,
 "nbformat_minor": 5
}
