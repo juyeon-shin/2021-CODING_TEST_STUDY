{
 "cells": [
  {
   "cell_type": "markdown",
   "id": "7b9d31b9",
   "metadata": {},
   "source": [
    "#### 1 : 1003"
   ]
  },
  {
   "cell_type": "code",
   "execution_count": null,
   "id": "6a18ad20",
   "metadata": {},
   "outputs": [],
   "source": [
    "zero = [1,0,1]\n",
    "one = [0,1,1]\n",
    "\n",
    "def fibo(n):\n",
    "    if n==0:\n",
    "        cn_0 += 1\n",
    "        return 0\n",
    "    if n==1:\n",
    "        cn_1 += 1\n",
    "        return 1\n",
    "    else:\n",
    "        return fibo(n-1)+fibo(n-2)\n",
    "\n",
    "t = int(input())\n",
    "case = []\n",
    "for i in range(t):\n",
    "    case.append((int(input())))\n",
    "    \n",
    "for i in case:\n",
    "    print(fibo(i))"
   ]
  },
  {
   "cell_type": "code",
   "execution_count": null,
   "id": "36cc6944",
   "metadata": {},
   "outputs": [],
   "source": [
    "# 정답\n",
    "zero = [1, 0, 1]\n",
    "one = [0, 1, 1]\n",
    "\n",
    "def fibonacci(num):\n",
    "    length = len(zero)\n",
    "    if num >= length: # ??\n",
    "        for i in range(length, num+1):\n",
    "            zero.append(zero[i-1] + zero[i-2]) #이해\n",
    "            one.append(one[i-1] + one[i-2]) #이해\n",
    "    print('{} {}'.format(zero[num], one[num]))\n",
    "\n",
    "T = int(input())\n",
    "    \n",
    "for _ in range(T):\n",
    "    fibonacci(int(input()))"
   ]
  },
  {
   "cell_type": "markdown",
   "id": "a0abaa23",
   "metadata": {},
   "source": [
    "#### 2 : 9184"
   ]
  },
  {
   "cell_type": "code",
   "execution_count": null,
   "id": "7656e167",
   "metadata": {},
   "outputs": [],
   "source": [
    "a,b,c = map(int,input())"
   ]
  },
  {
   "cell_type": "code",
   "execution_count": 8,
   "id": "79d2b82f",
   "metadata": {},
   "outputs": [],
   "source": [
    "def w(a,b,c):\n",
    "    if a <= 0 or b <= 0 or c <= 0:\n",
    "        return 1\n",
    "    if a > 20 or b > 20 or c > 20 :\n",
    "        return w(20, 20, 20)\n",
    "    if a < b and b < c:\n",
    "        return w(a, b, c-1) + w(a, b-1, c-1) - w(a, b-1, c)\n",
    "    else :\n",
    "         w(a-1, b, c) + w(a-1, b-1, c) + w(a-1, b, c-1) - w(a-1, b-1, c-1)"
   ]
  },
  {
   "cell_type": "code",
   "execution_count": 11,
   "id": "26b5b6db",
   "metadata": {},
   "outputs": [
    {
     "name": "stdout",
     "output_type": "stream",
     "text": [
      "2 2 2\n"
     ]
    },
    {
     "ename": "TypeError",
     "evalue": "unsupported operand type(s) for +: 'NoneType' and 'NoneType'",
     "output_type": "error",
     "traceback": [
      "\u001b[1;31m---------------------------------------------------------------------------\u001b[0m",
      "\u001b[1;31mTypeError\u001b[0m                                 Traceback (most recent call last)",
      "\u001b[1;32m~\\AppData\\Local\\Temp/ipykernel_13632/2656875082.py\u001b[0m in \u001b[0;36m<module>\u001b[1;34m\u001b[0m\n\u001b[0;32m      3\u001b[0m     \u001b[1;32mif\u001b[0m \u001b[0ma\u001b[0m  \u001b[1;33m==\u001b[0m \u001b[1;33m-\u001b[0m\u001b[1;36m1\u001b[0m \u001b[1;32mand\u001b[0m \u001b[0mb\u001b[0m \u001b[1;33m==\u001b[0m \u001b[1;33m-\u001b[0m\u001b[1;36m1\u001b[0m \u001b[1;32mand\u001b[0m \u001b[0mc\u001b[0m \u001b[1;33m==\u001b[0m \u001b[1;33m-\u001b[0m\u001b[1;36m1\u001b[0m\u001b[1;33m:\u001b[0m\u001b[1;33m\u001b[0m\u001b[1;33m\u001b[0m\u001b[0m\n\u001b[0;32m      4\u001b[0m         \u001b[1;32mbreak\u001b[0m\u001b[1;33m\u001b[0m\u001b[1;33m\u001b[0m\u001b[0m\n\u001b[1;32m----> 5\u001b[1;33m     \u001b[0mprint\u001b[0m\u001b[1;33m(\u001b[0m\u001b[1;34m\"w(%d,%d,%d) = %d\"\u001b[0m\u001b[1;33m%\u001b[0m\u001b[1;33m(\u001b[0m\u001b[0ma\u001b[0m\u001b[1;33m,\u001b[0m\u001b[0mb\u001b[0m\u001b[1;33m,\u001b[0m\u001b[0mc\u001b[0m\u001b[1;33m,\u001b[0m\u001b[0mw\u001b[0m\u001b[1;33m(\u001b[0m\u001b[0ma\u001b[0m\u001b[1;33m,\u001b[0m\u001b[0mb\u001b[0m\u001b[1;33m,\u001b[0m\u001b[0mc\u001b[0m\u001b[1;33m)\u001b[0m\u001b[1;33m)\u001b[0m\u001b[1;33m)\u001b[0m\u001b[1;33m\u001b[0m\u001b[1;33m\u001b[0m\u001b[0m\n\u001b[0m",
      "\u001b[1;32m~\\AppData\\Local\\Temp/ipykernel_13632/2238528445.py\u001b[0m in \u001b[0;36mw\u001b[1;34m(a, b, c)\u001b[0m\n\u001b[0;32m      7\u001b[0m         \u001b[1;32mreturn\u001b[0m \u001b[0mw\u001b[0m\u001b[1;33m(\u001b[0m\u001b[0ma\u001b[0m\u001b[1;33m,\u001b[0m \u001b[0mb\u001b[0m\u001b[1;33m,\u001b[0m \u001b[0mc\u001b[0m\u001b[1;33m-\u001b[0m\u001b[1;36m1\u001b[0m\u001b[1;33m)\u001b[0m \u001b[1;33m+\u001b[0m \u001b[0mw\u001b[0m\u001b[1;33m(\u001b[0m\u001b[0ma\u001b[0m\u001b[1;33m,\u001b[0m \u001b[0mb\u001b[0m\u001b[1;33m-\u001b[0m\u001b[1;36m1\u001b[0m\u001b[1;33m,\u001b[0m \u001b[0mc\u001b[0m\u001b[1;33m-\u001b[0m\u001b[1;36m1\u001b[0m\u001b[1;33m)\u001b[0m \u001b[1;33m-\u001b[0m \u001b[0mw\u001b[0m\u001b[1;33m(\u001b[0m\u001b[0ma\u001b[0m\u001b[1;33m,\u001b[0m \u001b[0mb\u001b[0m\u001b[1;33m-\u001b[0m\u001b[1;36m1\u001b[0m\u001b[1;33m,\u001b[0m \u001b[0mc\u001b[0m\u001b[1;33m)\u001b[0m\u001b[1;33m\u001b[0m\u001b[1;33m\u001b[0m\u001b[0m\n\u001b[0;32m      8\u001b[0m     \u001b[1;32melse\u001b[0m \u001b[1;33m:\u001b[0m\u001b[1;33m\u001b[0m\u001b[1;33m\u001b[0m\u001b[0m\n\u001b[1;32m----> 9\u001b[1;33m          \u001b[0mw\u001b[0m\u001b[1;33m(\u001b[0m\u001b[0ma\u001b[0m\u001b[1;33m-\u001b[0m\u001b[1;36m1\u001b[0m\u001b[1;33m,\u001b[0m \u001b[0mb\u001b[0m\u001b[1;33m,\u001b[0m \u001b[0mc\u001b[0m\u001b[1;33m)\u001b[0m \u001b[1;33m+\u001b[0m \u001b[0mw\u001b[0m\u001b[1;33m(\u001b[0m\u001b[0ma\u001b[0m\u001b[1;33m-\u001b[0m\u001b[1;36m1\u001b[0m\u001b[1;33m,\u001b[0m \u001b[0mb\u001b[0m\u001b[1;33m-\u001b[0m\u001b[1;36m1\u001b[0m\u001b[1;33m,\u001b[0m \u001b[0mc\u001b[0m\u001b[1;33m)\u001b[0m \u001b[1;33m+\u001b[0m \u001b[0mw\u001b[0m\u001b[1;33m(\u001b[0m\u001b[0ma\u001b[0m\u001b[1;33m-\u001b[0m\u001b[1;36m1\u001b[0m\u001b[1;33m,\u001b[0m \u001b[0mb\u001b[0m\u001b[1;33m,\u001b[0m \u001b[0mc\u001b[0m\u001b[1;33m-\u001b[0m\u001b[1;36m1\u001b[0m\u001b[1;33m)\u001b[0m \u001b[1;33m-\u001b[0m \u001b[0mw\u001b[0m\u001b[1;33m(\u001b[0m\u001b[0ma\u001b[0m\u001b[1;33m-\u001b[0m\u001b[1;36m1\u001b[0m\u001b[1;33m,\u001b[0m \u001b[0mb\u001b[0m\u001b[1;33m-\u001b[0m\u001b[1;36m1\u001b[0m\u001b[1;33m,\u001b[0m \u001b[0mc\u001b[0m\u001b[1;33m-\u001b[0m\u001b[1;36m1\u001b[0m\u001b[1;33m)\u001b[0m\u001b[1;33m\u001b[0m\u001b[1;33m\u001b[0m\u001b[0m\n\u001b[0m",
      "\u001b[1;31mTypeError\u001b[0m: unsupported operand type(s) for +: 'NoneType' and 'NoneType'"
     ]
    }
   ],
   "source": [
    "while True:\n",
    "    a,b,c = map(int,input().split())\n",
    "    if a  == -1 and b == -1 and c == -1:\n",
    "        break\n",
    "    print(\"w(%d,%d,%d) = %d\"%(a,b,c,w(a,b,c)))"
   ]
  },
  {
   "cell_type": "markdown",
   "id": "0a051f76",
   "metadata": {},
   "source": [
    "#### 3 : 1904"
   ]
  },
  {
   "cell_type": "code",
   "execution_count": null,
   "id": "be3701e6",
   "metadata": {},
   "outputs": [],
   "source": [
    "import sys\n",
    "n = int(sys.stdin.readline())"
   ]
  },
  {
   "cell_type": "markdown",
   "id": "4213f419",
   "metadata": {},
   "source": [
    "1 = 1  -> 1\n",
    "2 = 00,11 --> 2\n",
    "3 = 100,001,111 --> 1+2\n",
    "4 = 0000 0011 1001 1100 1111 --> 2+3"
   ]
  },
  {
   "cell_type": "code",
   "execution_count": 19,
   "id": "d76425d2",
   "metadata": {},
   "outputs": [
    {
     "name": "stdout",
     "output_type": "stream",
     "text": [
      "5\n"
     ]
    }
   ],
   "source": [
    "dp = [0]*1000001\n",
    "dp[1] = 1\n",
    "dp[2] = 2\n",
    "\n",
    "for i in range(3,n+1):\n",
    "    dp[i] = (dp[i-1]+dp[i-2])%15746\n",
    "print(dp[n])"
   ]
  },
  {
   "cell_type": "markdown",
   "id": "8efbfd0f",
   "metadata": {},
   "source": [
    "#### 4 : 9461"
   ]
  },
  {
   "cell_type": "code",
   "execution_count": 48,
   "id": "26ef9e9e",
   "metadata": {},
   "outputs": [],
   "source": [
    "p = [0,1,1,1,2,2]\n",
    "def P(n):\n",
    "    if n <=5 :\n",
    "        return p[n]\n",
    "    if n > 5 :\n",
    "        return P(n-1)+P(n-5)"
   ]
  },
  {
   "cell_type": "code",
   "execution_count": 49,
   "id": "d2d391da",
   "metadata": {},
   "outputs": [
    {
     "name": "stdout",
     "output_type": "stream",
     "text": [
      "2\n",
      "6\n",
      "3\n",
      "12\n",
      "16\n"
     ]
    }
   ],
   "source": [
    "#import sys\n",
    "#t = int(sys.stdin.readline())\n",
    "t = int(input())\n",
    "\n",
    "for i in range(t):\n",
    "    n = int(input())\n",
    "    print(P(n))"
   ]
  },
  {
   "cell_type": "code",
   "execution_count": null,
   "id": "f84d7ba3",
   "metadata": {},
   "outputs": [],
   "source": [
    "import sys\n",
    "r = sys.stdin.readline\n",
    "\n",
    "N = int(r())\n",
    "arr = [int(r()) for _ in range(N)]\n",
    "seq = [1, 1, 1, 2, 2]\n",
    "\n",
    "for i in range(5, max(arr)):\n",
    "    seq.append(seq[i-1]+seq[i-5])\n",
    "\n",
    "for i in arr:\n",
    "    print(seq[i-1])"
   ]
  },
  {
   "cell_type": "markdown",
   "id": "3d4ff674",
   "metadata": {},
   "source": [
    "#### 5 : 1149"
   ]
  },
  {
   "cell_type": "code",
   "execution_count": 79,
   "id": "85685625",
   "metadata": {},
   "outputs": [
    {
     "name": "stdout",
     "output_type": "stream",
     "text": [
      "3\n",
      "26 40 83\n",
      "49 60 57\n",
      "13 89 99\n"
     ]
    }
   ],
   "source": [
    "n = int(input())\n",
    "RGB = []\n",
    "for i in range(n):\n",
    "    R = list(map(int,input().split()))\n",
    "    RGB.append(R)"
   ]
  },
  {
   "cell_type": "code",
   "execution_count": 80,
   "id": "ec93fd8e",
   "metadata": {},
   "outputs": [
    {
     "name": "stdout",
     "output_type": "stream",
     "text": [
      "[[26, 40, 83], [89, 60, 57], [13, 89, 99]]\n",
      "[[26, 40, 83], [89, 86, 57], [13, 89, 99]]\n",
      "[[26, 40, 83], [89, 86, 83], [13, 89, 99]]\n",
      "[[26, 40, 83], [89, 86, 83], [96, 89, 99]]\n",
      "[[26, 40, 83], [89, 86, 83], [96, 172, 99]]\n",
      "[[26, 40, 83], [89, 86, 83], [96, 172, 185]]\n",
      "96\n"
     ]
    }
   ],
   "source": [
    "for i in range(1,len(RGB)):\n",
    "    RGB[i][0] = min(RGB[i-1][1],RGB[i-1][2]) + RGB[i][0] # \n",
    "    print(RGB)\n",
    "    RGB[i][1] = min(RGB[i-1][0],RGB[i-1][2]) + RGB[i][1]\n",
    "    print(RGB)\n",
    "    RGB[i][2] = min(RGB[i-1][0],RGB[i-1][1]) + RGB[i][2]\n",
    "    print(RGB)\n",
    "print(min(RGB[n-1]))\n",
    "\n",
    "'''\n",
    "3\n",
    "26 40 83\n",
    "49 60 57\n",
    "13 89 99\n",
    "'''"
   ]
  },
  {
   "cell_type": "markdown",
   "id": "a07c459f",
   "metadata": {},
   "source": [
    "#### 6 : 1932"
   ]
  },
  {
   "cell_type": "code",
   "execution_count": 142,
   "id": "073cce28",
   "metadata": {},
   "outputs": [
    {
     "name": "stdout",
     "output_type": "stream",
     "text": [
      "5\n",
      "7\n",
      "3 8\n",
      "8 1 0\n",
      "2 7 4 4\n",
      "4 5 2 6 5\n"
     ]
    }
   ],
   "source": [
    "# 리스트에 더해가는 방식으로 \n",
    "n = int(input())\n",
    "L = []\n",
    "for i in range(n):\n",
    "    L.append(list(map(int,input().split())))"
   ]
  },
  {
   "cell_type": "code",
   "execution_count": 143,
   "id": "41bfaefb",
   "metadata": {},
   "outputs": [
    {
     "name": "stdout",
     "output_type": "stream",
     "text": [
      "30\n"
     ]
    }
   ],
   "source": [
    "for i in range(1,n):\n",
    "    for j in range(len(L[i])):\n",
    "        if j == 0:\n",
    "            L[i][0] = L[i][0]+L[i-1][0]\n",
    "        elif i ==j :\n",
    "            L[i][j] = L[i][j]+L[i-1][j-1]\n",
    "        else :\n",
    "            L[i][j] = max(L[i-1][j-1],L[i-1][j])+L[i][j]\n",
    "print(max(L[i]))"
   ]
  },
  {
   "cell_type": "markdown",
   "id": "5ecceebc",
   "metadata": {},
   "source": [
    "#### 7 : 2579"
   ]
  },
  {
   "cell_type": "code",
   "execution_count": 338,
   "id": "f0a599f5",
   "metadata": {},
   "outputs": [
    {
     "name": "stdout",
     "output_type": "stream",
     "text": [
      "6\n",
      "10\n",
      "20\n",
      "15\n",
      "25\n",
      "10\n",
      "20\n"
     ]
    },
    {
     "data": {
      "text/plain": [
       "[10, 20, 15, 25, 10, 20]"
      ]
     },
     "execution_count": 338,
     "metadata": {},
     "output_type": "execute_result"
    }
   ],
   "source": [
    "#!!!\n",
    "\n",
    "n = int(input())\n",
    "L = []\n",
    "for i in range(n):\n",
    "    L.append(int(input()))\n",
    "L"
   ]
  },
  {
   "cell_type": "code",
   "execution_count": 339,
   "id": "c33fa21d",
   "metadata": {},
   "outputs": [
    {
     "name": "stdout",
     "output_type": "stream",
     "text": [
      "75\n"
     ]
    }
   ],
   "source": [
    "i = 0\n",
    "while i+2 <len(L):\n",
    "    if j < 3 :\n",
    "        if L[i]+L[i+1]> L[i]+L[i+2]:\n",
    "            L[i+1] = L[i]+L[i+1]\n",
    "            i += 1\n",
    "            j += 1\n",
    "            continue\n",
    "        else :\n",
    "            L[i+2] = L[i]+L[i+2]\n",
    "            i += 2\n",
    "            j = 0\n",
    "            continue\n",
    "print(max(L))"
   ]
  },
  {
   "cell_type": "markdown",
   "id": "8778cb11",
   "metadata": {},
   "source": [
    "#### 8 : 1463"
   ]
  },
  {
   "cell_type": "code",
   "execution_count": 349,
   "id": "c07ef510",
   "metadata": {},
   "outputs": [
    {
     "name": "stdout",
     "output_type": "stream",
     "text": [
      "10\n",
      "3\n"
     ]
    }
   ],
   "source": [
    "n = int(input())\n",
    "\n",
    "dp = [0 for _ in range(n+1)] # 리스트 생성\n",
    "\n",
    "for i in range(2, n+1): #0,1 = 1일 때 까지 나누는 경우 0\n",
    "    dp[i] = dp[i-1] + 1  # 1 = 기본 연산 횟수, 나머지 = \n",
    "\n",
    "    if i%2 == 0 and dp[i] > dp[i//2] + 1 :\n",
    "        dp[i] = dp[i//2]+1 # ??\n",
    "        \n",
    "    if i%3 == 0 and dp[i] > dp[i//3] + 1 :\n",
    "        dp[i] = dp[i//3] + 1\n",
    "        \n",
    "print(dp[n]) #x -= 1 과정은 어디?"
   ]
  },
  {
   "cell_type": "code",
   "execution_count": 343,
   "id": "4447e0d5",
   "metadata": {},
   "outputs": [
    {
     "name": "stdout",
     "output_type": "stream",
     "text": [
      "10\n"
     ]
    }
   ],
   "source": [
    "#!!!\n",
    "x = int(input())\n",
    "cnt = 0"
   ]
  },
  {
   "cell_type": "code",
   "execution_count": 344,
   "id": "f0fc85d3",
   "metadata": {},
   "outputs": [
    {
     "name": "stdout",
     "output_type": "stream",
     "text": [
      "9 1\n",
      "8 2\n",
      "7 3\n",
      "6 4\n",
      "2 5\n",
      "1 6\n",
      "6\n"
     ]
    }
   ],
   "source": [
    "while x != 1 :\n",
    "    if x%3 or x%2 == 1 :\n",
    "        x -= 1\n",
    "        cnt += 1\n",
    "        print(x,cnt)\n",
    "        continue\n",
    "    if x%3 == 0:\n",
    "        x = x//3\n",
    "        cnt += 1\n",
    "        print(x,cnt)\n",
    "        continue\n",
    "    if x%2 == 0:\n",
    "        x = x//2\n",
    "        cnt += 1\n",
    "        print(x,cnt)\n",
    "        continue\n",
    "    else :\n",
    "        x -= 1\n",
    "        cnt += 1\n",
    "        print(x,cnt)\n",
    "        continue\n",
    "print(cnt)"
   ]
  },
  {
   "cell_type": "code",
   "execution_count": null,
   "id": "bea1e1d5",
   "metadata": {},
   "outputs": [],
   "source": []
  }
 ],
 "metadata": {
  "kernelspec": {
   "display_name": "Python [conda env:root] *",
   "language": "python",
   "name": "conda-root-py"
  },
  "language_info": {
   "codemirror_mode": {
    "name": "ipython",
    "version": 3
   },
   "file_extension": ".py",
   "mimetype": "text/x-python",
   "name": "python",
   "nbconvert_exporter": "python",
   "pygments_lexer": "ipython3",
   "version": "3.8.8"
  }
 },
 "nbformat": 4,
 "nbformat_minor": 5
}
