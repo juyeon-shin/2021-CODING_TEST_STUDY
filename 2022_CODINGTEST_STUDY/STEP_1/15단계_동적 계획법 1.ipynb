{
 "cells": [
  {
   "cell_type": "markdown",
   "id": "7b9d31b9",
   "metadata": {},
   "source": [
    "#### 1 : 1003"
   ]
  },
  {
   "cell_type": "code",
   "execution_count": null,
   "id": "6a18ad20",
   "metadata": {},
   "outputs": [],
   "source": [
    "zero = [1,0,1]\n",
    "one = [0,1,1]\n",
    "\n",
    "def fibo(n):\n",
    "    if n==0:\n",
    "        cn_0 += 1\n",
    "        return 0\n",
    "    if n==1:\n",
    "        cn_1 += 1\n",
    "        return 1\n",
    "    else:\n",
    "        return fibo(n-1)+fibo(n-2)\n",
    "\n",
    "t = int(input())\n",
    "case = []\n",
    "for i in range(t):\n",
    "    case.append((int(input())))\n",
    "    \n",
    "for i in case:\n",
    "    print(fibo(i))"
   ]
  },
  {
   "cell_type": "code",
   "execution_count": null,
   "id": "36cc6944",
   "metadata": {},
   "outputs": [],
   "source": [
    "# 정답\n",
    "zero = [1, 0, 1]\n",
    "one = [0, 1, 1]\n",
    "\n",
    "def fibonacci(num):\n",
    "    length = len(zero)\n",
    "    if num >= length: # ??\n",
    "        for i in range(length, num+1):\n",
    "            zero.append(zero[i-1] + zero[i-2]) #이해\n",
    "            one.append(one[i-1] + one[i-2]) #이해\n",
    "    print('{} {}'.format(zero[num], one[num]))\n",
    "\n",
    "T = int(input())\n",
    "    \n",
    "for _ in range(T):\n",
    "    fibonacci(int(input()))"
   ]
  },
  {
   "cell_type": "markdown",
   "id": "a0abaa23",
   "metadata": {},
   "source": [
    "#### 2 : 9184"
   ]
  },
  {
   "cell_type": "code",
   "execution_count": null,
   "id": "7656e167",
   "metadata": {},
   "outputs": [],
   "source": [
    "a,b,c = map(int,input())"
   ]
  },
  {
   "cell_type": "code",
   "execution_count": null,
   "id": "79d2b82f",
   "metadata": {},
   "outputs": [],
   "source": [
    "def w(a,b,c):\n",
    "    "
   ]
  },
  {
   "cell_type": "markdown",
   "id": "0a051f76",
   "metadata": {},
   "source": [
    "#### 3 : 1904"
   ]
  },
  {
   "cell_type": "code",
   "execution_count": 1,
   "id": "bbbc141c",
   "metadata": {},
   "outputs": [
    {
     "name": "stdout",
     "output_type": "stream",
     "text": [
      "4\n"
     ]
    }
   ],
   "source": [
    "n = input()"
   ]
  },
  {
   "cell_type": "code",
   "execution_count": null,
   "id": "431abaa8",
   "metadata": {},
   "outputs": [],
   "source": [
    "# 1 00\n",
    "\n",
    "bi = ['1','00']\n",
    "li = []\n"
   ]
  },
  {
   "cell_type": "code",
   "execution_count": 2,
   "id": "b4d85395",
   "metadata": {},
   "outputs": [],
   "source": [
    "def bin(n):\n",
    "    if n == 1 :\n",
    "        return 1\n",
    "    else :\n",
    "        \n",
    "        bin(n-1)\n",
    "    return len(li)%15746"
   ]
  },
  {
   "cell_type": "code",
   "execution_count": 37,
   "id": "eda10acb",
   "metadata": {},
   "outputs": [
    {
     "name": "stdout",
     "output_type": "stream",
     "text": [
      "4\n",
      "1001\n",
      "2001\n",
      "3001\n",
      "4001\n",
      "5001\n",
      "6001\n",
      "7001\n",
      "8001\n",
      "9001\n",
      "10000\n"
     ]
    }
   ],
   "source": [
    "n = int(input())\n",
    "cnt = 0\n",
    "six_n = 1\n",
    "while True:\n",
    "    if ('00' and '100' and '001') in str(six_n): \n",
    "        if not('1') not in str(six_n):\n",
    "            cnt += 1\n",
    "            print(six_n)\n",
    "    if len(str(six_n)) > n :\n",
    "        print(six_n)\n",
    "        break\n",
    "    six_n += 1"
   ]
  },
  {
   "cell_type": "code",
   "execution_count": null,
   "id": "d2d391da",
   "metadata": {},
   "outputs": [],
   "source": []
  },
  {
   "cell_type": "code",
   "execution_count": null,
   "id": "d76425d2",
   "metadata": {},
   "outputs": [],
   "source": [
    "def place(n,f=1, m=2,e=3) :\n",
    "    if n == 1 :\n",
    "        print(f,e)\n",
    "    else :\n",
    "        place(n-1,f,e,m) #n-1개를 m에 옮긴 횟수 n = 5 -> n = 4\n",
    "        print(f,e) #마지막 걸 e로 옮긴 것\n",
    "        place(n-1,m,f,e) # n = 4 -> n=3\n",
    "        # 2에 있는 것을 3으로 옮기기"
   ]
  },
  {
   "cell_type": "markdown",
   "id": "8efbfd0f",
   "metadata": {},
   "source": [
    "#### 4 : 9461"
   ]
  },
  {
   "cell_type": "markdown",
   "id": "3d4ff674",
   "metadata": {},
   "source": [
    "#### 5 : 1149"
   ]
  },
  {
   "cell_type": "markdown",
   "id": "a07c459f",
   "metadata": {},
   "source": [
    "#### 6 : 1932"
   ]
  },
  {
   "cell_type": "markdown",
   "id": "5ecceebc",
   "metadata": {},
   "source": [
    "#### 7 : 2579"
   ]
  },
  {
   "cell_type": "markdown",
   "id": "8778cb11",
   "metadata": {},
   "source": [
    "#### 8 : 1463"
   ]
  },
  {
   "cell_type": "code",
   "execution_count": null,
   "id": "4447e0d5",
   "metadata": {},
   "outputs": [],
   "source": []
  }
 ],
 "metadata": {
  "kernelspec": {
   "display_name": "Python [conda env:root] *",
   "language": "python",
   "name": "conda-root-py"
  },
  "language_info": {
   "codemirror_mode": {
    "name": "ipython",
    "version": 3
   },
   "file_extension": ".py",
   "mimetype": "text/x-python",
   "name": "python",
   "nbconvert_exporter": "python",
   "pygments_lexer": "ipython3",
   "version": "3.8.8"
  }
 },
 "nbformat": 4,
 "nbformat_minor": 5
}
