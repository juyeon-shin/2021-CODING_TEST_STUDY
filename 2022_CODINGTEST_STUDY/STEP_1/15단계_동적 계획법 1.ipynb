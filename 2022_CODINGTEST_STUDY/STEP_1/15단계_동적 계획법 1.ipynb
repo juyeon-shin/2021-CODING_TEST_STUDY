{
 "cells": [
  {
   "cell_type": "markdown",
   "id": "f26b7fc2",
   "metadata": {},
   "source": [
    "#### 1 : 1003"
   ]
  },
  {
   "cell_type": "code",
   "execution_count": 127,
   "id": "88f34511",
   "metadata": {},
   "outputs": [
    {
     "name": "stdout",
     "output_type": "stream",
     "text": [
      "3\n",
      "0\n",
      "1\n",
      "3\n",
      "[0, 1, 3]\n"
     ]
    }
   ],
   "source": [
    "t = int(input())\n",
    "case = []\n",
    "for i in range(t):\n",
    "    case.append((int(input())))\n",
    "    \n",
    "print(case)"
   ]
  },
  {
   "cell_type": "code",
   "execution_count": 128,
   "id": "e089c513",
   "metadata": {
    "scrolled": true
   },
   "outputs": [
    {
     "name": "stdout",
     "output_type": "stream",
     "text": [
      "0\n",
      "1\n",
      "2\n"
     ]
    }
   ],
   "source": [
    "for i in case:\n",
    "    print(fibo(i))"
   ]
  },
  {
   "cell_type": "code",
   "execution_count": 129,
   "id": "7ee38242",
   "metadata": {},
   "outputs": [],
   "source": [
    "zero = [1,0,1]\n",
    "one = [0,1,1]\n",
    "def fibo(n):\n",
    "    if n==0:\n",
    "        cn_0 += 1\n",
    "        return 0\n",
    "    if n==1:\n",
    "        cn_1 += 1\n",
    "        return 1\n",
    "    else:\n",
    "        return fibo(n-1)+fibo(n-2)"
   ]
  },
  {
   "cell_type": "code",
   "execution_count": null,
   "id": "1968d3b6",
   "metadata": {},
   "outputs": [],
   "source": []
  }
 ],
 "metadata": {
  "kernelspec": {
   "display_name": "Python [conda env:root] *",
   "language": "python",
   "name": "conda-root-py"
  },
  "language_info": {
   "codemirror_mode": {
    "name": "ipython",
    "version": 3
   },
   "file_extension": ".py",
   "mimetype": "text/x-python",
   "name": "python",
   "nbconvert_exporter": "python",
   "pygments_lexer": "ipython3",
   "version": "3.8.8"
  }
 },
 "nbformat": 4,
 "nbformat_minor": 5
}
