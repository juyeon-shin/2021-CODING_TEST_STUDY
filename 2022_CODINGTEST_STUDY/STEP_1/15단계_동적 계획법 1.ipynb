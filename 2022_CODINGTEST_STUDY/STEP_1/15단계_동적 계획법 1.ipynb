{
 "cells": [
  {
   "cell_type": "markdown",
   "id": "95e214c3",
   "metadata": {},
   "source": [
    "#### 1 : 1003"
   ]
  },
  {
   "cell_type": "code",
   "execution_count": 13,
   "id": "b7680cac",
   "metadata": {},
   "outputs": [
    {
     "name": "stdout",
     "output_type": "stream",
     "text": [
      "3\n",
      "0\n",
      "1\n",
      "3\n",
      "[0, 1, 3]\n"
     ]
    }
   ],
   "source": [
    "t = int(input())\n",
    "case = []\n",
    "for i in range(t):\n",
    "    case.append((int(input())))\n",
    "    \n",
    "print(case)"
   ]
  },
  {
   "cell_type": "code",
   "execution_count": 114,
   "id": "9178178d",
   "metadata": {},
   "outputs": [],
   "source": [
    "def fibo(n):\n",
    "    if n==0:\n",
    "        return 0\n",
    "    if n==1:\n",
    "        return 1\n",
    "    else:\n",
    "        return fibo(n-1)+fibo(n-2)"
   ]
  },
  {
   "cell_type": "code",
   "execution_count": 115,
   "id": "928140d5",
   "metadata": {
    "scrolled": true
   },
   "outputs": [
    {
     "data": {
      "text/plain": [
       "2"
      ]
     },
     "execution_count": 115,
     "metadata": {},
     "output_type": "execute_result"
    }
   ],
   "source": [
    "fibo(3)"
   ]
  },
  {
   "cell_type": "code",
   "execution_count": null,
   "id": "2512e88d",
   "metadata": {},
   "outputs": [],
   "source": []
  },
  {
   "cell_type": "code",
   "execution_count": null,
   "id": "a09c46a2",
   "metadata": {},
   "outputs": [],
   "source": [
    "for i in case:\n",
    "    print(fibo(i))"
   ]
  }
 ],
 "metadata": {
  "kernelspec": {
   "display_name": "Python [conda env:root] *",
   "language": "python",
   "name": "conda-root-py"
  },
  "language_info": {
   "codemirror_mode": {
    "name": "ipython",
    "version": 3
   },
   "file_extension": ".py",
   "mimetype": "text/x-python",
   "name": "python",
   "nbconvert_exporter": "python",
   "pygments_lexer": "ipython3",
   "version": "3.8.8"
  }
 },
 "nbformat": 4,
 "nbformat_minor": 5
}
