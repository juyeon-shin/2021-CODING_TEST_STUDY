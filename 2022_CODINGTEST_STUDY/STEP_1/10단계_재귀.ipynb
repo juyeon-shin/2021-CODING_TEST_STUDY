{
 "cells": [
  {
   "cell_type": "markdown",
   "id": "03889bfd",
   "metadata": {},
   "source": [
    "### 10단계 : 재귀"
   ]
  },
  {
   "cell_type": "markdown",
   "id": "42c6306d",
   "metadata": {},
   "source": [
    "#### 3 : 2447"
   ]
  },
  {
   "cell_type": "code",
   "execution_count": 11,
   "id": "bebff475",
   "metadata": {},
   "outputs": [
    {
     "name": "stdout",
     "output_type": "stream",
     "text": [
      "9\n",
      "[[['***', '* *', '***'], ['***', '* *', '***'], ['***', '* *', '***'], ['***', '* *', '***'], ' ', ['***', '* *', '***'], ['***', '* *', '***'], ['***', '* *', '***'], ['***', '* *', '***']], [['***', '* *', '***'], ['***', '* *', '***'], ['***', '* *', '***'], ['***', '* *', '***'], ' ', ['***', '* *', '***'], ['***', '* *', '***'], ['***', '* *', '***'], ['***', '* *', '***']], [['***', '* *', '***'], ['***', '* *', '***'], ['***', '* *', '***'], ['***', '* *', '***'], ' ', ['***', '* *', '***'], ['***', '* *', '***'], ['***', '* *', '***'], ['***', '* *', '***']], [['***', '* *', '***'], ['***', '* *', '***'], ['***', '* *', '***'], ['***', '* *', '***'], ' ', ['***', '* *', '***'], ['***', '* *', '***'], ['***', '* *', '***'], ['***', '* *', '***']], ' ', [['***', '* *', '***'], ['***', '* *', '***'], ['***', '* *', '***'], ['***', '* *', '***'], ' ', ['***', '* *', '***'], ['***', '* *', '***'], ['***', '* *', '***'], ['***', '* *', '***']], [['***', '* *', '***'], ['***', '* *', '***'], ['***', '* *', '***'], ['***', '* *', '***'], ' ', ['***', '* *', '***'], ['***', '* *', '***'], ['***', '* *', '***'], ['***', '* *', '***']], [['***', '* *', '***'], ['***', '* *', '***'], ['***', '* *', '***'], ['***', '* *', '***'], ' ', ['***', '* *', '***'], ['***', '* *', '***'], ['***', '* *', '***'], ['***', '* *', '***']], [['***', '* *', '***'], ['***', '* *', '***'], ['***', '* *', '***'], ['***', '* *', '***'], ' ', ['***', '* *', '***'], ['***', '* *', '***'], ['***', '* *', '***'], ['***', '* *', '***']]]\n"
     ]
    }
   ],
   "source": [
    "#출력 초과\n",
    "N = int(input())\n",
    "\n",
    "star = ['***','* *','***']\n",
    "\n",
    "def step(star):\n",
    "    a = []\n",
    "    for i in range(1,10):\n",
    "        if i != 5:\n",
    "            a.append(star)\n",
    "        else:\n",
    "            a.append(' ')\n",
    "    return a\n",
    "\n",
    "S = star\n",
    "\n",
    "if N//3 == 1:\n",
    "    print(star)\n",
    "elif N//3 != 1:\n",
    "    while N > 1:\n",
    "        S = step(S)\n",
    "        N = N//3\n",
    "    print(S)"
   ]
  },
  {
   "cell_type": "code",
   "execution_count": null,
   "id": "cbb85f40",
   "metadata": {},
   "outputs": [],
   "source": [
    "3 ; \n",
    "['***','* *','***']\n",
    "\n",
    "9 : \n",
    "[['***','* *','***']\n",
    "['***','* *','***']\n",
    "['***','* *','***']\n",
    "['***','* *','***']\n",
    "''\n",
    "['***','* *','***']\n",
    "['***','* *','***']\n",
    "['***','* *','***']\n",
    "['***','* *','***']]\n",
    "\n",
    "27 : \n",
    "[['***','* *','***']\n",
    "['***','* *','***']\n",
    "['***','* *','***']\n",
    "['***','* *','***']\n",
    "''\n",
    "['***','* *','***']\n",
    "['***','* *','***']\n",
    "['***','* *','***']\n",
    "['***','* *','***']] * 4 +  ' ' * 4 "
   ]
  },
  {
   "cell_type": "markdown",
   "id": "b673d217",
   "metadata": {},
   "source": [
    "#### 4 : 11729"
   ]
  },
  {
   "cell_type": "code",
   "execution_count": 2,
   "id": "f8b604d0",
   "metadata": {},
   "outputs": [
    {
     "data": {
      "text/plain": [
       "0"
      ]
     },
     "execution_count": 2,
     "metadata": {},
     "output_type": "execute_result"
    }
   ],
   "source": [
    "0//3"
   ]
  },
  {
   "cell_type": "code",
   "execution_count": 3,
   "id": "d5e8928d",
   "metadata": {},
   "outputs": [
    {
     "data": {
      "text/plain": [
       "0"
      ]
     },
     "execution_count": 3,
     "metadata": {},
     "output_type": "execute_result"
    }
   ],
   "source": [
    "1//3"
   ]
  },
  {
   "cell_type": "code",
   "execution_count": 4,
   "id": "a5757963",
   "metadata": {},
   "outputs": [
    {
     "data": {
      "text/plain": [
       "0"
      ]
     },
     "execution_count": 4,
     "metadata": {},
     "output_type": "execute_result"
    }
   ],
   "source": [
    "2//3"
   ]
  },
  {
   "cell_type": "code",
   "execution_count": 6,
   "id": "76c0b0fa",
   "metadata": {},
   "outputs": [
    {
     "data": {
      "text/plain": [
       "1"
      ]
     },
     "execution_count": 6,
     "metadata": {},
     "output_type": "execute_result"
    }
   ],
   "source": [
    "3//3"
   ]
  },
  {
   "cell_type": "code",
   "execution_count": null,
   "id": "395e00df",
   "metadata": {},
   "outputs": [],
   "source": [
    "\n"
   ]
  }
 ],
 "metadata": {
  "kernelspec": {
   "display_name": "Python [conda env:root] *",
   "language": "python",
   "name": "conda-root-py"
  },
  "language_info": {
   "codemirror_mode": {
    "name": "ipython",
    "version": 3
   },
   "file_extension": ".py",
   "mimetype": "text/x-python",
   "name": "python",
   "nbconvert_exporter": "python",
   "pygments_lexer": "ipython3",
   "version": "3.8.8"
  }
 },
 "nbformat": 4,
 "nbformat_minor": 5
}
