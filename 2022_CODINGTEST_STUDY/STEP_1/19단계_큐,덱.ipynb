{
 "cells": [
  {
   "cell_type": "markdown",
   "id": "4d3051e0",
   "metadata": {},
   "source": [
    "### 01 : 18258"
   ]
  },
  {
   "cell_type": "code",
   "execution_count": 3,
   "id": "3a75f3a8",
   "metadata": {},
   "outputs": [
    {
     "name": "stdout",
     "output_type": "stream",
     "text": [
      "15\n",
      "push 1\n",
      "push 2\n",
      "front\n",
      "1\n",
      "back\n",
      "2\n",
      "size\n",
      "2\n",
      "empty\n",
      "0\n",
      "pop\n",
      "1\n",
      "pop\n",
      "2\n",
      "pop\n",
      "-1\n",
      "size\n",
      "0\n",
      "empty\n",
      "1\n",
      "pop\n",
      "-1\n",
      "push 3\n",
      "empty\n",
      "0\n",
      "front\n",
      "3\n"
     ]
    }
   ],
   "source": [
    "import sys\n",
    "n = int(sys.stdin.readline())\n",
    "stack = []\n",
    "for i in range(n):\n",
    "    a = list(sys.stdin.readline().split())\n",
    "    if a[0] == 'push':\n",
    "        stack.append(a[1])\n",
    "    elif a[0] == 'pop':\n",
    "        if stack == []:\n",
    "            print(-1)\n",
    "        else : \n",
    "            print(stack[0])\n",
    "            stack.pop(0)\n",
    "    elif a[0] == 'size':\n",
    "        print(len(stack))\n",
    "    elif a[0] == 'empty':\n",
    "        if stack == []:\n",
    "            print(1)\n",
    "        else :\n",
    "            print(0)\n",
    "    elif a[0] == 'front':\n",
    "        if stack == []:\n",
    "            print(-1)\n",
    "        else :\n",
    "            print(stack[0])\n",
    "    elif a[0] == 'back':\n",
    "        if stack == []:\n",
    "            print(-1)\n",
    "        else :\n",
    "            print(stack[-1])"
   ]
  },
  {
   "cell_type": "markdown",
   "id": "facdb69c",
   "metadata": {},
   "source": [
    "### 03 : 11866"
   ]
  },
  {
   "cell_type": "code",
   "execution_count": 22,
   "id": "00fc5cf3",
   "metadata": {},
   "outputs": [
    {
     "name": "stdout",
     "output_type": "stream",
     "text": [
      "7 3\n",
      "<3, 6, 2, 7, 5, 1, 4>\n"
     ]
    }
   ],
   "source": [
    "from collections import deque \n",
    "queue = deque()\n",
    "answer = []\n",
    "\n",
    "n,k = map(int,input().split())\n",
    "\n",
    "for i in range(1,n+1):\n",
    "    queue.append(i)\n",
    "    \n",
    "while queue :\n",
    "    for i in range(k-1):\n",
    "        queue.append(queue.popleft())\n",
    "    answer.append(queue.popleft())\n",
    "\n",
    "print('<', end='')\n",
    "for i in range(len(answer)-1):\n",
    "    print('%d, '%answer[i],end='')\n",
    "print(answer[-1],end='')\n",
    "print('>')"
   ]
  },
  {
   "cell_type": "markdown",
   "id": "c25bdc42",
   "metadata": {},
   "source": [
    "### 05 : 10866"
   ]
  },
  {
   "cell_type": "code",
   "execution_count": 1,
   "id": "457648ff",
   "metadata": {
    "collapsed": true
   },
   "outputs": [
    {
     "name": "stdout",
     "output_type": "stream",
     "text": [
      "15\n",
      "push_back 1\n",
      "push_front 2\n",
      "front\n",
      "2\n",
      "back\n",
      "1\n",
      "size\n",
      "2\n",
      "empty\n",
      "0\n",
      "pop_front\n",
      "2\n",
      "pop_back\n"
     ]
    },
    {
     "ename": "IndexError",
     "evalue": "deque index out of range",
     "output_type": "error",
     "traceback": [
      "\u001b[1;31m---------------------------------------------------------------------------\u001b[0m",
      "\u001b[1;31mIndexError\u001b[0m                                Traceback (most recent call last)",
      "\u001b[1;32m~\\AppData\\Local\\Temp/ipykernel_12828/3531641829.py\u001b[0m in \u001b[0;36m<module>\u001b[1;34m\u001b[0m\n\u001b[0;32m     20\u001b[0m             \u001b[0mprint\u001b[0m\u001b[1;33m(\u001b[0m\u001b[1;33m-\u001b[0m\u001b[1;36m1\u001b[0m\u001b[1;33m)\u001b[0m\u001b[1;33m\u001b[0m\u001b[1;33m\u001b[0m\u001b[0m\n\u001b[0;32m     21\u001b[0m         \u001b[1;32melse\u001b[0m \u001b[1;33m:\u001b[0m\u001b[1;33m\u001b[0m\u001b[1;33m\u001b[0m\u001b[0m\n\u001b[1;32m---> 22\u001b[1;33m             \u001b[0mprint\u001b[0m\u001b[1;33m(\u001b[0m\u001b[0mqueue\u001b[0m\u001b[1;33m[\u001b[0m\u001b[1;33m-\u001b[0m\u001b[1;36m1\u001b[0m\u001b[1;33m]\u001b[0m\u001b[1;33m)\u001b[0m\u001b[1;33m\u001b[0m\u001b[1;33m\u001b[0m\u001b[0m\n\u001b[0m\u001b[0;32m     23\u001b[0m             \u001b[0mqueue\u001b[0m\u001b[1;33m.\u001b[0m\u001b[0mpop\u001b[0m\u001b[1;33m(\u001b[0m\u001b[1;33m)\u001b[0m\u001b[1;33m\u001b[0m\u001b[1;33m\u001b[0m\u001b[0m\n\u001b[0;32m     24\u001b[0m     \u001b[1;32melif\u001b[0m \u001b[0ma\u001b[0m\u001b[1;33m[\u001b[0m\u001b[1;36m0\u001b[0m\u001b[1;33m]\u001b[0m \u001b[1;33m==\u001b[0m \u001b[1;34m'size'\u001b[0m\u001b[1;33m:\u001b[0m\u001b[1;33m\u001b[0m\u001b[1;33m\u001b[0m\u001b[0m\n",
      "\u001b[1;31mIndexError\u001b[0m: deque index out of range"
     ]
    }
   ],
   "source": [
    "from collections import deque \n",
    "queue = deque()\n",
    "answer = []\n",
    "n = int(input())\n",
    "for i in range(n):\n",
    "    a = list(input().split())\n",
    "    \n",
    "    if a[0] == 'push_front':\n",
    "        queue.appendleft(a[1])\n",
    "    elif a[0] == 'push_back':\n",
    "        queue.append(a[1])\n",
    "    elif a[0] == 'pop_front':\n",
    "        if queue == []:\n",
    "            print(-1)\n",
    "        else :\n",
    "            print(queue.popleft())\n",
    "            queue.popleft()\n",
    "    elif a[0] == 'pop_back':\n",
    "        if queue == []:\n",
    "            print(-1)\n",
    "        else :\n",
    "            print(queue[-1])\n",
    "            queue.pop()\n",
    "    elif a[0] == 'size':\n",
    "        print(len(queue))\n",
    "    elif a[0] == 'empty':\n",
    "        if queue == []:\n",
    "            print(1)\n",
    "        else :\n",
    "            print(0)\n",
    "    elif a[0] == 'front':\n",
    "        if queue == []:\n",
    "            print(-1)\n",
    "        else :\n",
    "            print(queue[0])\n",
    "    elif a[0] == 'back':\n",
    "        if queue == []:\n",
    "            print(-1)\n",
    "        else :\n",
    "            print(queue[-1])\n",
    "        "
   ]
  },
  {
   "cell_type": "markdown",
   "id": "8d1fc63a",
   "metadata": {},
   "source": [
    "### 07 : 5430"
   ]
  },
  {
   "cell_type": "code",
   "execution_count": 36,
   "id": "d41029d4",
   "metadata": {},
   "outputs": [
    {
     "name": "stdout",
     "output_type": "stream",
     "text": [
      "4\n",
      "RDD\n",
      "4\n",
      "[1,2,3,4]\n",
      "['2', '1']\n",
      "DD\n",
      "1\n",
      "[42]\n",
      "error\n",
      "[]\n",
      "RRD\n",
      "6\n",
      "[1,1,2,3,5,8]\n",
      "['1', '2', '3', '5', '8']\n",
      "D\n",
      "0\n",
      "[]\n",
      "[]\n"
     ]
    }
   ],
   "source": [
    "import sys\n",
    "from collections import deque \n",
    "\n",
    "try :\n",
    "    t = int(sys.stdin.readline())\n",
    "except:\n",
    "    print('error')\n",
    "\n",
    "for i in range(t):\n",
    "    p = list(sys.stdin.readline())\n",
    "    n = int(sys.stdin.readline())\n",
    "    t = sys.stdin.readline()[1:-1].split(',')\n",
    "    queue = deque(t)\n",
    "\n",
    "    for i in range(len(p)):\n",
    "        if p[i] == 'R':\n",
    "            queue.reverse()\n",
    "        elif p[i] == 'D':\n",
    "            if queue :\n",
    "                queue.popleft()\n",
    "            else :\n",
    "                print('error')\n",
    "    print(list(queue))"
   ]
  },
  {
   "cell_type": "code",
   "execution_count": null,
   "id": "2b86dd9e",
   "metadata": {},
   "outputs": [],
   "source": []
  },
  {
   "cell_type": "code",
   "execution_count": null,
   "id": "6946a9f0",
   "metadata": {},
   "outputs": [],
   "source": []
  }
 ],
 "metadata": {
  "kernelspec": {
   "display_name": "Python 3 (ipykernel)",
   "language": "python",
   "name": "python3"
  },
  "language_info": {
   "codemirror_mode": {
    "name": "ipython",
    "version": 3
   },
   "file_extension": ".py",
   "mimetype": "text/x-python",
   "name": "python",
   "nbconvert_exporter": "python",
   "pygments_lexer": "ipython3",
   "version": "3.8.8"
  }
 },
 "nbformat": 4,
 "nbformat_minor": 5
}
