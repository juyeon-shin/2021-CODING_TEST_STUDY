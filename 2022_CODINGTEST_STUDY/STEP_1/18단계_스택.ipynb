{
 "cells": [
  {
   "cell_type": "markdown",
   "id": "6a892df2",
   "metadata": {},
   "source": [
    "### 01 : 10828"
   ]
  },
  {
   "cell_type": "code",
   "execution_count": 16,
   "id": "3c271c62",
   "metadata": {},
   "outputs": [
    {
     "name": "stdout",
     "output_type": "stream",
     "text": [
      "7\n",
      "pop\n",
      "-1\n",
      "top\n",
      "-1\n",
      "push 123\n",
      "top\n",
      "['123']\n",
      "pop\n",
      "['123']\n",
      "top\n",
      "-1\n",
      "pop\n",
      "-1\n"
     ]
    }
   ],
   "source": [
    "import sys\n",
    "\n",
    "n = int(sys.stdin.readline())\n",
    "stack = []\n",
    "\n",
    "for i in range(n):\n",
    "    a = list(sys.sydin.readline().split())\n",
    "    if a[0] == 'push':\n",
    "        stack.append(a[1])\n",
    "    elif a[0] == 'pop':\n",
    "        if stack == []:\n",
    "            print(-1)\n",
    "        else : \n",
    "            print(stack[-1])\n",
    "            stack.pop()\n",
    "    elif a[0] == 'size':\n",
    "        print(len(stack))\n",
    "    elif a[0] == 'empty':\n",
    "        if stack == []:\n",
    "            print(1)\n",
    "        else :\n",
    "            print(0)\n",
    "    elif a[0] == 'top':\n",
    "        if stack == []:\n",
    "            print(-1)\n",
    "        else : \n",
    "            print(stack[-1])"
   ]
  },
  {
   "cell_type": "markdown",
   "id": "64adddd7",
   "metadata": {},
   "source": [
    "### 03 : 9012"
   ]
  },
  {
   "cell_type": "code",
   "execution_count": 48,
   "id": "bacfcc5d",
   "metadata": {},
   "outputs": [
    {
     "name": "stdout",
     "output_type": "stream",
     "text": [
      "1\n",
      "()\n",
      "YES\n"
     ]
    }
   ],
   "source": [
    "t = int(input())\n",
    "\n",
    "for i in range(t):\n",
    "    stack = []\n",
    "    a = list(input())\n",
    "    for i in a :\n",
    "        if i == '(':\n",
    "            stack.append(i)\n",
    "        elif i == ')':\n",
    "            if '(' not in stack :\n",
    "                stack.append(-1)\n",
    "            else :\n",
    "                stack.pop()\n",
    "    if len(stack) > 0:\n",
    "        print(\"NO\")\n",
    "    else :\n",
    "        print('YES')"
   ]
  },
  {
   "cell_type": "markdown",
   "id": "5e1d3ffd",
   "metadata": {},
   "source": [
    "### 05 : 1874"
   ]
  },
  {
   "cell_type": "code",
   "execution_count": 67,
   "id": "f1c1f357",
   "metadata": {
    "collapsed": true
   },
   "outputs": [
    {
     "name": "stdout",
     "output_type": "stream",
     "text": [
      "8\n",
      "4\n",
      "3\n",
      "6\n",
      "8\n",
      "7\n",
      "5\n",
      "2\n",
      "1\n",
      "+\n",
      "+\n",
      "+\n",
      "+\n",
      "-\n",
      "-\n",
      "+\n",
      "+\n",
      "-\n",
      "+\n",
      "+\n",
      "-\n",
      "-\n",
      "-\n",
      "-\n",
      "-\n"
     ]
    }
   ],
   "source": [
    "n = int(input())\n",
    "stack = []\n",
    "cnt = 1\n",
    "for i in range(n):\n",
    "    a = int(input())\n",
    "    while cnt <= a :\n",
    "        stack.append(cnt)\n",
    "        print('+')\n",
    "        cnt += 1\n",
    "    if cnt > stack[-1] :\n",
    "        print('-')\n",
    "        stack.pop() \n",
    "\n",
    "        cnt -= 1"
   ]
  },
  {
   "cell_type": "code",
   "execution_count": null,
   "id": "9d4dd8a6",
   "metadata": {},
   "outputs": [],
   "source": [
    "n = int(input())\n",
    "count = 0\n",
    "stack = []\n",
    "result = []\n",
    "no_message=True\n",
    "\n",
    "for i in range(0,n):\n",
    "    x = int(input())\n",
    "\n",
    "    while count < x:\n",
    "        count += 1\n",
    "        stack.append(count)\n",
    "        result.append(\"+\")\n",
    "\n",
    "    if stack[-1]==x:\n",
    "        stack.pop()\n",
    "        result.append(\"-\")\n",
    "    else:\n",
    "        no_message = False\n",
    "        exit(0) #a clean exit without any errors / problems\n",
    "\n",
    "if no_message==False:\n",
    "    print(\"NO\")\n",
    "else:\n",
    "    print(\"\\n\".join(result))"
   ]
  },
  {
   "cell_type": "code",
   "execution_count": null,
   "id": "5d729769",
   "metadata": {},
   "outputs": [],
   "source": [
    "n = int(input())\n",
    "s = []\n",
    "op = []\n",
    "count = 1\n",
    "temp = True\n",
    "for i in range(n):\n",
    "    num = int(input())\n",
    "    while count <= num:\n",
    "        s.append(count)\n",
    "        op.append('+')\n",
    "        count += 1\n",
    "    if s[-1] == num:\n",
    "        s.pop()\n",
    "        op.append('-')\n",
    "    else:\n",
    "        temp = False\n",
    "if temp == False:\n",
    "    print('NO')\n",
    "else:\n",
    "    for i in op:\n",
    "        print(i)"
   ]
  }
 ],
 "metadata": {
  "kernelspec": {
   "display_name": "Python 3 (ipykernel)",
   "language": "python",
   "name": "python3"
  },
  "language_info": {
   "codemirror_mode": {
    "name": "ipython",
    "version": 3
   },
   "file_extension": ".py",
   "mimetype": "text/x-python",
   "name": "python",
   "nbconvert_exporter": "python",
   "pygments_lexer": "ipython3",
   "version": "3.8.8"
  }
 },
 "nbformat": 4,
 "nbformat_minor": 5
}
