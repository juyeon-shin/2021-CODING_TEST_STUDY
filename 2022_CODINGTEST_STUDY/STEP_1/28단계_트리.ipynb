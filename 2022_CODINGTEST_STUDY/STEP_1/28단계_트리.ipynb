{
 "cells": [
  {
   "cell_type": "markdown",
   "id": "984660ed",
   "metadata": {},
   "source": [
    "#### 1 : 11725"
   ]
  },
  {
   "cell_type": "code",
   "execution_count": null,
   "id": "9174e514",
   "metadata": {},
   "outputs": [],
   "source": []
  },
  {
   "cell_type": "markdown",
   "id": "e5f0a8a1",
   "metadata": {},
   "source": [
    "#### 2 : 1167"
   ]
  },
  {
   "cell_type": "code",
   "execution_count": null,
   "id": "f2ab521d",
   "metadata": {},
   "outputs": [],
   "source": []
  },
  {
   "cell_type": "markdown",
   "id": "010c4cd8",
   "metadata": {},
   "source": [
    "#### 3 : 1967"
   ]
  },
  {
   "cell_type": "code",
   "execution_count": null,
   "id": "4fb89578",
   "metadata": {},
   "outputs": [],
   "source": []
  }
 ],
 "metadata": {
  "kernelspec": {
   "display_name": "Python 3 (ipykernel)",
   "language": "python",
   "name": "python3"
  },
  "language_info": {
   "codemirror_mode": {
    "name": "ipython",
    "version": 3
   },
   "file_extension": ".py",
   "mimetype": "text/x-python",
   "name": "python",
   "nbconvert_exporter": "python",
   "pygments_lexer": "ipython3",
   "version": "3.8.8"
  }
 },
 "nbformat": 4,
 "nbformat_minor": 5
}
