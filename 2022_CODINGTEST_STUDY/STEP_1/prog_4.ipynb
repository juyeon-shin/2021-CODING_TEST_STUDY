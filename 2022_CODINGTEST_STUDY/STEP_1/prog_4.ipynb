{
 "cells": [
  {
   "cell_type": "markdown",
   "id": "61ea1a14",
   "metadata": {},
   "source": [
    "#### 힙 : https://programmers.co.kr/learn/courses/30/lessons/42626"
   ]
  },
  {
   "cell_type": "code",
   "execution_count": 46,
   "id": "15e522b3",
   "metadata": {},
   "outputs": [],
   "source": [
    "def solution(scoville, K):\n",
    "    import heapq\n",
    "    answer = 0\n",
    "    for i in scoville:\n",
    "        if i < K and i != min(scoville):\n",
    "            heapq.heappush(scoville, scoville[0]+scoville[1]*2)\n",
    "            heapq.heappop(scoville)\n",
    "            answer += 1\n",
    "    return answer"
   ]
  },
  {
   "cell_type": "code",
   "execution_count": 62,
   "id": "1b7e10bf",
   "metadata": {},
   "outputs": [],
   "source": [
    "def solution(scoville, K):\n",
    "    import heapq\n",
    "    answer = 0\n",
    "    while scoville[0] < K :\n",
    "        heapq.heappush(scoville, scoville[0]+scoville[1]*2)\n",
    "        heapq.heappop(scoville)\n",
    "        heapq.heappop(scoville)\n",
    "        answer += 1\n",
    "    return answer"
   ]
  },
  {
   "cell_type": "code",
   "execution_count": null,
   "id": "707b7871",
   "metadata": {},
   "outputs": [],
   "source": [
    "def solution(scoville, K):\n",
    "    import heapq\n",
    "    answer = 0\n",
    "    while scoville[0] < K :\n",
    "        heapq.heappush(scoville, scoville[0]+scoville[1]*2)\n",
    "        heapq.heappop(scoville)\n",
    "        heapq.heappop(scoville)\n",
    "        answer += 1\n",
    "    if len(scoville) == 1 or scoville[0] < K:\n",
    "        return -1\n",
    "    return answer"
   ]
  },
  {
   "cell_type": "code",
   "execution_count": 63,
   "id": "bea32b47",
   "metadata": {},
   "outputs": [
    {
     "data": {
      "text/plain": [
       "2"
      ]
     },
     "execution_count": 63,
     "metadata": {},
     "output_type": "execute_result"
    }
   ],
   "source": [
    "solution([1,2,3,9,10,12],7)"
   ]
  },
  {
   "cell_type": "markdown",
   "id": "a6dd3330",
   "metadata": {},
   "source": [
    "#### 이분탐색 : https://programmers.co.kr/learn/courses/30/lessons/43238"
   ]
  },
  {
   "cell_type": "code",
   "execution_count": null,
   "id": "4ca937a9",
   "metadata": {},
   "outputs": [],
   "source": [
    "def solution(n, times):\n",
    "    answer = 0    \n",
    "    min_t = 1\n",
    "    max_t = max(times)*n\n",
    "    while min_t <= max_t:\n",
    "        mid = (min_t+max_t)//2\n",
    "        people = 0\n",
    "        if mid\n",
    "    \n",
    "    return answer"
   ]
  },
  {
   "cell_type": "code",
   "execution_count": null,
   "id": "30d3f06d",
   "metadata": {},
   "outputs": [],
   "source": [
    "def solution(n, times): # 시간을 이분탐색\n",
    "    min_time = 1\n",
    "    max_time = max(times)*n\n",
    "    ans = 1\n",
    "    while min_time <= max_time:\n",
    "        mid = (min_time+max_time)//2\n",
    "        people = 0\n",
    "        for time in times:\n",
    "            people += mid // time\n",
    "            if people >= n:\n",
    "                break\n",
    "        if people >= n:\n",
    "            ans = mid\n",
    "            max_time = mid-1\n",
    "        else:\n",
    "            min_time = mid+1\n",
    "    return ans"
   ]
  },
  {
   "cell_type": "code",
   "execution_count": null,
   "id": "d1be50e2",
   "metadata": {},
   "outputs": [],
   "source": [
    "solution(6,[7,10])"
   ]
  }
 ],
 "metadata": {
  "kernelspec": {
   "display_name": "Python 3 (ipykernel)",
   "language": "python",
   "name": "python3"
  },
  "language_info": {
   "codemirror_mode": {
    "name": "ipython",
    "version": 3
   },
   "file_extension": ".py",
   "mimetype": "text/x-python",
   "name": "python",
   "nbconvert_exporter": "python",
   "pygments_lexer": "ipython3",
   "version": "3.8.8"
  }
 },
 "nbformat": 4,
 "nbformat_minor": 5
}
