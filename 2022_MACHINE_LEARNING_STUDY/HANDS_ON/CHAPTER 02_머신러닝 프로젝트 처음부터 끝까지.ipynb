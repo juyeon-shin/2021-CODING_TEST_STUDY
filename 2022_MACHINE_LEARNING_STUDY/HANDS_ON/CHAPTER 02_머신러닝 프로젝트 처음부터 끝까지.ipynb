{
 "cells": [
  {
   "cell_type": "markdown",
   "id": "bb5bd877",
   "metadata": {},
   "source": [
    "### CHAPTER 02_머신러닝 프로젝트 처음부터 끝까지\n",
    "#### HANDS-ON : https://github.com/rickiepark/handson-ml2/blob/master/02_end_to_end_machine_learning_project.ipynb\n",
    "#### NOTION : https://juyeon-studing.notion.site/CHAPTER-02-ddcbc814b30044a3942947362243c4cc"
   ]
  },
  {
   "cell_type": "markdown",
   "id": "0fe04b36",
   "metadata": {},
   "source": [
    "### 2.3 데이터 가져오기"
   ]
  },
  {
   "cell_type": "code",
   "execution_count": null,
   "id": "6a56f0b9",
   "metadata": {},
   "outputs": [],
   "source": [
    "import pandas as pd\n",
    "\n",
    "head() # 처음 다섯 행 보기\n",
    "tail() # 끝 다섯 행 보기\n",
    "info() # 간략한 설명 (전체 행 수, 각 특성의 데이터 타입, 널값이 아닌 값의 개수 확인)\n",
    "value_counts() # 범주형 변수 카테고리 확인, 카테고리마다 개수 확인\n",
    "describe() # 수치형 변수 특성 요약 정보"
   ]
  },
  {
   "cell_type": "code",
   "execution_count": null,
   "id": "770cb2c7",
   "metadata": {},
   "outputs": [],
   "source": [
    "import matplotlib.pyplot as plt\n",
    "hist(bins = 50, figsize = (20,15))\n",
    "plt.show()"
   ]
  },
  {
   "cell_type": "code",
   "execution_count": null,
   "id": "c3d8d45e",
   "metadata": {},
   "outputs": [],
   "source": [
    "#테스트 데이터 분할하기\n",
    "\n",
    "from sklearn.model_selection import train_test_split\n",
    "\n",
    "train_set, test_set = train_test_split(housing, test_size=0.2, random_state=42)"
   ]
  },
  {
   "cell_type": "code",
   "execution_count": null,
   "id": "3315e9d3",
   "metadata": {},
   "outputs": [],
   "source": [
    "#계층적 샘플링\n",
    "from sklearn.model_selection import StratifiedShuffleSplit\n",
    "\n",
    "split = StratifiedShuffleSplit(n_splits=1, test_size=0.2, random_state=42)\n",
    "for train_index, test_index in split.split(housing, housing[\"income_cat\"]):\n",
    "    strat_train_set = housing.loc[train_index]\n",
    "    strat_test_set = housing.loc[test_index]"
   ]
  },
  {
   "cell_type": "markdown",
   "id": "e72717cd",
   "metadata": {},
   "source": [
    "### 2.4 데이터 이해를 위한 탐색과 시각화"
   ]
  },
  {
   "cell_type": "code",
   "execution_count": null,
   "id": "d5992b2c",
   "metadata": {},
   "outputs": [],
   "source": [
    "#분포(산점도) 확인\n",
    "housing.plot(kind=\"scatter\", x=\"longitude\", y=\"latitude\", alpha=0.4,\n",
    "             s=housing[\"population\"]/100, label=\"population\", figsize=(10,7),\n",
    "             c=\"median_house_value\", cmap=plt.get_cmap(\"jet\"), colorbar=True,\n",
    "             sharex=False)\n",
    "\n",
    "#kind : 그래프 종류\n",
    "#s : 원의 크기\n",
    "#cmap=plt.get_cmap(\"jet\") : 높낮이 범위를 가짐"
   ]
  },
  {
   "cell_type": "code",
   "execution_count": null,
   "id": "43994d80",
   "metadata": {},
   "outputs": [],
   "source": [
    "#상관관계 확인\n",
    "#.corr()\n",
    "\n",
    "#상관관계 산점도 확인\n",
    "from pandas.plotting import scatter_matrix\n",
    "\n",
    "attributes = [\"median_house_value\", \"median_income\", \"total_rooms\",\n",
    "              \"housing_median_age\"]\n",
    "scatter_matrix(housing[attributes], figsize=(12, 8))\n",
    "save_fig(\"scatter_matrix_plot\")"
   ]
  },
  {
   "cell_type": "markdown",
   "id": "39ab121e",
   "metadata": {},
   "source": [
    "### 2.5 머신러닝 알고리즘을 위한 데이터 준비"
   ]
  },
  {
   "cell_type": "code",
   "execution_count": null,
   "id": "d8b25129",
   "metadata": {},
   "outputs": [],
   "source": [
    "# 수치형 자료 결측값 처리\n",
    "dropna(subset = []) #해당 구역 삭제\n",
    "drop() #전체 특성 삭제 axis = 행,열\n",
    "fillna() #특정값으로 결측값 채우기\n",
    "\n",
    "from sklearn.impute import SimpleImputer\n",
    "imputer = SimpleImputer(strategy=\"median\")\n",
    "housing_num = housing.drop(\"ocean_proximity\", axis=1)\n",
    "# 다른 방법: housing_num = housing.select_dtypes(include=[np.number])\n",
    "imputer.fit(housing_num)"
   ]
  },
  {
   "cell_type": "code",
   "execution_count": null,
   "id": "4a5dafaa",
   "metadata": {},
   "outputs": [],
   "source": [
    "#범주형 변수 인코딩 - OrdinalEncoder\n",
    "from sklearn.preprocessing import OrdinalEncoder\n",
    "\n",
    "ordinal_encoder = OrdinalEncoder()\n",
    "housing_cat_encoded = ordinal_encoder.fit_transform(housing_cat)\n",
    "housing_cat_encoded[:10]"
   ]
  },
  {
   "cell_type": "code",
   "execution_count": null,
   "id": "293aa591",
   "metadata": {},
   "outputs": [],
   "source": [
    "#범주형 변수 인코딩 - OneHotEncoder\n",
    "from sklearn.preprocessing import OneHotEncoder\n",
    "\n",
    "cat_encoder = OneHotEncoder()\n",
    "housing_cat_1hot = cat_encoder.fit_transform(housing_cat)\n",
    "housing_cat_1hot"
   ]
  },
  {
   "cell_type": "code",
   "execution_count": null,
   "id": "35f23c79",
   "metadata": {},
   "outputs": [],
   "source": [
    "#특성 스케일링 - 정규화\n",
    "from sklearn.preprocessing import MinMaxScaler\n",
    "Scaler = MinMaxScaler()"
   ]
  },
  {
   "cell_type": "code",
   "execution_count": null,
   "id": "09091055",
   "metadata": {},
   "outputs": [],
   "source": [
    "#특성 스케일링 - 표준화\n",
    "from sklearn.preprocessing import StandardScaler\n",
    "Scaler = StandardScaler()"
   ]
  },
  {
   "cell_type": "code",
   "execution_count": null,
   "id": "dea29db4",
   "metadata": {},
   "outputs": [],
   "source": [
    "#변환 파이프라인 - 수치형 특성을 전처리하기 위한 파이프라인\n",
    "\n",
    "from sklearn.pipeline import Pipeline\n",
    "from sklearn.preprocessing import StandardScaler\n",
    "\n",
    "num_pipeline = Pipeline([\n",
    "        ('imputer', SimpleImputer(strategy=\"median\")),\n",
    "        ('attribs_adder', CombinedAttributesAdder()),\n",
    "        ('std_scaler', StandardScaler()),\n",
    "    ])\n",
    "\n",
    "housing_num_tr = num_pipeline.fit_transform(housing_num)"
   ]
  },
  {
   "cell_type": "code",
   "execution_count": null,
   "id": "23f4e0ce",
   "metadata": {},
   "outputs": [],
   "source": [
    "# 하나의 변환기로 각 열마다 적절한 변환\n",
    "from sklearn.compose import ColumnTransformer\n",
    "\n",
    "num_attribs = list(housing_num)\n",
    "cat_attribs = [\"ocean_proximity\"]\n",
    "\n",
    "full_pipeline = ColumnTransformer([\n",
    "        (\"num\", num_pipeline, num_attribs), #숫자형 변환\n",
    "        (\"cat\", OneHotEncoder(), cat_attribs), #범주형 변환\n",
    "    ])\n",
    "\n",
    "housing_prepared = full_pipeline.fit_transform(housing)"
   ]
  },
  {
   "cell_type": "markdown",
   "id": "f64d505b",
   "metadata": {},
   "source": [
    "### 2.6 모델 선택과 훈련"
   ]
  },
  {
   "cell_type": "code",
   "execution_count": null,
   "id": "570cfaa3",
   "metadata": {},
   "outputs": [],
   "source": [
    "# 교차검증\n",
    "from sklearn.model_selection import cross_val_score\n",
    "\n",
    "scores = cross_val_score(tree_reg, housing_prepared, housing_labels,\n",
    "                         scoring=\"neg_mean_squared_error\", cv=10)\n",
    "tree_rmse_scores = np.sqrt(-scores)"
   ]
  },
  {
   "cell_type": "markdown",
   "id": "4db9e3f4",
   "metadata": {},
   "source": [
    "### 2.7 모델 세부 튜닝"
   ]
  },
  {
   "cell_type": "code",
   "execution_count": null,
   "id": "81421323",
   "metadata": {},
   "outputs": [],
   "source": [
    "#그리드 서치\n",
    "from sklearn.model_selection import GridSearchCV\n",
    "\n",
    "param_grid = [\n",
    "    # 12(=3×4)개의 하이퍼파라미터 조합을 시도합니다.\n",
    "    {'n_estimators': [3, 10, 30], 'max_features': [2, 4, 6, 8]},\n",
    "    # bootstrap은 False로 하고 6(=2×3)개의 조합을 시도합니다.\n",
    "    {'bootstrap': [False], 'n_estimators': [3, 10], 'max_features': [2, 3, 4]},\n",
    "  ]\n",
    "\n",
    "forest_reg = RandomForestRegressor(random_state=42)\n",
    "# 다섯 개의 폴드로 훈련하면 총 (12+6)*5=90번의 훈련이 일어납니다.\n",
    "grid_search = GridSearchCV(forest_reg, param_grid, cv=5,\n",
    "                           scoring='neg_mean_squared_error',\n",
    "                           return_train_score=True)\n",
    "grid_search.fit(housing_prepared, housing_labels)\n",
    "\n",
    "#최상의 파라미터 조합\n",
    "grid_search.best_params_\n",
    "\n",
    "#최적의 추정기에 직접 접근\n",
    "grid_search.best_estimator_\n",
    "\n",
    "#평가점수 확인\n",
    "cvres = grid_search.cv_results_\n",
    "for mean_score, params in zip(cvres[\"mean_test_score\"], cvres[\"params\"]):\n",
    "    print(np.sqrt(-mean_score), params)"
   ]
  },
  {
   "cell_type": "code",
   "execution_count": null,
   "id": "4e5a8bfa",
   "metadata": {},
   "outputs": [],
   "source": [
    "#랜덤 탐색\n",
    "from sklearn.model_selection import RandomizedSearchCV\n",
    "from scipy.stats import randint\n",
    "\n",
    "param_distribs = {\n",
    "        'n_estimators': randint(low=1, high=200),\n",
    "        'max_features': randint(low=1, high=8),\n",
    "    } #파라미터 개수 지정\n",
    "\n",
    "forest_reg = RandomForestRegressor(random_state=42)\n",
    "rnd_search = RandomizedSearchCV(forest_reg, param_distributions=param_distribs,\n",
    "                                n_iter=10, cv=5, scoring='neg_mean_squared_error', random_state=42)\n",
    "rnd_search.fit(housing_prepared, housing_labels)\n"
   ]
  },
  {
   "cell_type": "code",
   "execution_count": null,
   "id": "936181fc",
   "metadata": {},
   "outputs": [],
   "source": [
    "#신뢰구간 계산\n",
    "from scipy import stats\n",
    "\n",
    "confidence = 0.95\n",
    "squared_errors = (final_predictions - y_test) ** 2\n",
    "np.sqrt(stats.t.interval(confidence, len(squared_errors) - 1,\n",
    "                         loc=squared_errors.mean(),\n",
    "                         scale=stats.sem(squared_errors)))"
   ]
  }
 ],
 "metadata": {
  "kernelspec": {
   "display_name": "Python [conda env:root] *",
   "language": "python",
   "name": "conda-root-py"
  },
  "language_info": {
   "codemirror_mode": {
    "name": "ipython",
    "version": 3
   },
   "file_extension": ".py",
   "mimetype": "text/x-python",
   "name": "python",
   "nbconvert_exporter": "python",
   "pygments_lexer": "ipython3",
   "version": "3.8.8"
  }
 },
 "nbformat": 4,
 "nbformat_minor": 5
}
