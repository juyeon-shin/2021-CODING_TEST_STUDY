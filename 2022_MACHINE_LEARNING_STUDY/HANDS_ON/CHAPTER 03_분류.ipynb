{
 "cells": [
  {
   "cell_type": "markdown",
   "id": "9e3c319b",
   "metadata": {},
   "source": [
    "## CHAPTER 03 : 분류"
   ]
  },
  {
   "cell_type": "markdown",
   "id": "c60f8708",
   "metadata": {},
   "source": [
    "### 3.2 이진분류기 훈련"
   ]
  },
  {
   "cell_type": "code",
   "execution_count": null,
   "id": "421ec0bf",
   "metadata": {},
   "outputs": [],
   "source": [
    "# 확률적 경사하강법 분류기\n",
    "from sklearn.linear_model import SGDClassifier\n",
    "\n",
    "sgd_clf = SGDClassifier(max_iter=1000, tol=1e-3, random_state=42)\n",
    "sgd_clf.fit(X_train, y_train_5)"
   ]
  },
  {
   "cell_type": "markdown",
   "id": "eac35fa7",
   "metadata": {},
   "source": [
    "### 3.3 성능 측정 (분류기 성능 측정)"
   ]
  },
  {
   "cell_type": "code",
   "execution_count": null,
   "id": "2d2a77fc",
   "metadata": {},
   "outputs": [],
   "source": [
    "# 교차검증을 사용한 정확도 측정\n",
    "from sklearn.model_selection import cross_val_score\n",
    "cross_val_score(sgd_clf, X_train, y_train_5, cv=3, scoring=\"accuracy\")\n",
    "# -> 정확도가 나옴"
   ]
  },
  {
   "cell_type": "code",
   "execution_count": null,
   "id": "aa010e19",
   "metadata": {},
   "outputs": [],
   "source": [
    "# 오차 행렬 - 오차 행렬을 위한 예측값 (교차 검증의 테스트 셋)\n",
    "from sklearn.model_selection import cross_val_predict\n",
    "\n",
    "y_train_pred = cross_val_predict(sgd_clf, X_train, y_train_5, cv=3)"
   ]
  },
  {
   "cell_type": "code",
   "execution_count": null,
   "id": "c0c40e43",
   "metadata": {},
   "outputs": [],
   "source": [
    "# 오차 행렬 - 오차 행렬 생성\n",
    "from sklearn.metrics import confusion_matrix\n",
    "\n",
    "confusion_matrix(y_train_5, y_train_pred)"
   ]
  },
  {
   "cell_type": "code",
   "execution_count": null,
   "id": "97249050",
   "metadata": {},
   "outputs": [],
   "source": [
    "# 정밀도와 재현율 \n",
    "from sklearn.metrics import precision_score, recall_score\n",
    "\n",
    "precision_score(y_train_5, y_train_pred) # 정밀도\n",
    "recall_score(y_train_5, y_train_pred) # 재현율"
   ]
  },
  {
   "cell_type": "code",
   "execution_count": null,
   "id": "6a0c4fd2",
   "metadata": {},
   "outputs": [],
   "source": [
    "# 조화 평균 (F1)\n",
    "from sklearn.metrics import f1_score\n",
    "\n",
    "f1_score(y_train_5, y_train_pred)"
   ]
  },
  {
   "cell_type": "code",
   "execution_count": null,
   "id": "b05cce4c",
   "metadata": {},
   "outputs": [],
   "source": []
  },
  {
   "cell_type": "code",
   "execution_count": null,
   "id": "192cdd99",
   "metadata": {},
   "outputs": [],
   "source": []
  },
  {
   "cell_type": "code",
   "execution_count": null,
   "id": "5785376d",
   "metadata": {},
   "outputs": [],
   "source": []
  },
  {
   "cell_type": "code",
   "execution_count": null,
   "id": "a99abfe0",
   "metadata": {},
   "outputs": [],
   "source": []
  }
 ],
 "metadata": {
  "kernelspec": {
   "display_name": "Python [conda env:root] *",
   "language": "python",
   "name": "conda-root-py"
  },
  "language_info": {
   "codemirror_mode": {
    "name": "ipython",
    "version": 3
   },
   "file_extension": ".py",
   "mimetype": "text/x-python",
   "name": "python",
   "nbconvert_exporter": "python",
   "pygments_lexer": "ipython3",
   "version": "3.8.8"
  }
 },
 "nbformat": 4,
 "nbformat_minor": 5
}
